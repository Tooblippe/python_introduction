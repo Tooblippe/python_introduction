{
 "cells": [
  {
   "cell_type": "code",
   "execution_count": 1,
   "metadata": {
    "collapsed": false,
    "slideshow": {
     "slide_type": "skip"
    }
   },
   "outputs": [
    {
     "name": "stdout",
     "output_type": "stream",
     "text": [
      "Populating the interactive namespace from numpy and matplotlib\n"
     ]
    },
    {
     "name": "stderr",
     "output_type": "stream",
     "text": [
      "WARNING: pylab import has clobbered these variables: ['cm']\n",
      "`%matplotlib` prevents importing * from pylab and numpy\n"
     ]
    }
   ],
   "source": [
    "from IPython.html.services.config import ConfigManager\n",
    "from IPython.utils.path import locate_profile\n",
    "cm = ConfigManager(profile_dir=locate_profile(get_ipython().profile))\n",
    "cm.update('livereveal', {\n",
    "              'theme': 'simple',\n",
    "              'transition': 'concave',\n",
    "              'start_slideshow_at': 'selected',\n",
    "              'width': 960,\n",
    "              'height': 700\n",
    "         \n",
    "})\n",
    "\n",
    "\n",
    "#thems  -Black (default) - White - League - Sky - Beige - Simple, Serif - Blood - Night - Moon - Solarized\n",
    "#transitions - None - Fade - Slide - Convex - Concave - Zoom\n",
    "\n",
    "%pylab inline\n"
   ]
  },
  {
   "cell_type": "markdown",
   "metadata": {
    "slideshow": {
     "slide_type": "slide"
    }
   },
   "source": [
    "![](resources/pres/denel_presentation/c_Slide1.PNG)"
   ]
  },
  {
   "cell_type": "markdown",
   "metadata": {
    "collapsed": true,
    "slideshow": {
     "slide_type": "slide"
    }
   },
   "source": [
    "# Contents [1]\n",
    "* Introduction to Python \n",
    "* Who uses Python?\n",
    "* Python implementations\n",
    "* Where does it run?\n",
    "* Python 2 vs. 3\n",
    "* Batteries included philosophy\n",
    "* Language basics - quick intro\n",
    "* Python vs. Matlab\n",
    "* Python weaknesses"
   ]
  },
  {
   "cell_type": "markdown",
   "metadata": {
    "slideshow": {
     "slide_type": "subslide"
    }
   },
   "source": [
    "# Contents [2]\n",
    "* Python distributions\n",
    "* The Python eco-system you will use\n",
    "* Python IDE's\n",
    "* Python GUI development\n",
    "* Plotting\n",
    "* Scientific Python building blocks\n",
    "* Machine learning\n",
    "* Control systems\n",
    "* Simulation \n",
    "* Time series analysis / Data analysis\n",
    "* Databases"
   ]
  },
  {
   "cell_type": "markdown",
   "metadata": {
    "slideshow": {
     "slide_type": "subslide"
    }
   },
   "source": [
    "# Contents [3]\n",
    "* Signal processing\n",
    "* Optimising code\n",
    "* Multi-processing\n",
    "* Automate everything\n",
    "* Embedded systems\n",
    "* Python and Excel / PowerPoint\n",
    "* Environments\n",
    "* Packaging your code / app\n",
    "* Linking to other languages - Jupyter kernels (Octave, R, Matlab... )"
   ]
  },
  {
   "cell_type": "markdown",
   "metadata": {
    "slideshow": {
     "slide_type": "slide"
    }
   },
   "source": [
    "# About me\n",
    "\n",
    "* Hacker, Electrical Engineer <img src=\"resources/img/game.png\" alt=\"guido\" height=\"200\" align=\"right\">\n",
    "* Currently busy with M.Eng\n",
    "* Principal Consultant at [Eon Consulting](http://www.eon.co.za/index.php/our-services-main/our-services/business-analytics)\n",
    "* Trying to establish a [Python based analytics stack and service](http://www.insightstack.co.za)\n",
    "* Use Windows, Ubuntu GNU/Linux and Mac\n",
    "* People at I work with uses Excel (_alot_) [__big time__] \n",
    "* Hack with Python, Arduino, Energy Loggers, RaspberryPi\n",
    "* Python training classes to grownups and kids\n",
    "* Speaker at PyCon\n"
   ]
  },
  {
   "cell_type": "markdown",
   "metadata": {
    "slideshow": {
     "slide_type": "slide"
    }
   },
   "source": [
    "# What is Python?\n",
    "* Python is an interpreted, object-oriented, high-level programming language\n",
    "* High-level built in data structures <img src=\"resources/img/python.png\" alt=\"guido\"  height=\"50\" align=\"right\"> \n",
    "* Dynamic typing\n",
    "* Attractive for Rapid Application Development  \n",
    "* Use as a scripting or glue language to connect existing components together <img src=\"resources/img/guido.jpg\" alt=\"guido\"  height=\"150\" align=\"right\"> \n",
    "* Immense growth in the data science environment\n",
    "* Large standard library (Batteries Included)\n",
    "* Been around for 25 years\n",
    "* Free and Open Source"
   ]
  },
  {
   "cell_type": "markdown",
   "metadata": {
    "collapsed": true,
    "slideshow": {
     "slide_type": "slide"
    }
   },
   "source": [
    "# Who uses Python? [1]\n",
    " ![](resources/img/python_companies.png)"
   ]
  },
  {
   "cell_type": "markdown",
   "metadata": {
    "slideshow": {
     "slide_type": "slide"
    }
   },
   "source": [
    "# Who uses Python? [2]\n",
    "![](resources/img/python_companies2.png)"
   ]
  },
  {
   "cell_type": "markdown",
   "metadata": {
    "slideshow": {
     "slide_type": "slide"
    }
   },
   "source": [
    "# Python variants and implementations\n",
    "\n",
    " Python runs on many platforms and sofware stacks\n",
    "\n",
    "\n",
    "| Implementation |  Platform  |   |\n",
    "|---|---|---|\n",
    "|CPython - reference| C++ | <img src=\"resources/img/python.png\" alt=\"guido\" height=\"50\"> |\n",
    "|PyPy (JIT, Stackless)| C ++ |<img src=\"resources/img/pypy.png\" alt=\"guido\"  height=\"50\"> |\n",
    "|IronPython| .NET CLR| <img src=\"resources/img/ironpython.png\" alt=\"guido\" height=\"50\"> |\n",
    "|jython| Java| <img src=\"resources/img/jython.gif\" alt=\"guido\"height=\"50\"> |\n",
    "|MicroPython| ARM | <img src=\"resources/img/upython.png\" alt=\"guido\" height=\"100\"> | \n",
    "\n",
    "\n"
   ]
  },
  {
   "cell_type": "markdown",
   "metadata": {
    "slideshow": {
     "slide_type": "slide"
    }
   },
   "source": [
    "## Python runs on most hardware platforms\n",
    "| Platform|  | Platform | |\n",
    "|---|---|---|---|\n",
    "| GNU/Linux    | <img src=\"resources/img/tux.jpg\" alt=\"guido\" height=\"100\"> | Windows                     | <img src=\"resources/img/windows.jpg\" alt=\"guido\" height=\"100\"> | \n",
    "|  Macintosh   | <img src=\"resources/img/mac.jpg\" alt=\"guido\" height=\"100\"> | IOS                         | <img src=\"resources/img/ios.jpg\" alt=\"guido\" height=\"100\"> |  \n",
    "|  Android     | <img src=\"resources/img/android.jpg\" alt=\"guido\" height=\"100\"> | Microprocessors             | <img src=\"resources/img/upython.png\" alt=\"guido\" height=\"100\"> |  \n",
    "|  RaspberryPi | <img src=\"resources/img/raspi.jpg\" alt=\"guido\" height=\"100\"> | Space | Nasa/SpaceStation |\n",
    "\n"
   ]
  },
  {
   "cell_type": "markdown",
   "metadata": {
    "slideshow": {
     "slide_type": "slide"
    }
   },
   "source": [
    "# Compiled vs. Interpreted\n",
    "\n",
    "<img src=\"resources/img/comvsinter.png\" alt=\"guido\" height=\"450\"> \n"
   ]
  },
  {
   "cell_type": "markdown",
   "metadata": {
    "slideshow": {
     "slide_type": "slide"
    }
   },
   "source": [
    "# Applications in the following fields:\n",
    "* Web and Internet development\n",
    "* Data analysis\n",
    "* Numerical processing\n",
    "* Video and audio editing (ILM)\n",
    "* Web scraping\n",
    "* Science\n",
    "* Desktop applications\n",
    "* Software Development\n",
    "* Operating systems\n",
    "* System administration\n"
   ]
  },
  {
   "cell_type": "markdown",
   "metadata": {
    "slideshow": {
     "slide_type": "slide"
    }
   },
   "source": [
    "# Standard library functions\n",
    "* Batteries included\n",
    "* Almost everything you need is included\n",
    "* `os`- Working with the operating system\n",
    "* `httplib`- Grabbing web pages\n",
    "* `email` - Sending email\n",
    "* `glob` - Using glob for filename wildcards\n",
    "* `math` and random\n",
    "* `unittest`- Unit testing framework\n",
    "* `timeit`- Measure execution time of small code snippets\n",
    "* `datetime` - Working with dates and times\n",
    "* `zipfile`, `tarfile`- Working with compressed files\n",
    "* ( ... many, many more ..)\n",
    "\n",
    "* [Complete Library](https://docs.python.org/library/)"
   ]
  },
  {
   "cell_type": "markdown",
   "metadata": {
    "slideshow": {
     "slide_type": "slide"
    }
   },
   "source": [
    "# Python basics \n",
    "(click the link below)\n",
    "* [Python Basics Workbook](resources/notebooks/python_basics.ipynb)\n"
   ]
  },
  {
   "cell_type": "markdown",
   "metadata": {
    "slideshow": {
     "slide_type": "slide"
    }
   },
   "source": [
    "# Python 2 vs. Python 3\n",
    "<img src=\"resources/img/py23.png\" alt=\"guido\"  height=\"550\"> "
   ]
  },
  {
   "cell_type": "markdown",
   "metadata": {
    "slideshow": {
     "slide_type": "slide"
    }
   },
   "source": [
    "# Python compared to Matlab \n",
    "* Python, by definition, is a programming language.\n",
    "* Matlab is a popular numerical computing environment \n",
    "* In Matlab - The standard library does not contain as much generic programming functionality, but does include matrix algebra and an extensive library for data processing and plotting.\n",
    "* To get similar functionality in Python, you'll need the NumPy, SciPy and Matplotlib packages."
   ]
  },
  {
   "cell_type": "markdown",
   "metadata": {
    "slideshow": {
     "slide_type": "slide"
    }
   },
   "source": [
    "# Some disadvantages of Matlab\n",
    "Not much\n",
    "* The algorithms are proprietary\n",
    "* Expensive\n",
    "* Matlab is releasing a new version every 6 months\n",
    "* It makes portability more difficult.\n",
    "* Difficult for 3rd parties to extend or create tools for Matlab"
   ]
  },
  {
   "cell_type": "markdown",
   "metadata": {
    "slideshow": {
     "slide_type": "slide"
    }
   },
   "source": [
    "# Advantages of Matlab\n",
    "* It has a solid amount of functions\n",
    "* Simulink is a product which is simply not available elsewhere\n",
    "* It has a large scientific community; it is used on many universities (but few companies have the money to buy a license)"
   ]
  },
  {
   "cell_type": "markdown",
   "metadata": {
    "slideshow": {
     "slide_type": "slide"
    }
   },
   "source": [
    "# Advantages of Python\n",
    "* Free\n",
    "* You can use it everywhere\n",
    "* Namespaces\n",
    "* Introspection\n",
    "* String manipulation\n",
    "* Portability\n",
    "* Indexing\n",
    "* You can run Matlab in the IPython Notebook\n",
    "* Basically IPython changed the game for most people"
   ]
  },
  {
   "cell_type": "markdown",
   "metadata": {
    "collapsed": true,
    "slideshow": {
     "slide_type": "slide"
    }
   },
   "source": [
    "# Disadvanges of Python\n",
    "* Sometimes conceived to be slow, but we will investigate this further\n"
   ]
  },
  {
   "cell_type": "markdown",
   "metadata": {
    "slideshow": {
     "slide_type": "slide"
    }
   },
   "source": [
    "# Python distributions\n",
    "\n",
    "* Installing some modules require compilation (c++, Fortran)  \n",
    "* Can create frustration to install dependencies\n",
    "* Download and install a free distribution like\n",
    "  * [Anaconda](http://continuum.io/) <img src=\"resources/img/contimuum.png\" alt=\"guido\"  height=\"100\" align=\"right\">\n",
    "  * [Enthought](https://www.enthought.com) \n",
    "* 270+ packages <img src=\"resources/img/enthought.png\" alt=\"guido\"  height=\"100\" align=\"right\">\n",
    "* No modification to system path  \n",
    "* Have taught Python - Linux, Mac, Windows without any problems\n",
    "* Package management and Environments\n",
    "* [more distributions here](https://wiki.python.org/moin/PythonDistributions)"
   ]
  },
  {
   "cell_type": "markdown",
   "metadata": {
    "slideshow": {
     "slide_type": "slide"
    }
   },
   "source": [
    "# The Python interactive ecosystem\n",
    "\n",
    "* Python, IPython, Notebook\n",
    "* Python is the main interpreter\n",
    "* Improved interpreters exist e.g. `IPython`\n",
    "* IPython also bundles the notebook we are using now\n",
    "* IPython interactive computing\n",
    "* IPython Demo (terminal, QTConsole)\n",
    "* [Notebook Basics Demo](resources/notebooks/ipython_notebook_basics.ipynb)"
   ]
  },
  {
   "cell_type": "markdown",
   "metadata": {
    "slideshow": {
     "slide_type": "slide"
    }
   },
   "source": [
    "# Python IDE's\n",
    "* Integrated Development Environments -  a personal choice\n",
    "* Many options exists\n",
    "* After countless hours of searching and trying I recommend:\n",
    "\n",
    "### Free\n",
    "* Spyder bundled with Anaconda [Demo]\n",
    "* Enthought Canopy\n",
    "* Python tools for Visual Studio\n",
    "* PyDev for Eclipse\n",
    "* Rodeo by yhat\n",
    "\n",
    "### Commercial\n",
    "* PyCharm (has community edition for free)"
   ]
  },
  {
   "cell_type": "markdown",
   "metadata": {
    "slideshow": {
     "slide_type": "slide"
    }
   },
   "source": [
    "# Plotting\n",
    "* Matplotlib\n",
    "* Bokeh\n",
    "* ggplot (R) ported\n",
    "\n",
    "\n",
    "[Example Notebook - Matplotlib](resources\\notebooks\\plotting_basics.ipynb)\n",
    "\n",
    "[Example Notebook - mpld3 ](resources\\notebooks\\mpld3_basics.ipynb)\n",
    "![](resources\\img\\plot.png)\n",
    "\n"
   ]
  },
  {
   "cell_type": "markdown",
   "metadata": {
    "slideshow": {
     "slide_type": "slide"
    }
   },
   "source": [
    "#IPython Notebook Widgets\n",
    "* [Widget Basics Demo](resources/notebooks/widget_basics.ipynb)\n",
    "* [Lorenz System of Differential Equations](resources/notebooks/LDE.ipynb)"
   ]
  },
  {
   "cell_type": "code",
   "execution_count": null,
   "metadata": {
    "collapsed": true
   },
   "outputs": [],
   "source": []
  }
 ],
 "metadata": {
  "celltoolbar": "Slideshow",
  "kernelspec": {
   "display_name": "Python 2",
   "language": "python",
   "name": "python2"
  },
  "language_info": {
   "codemirror_mode": {
    "name": "ipython",
    "version": 2
   },
   "file_extension": ".py",
   "mimetype": "text/x-python",
   "name": "python",
   "nbconvert_exporter": "python",
   "pygments_lexer": "ipython2",
   "version": "2.7.9"
  }
 },
 "nbformat": 4,
 "nbformat_minor": 0
}
