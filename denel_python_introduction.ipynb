{
 "cells": [
  {
   "cell_type": "code",
   "execution_count": 1,
   "metadata": {
    "collapsed": false,
    "slideshow": {
     "slide_type": "skip"
    }
   },
   "outputs": [
    {
     "name": "stdout",
     "output_type": "stream",
     "text": [
      "Populating the interactive namespace from numpy and matplotlib\n"
     ]
    },
    {
     "name": "stderr",
     "output_type": "stream",
     "text": [
      "WARNING: pylab import has clobbered these variables: ['cm']\n",
      "`%matplotlib` prevents importing * from pylab and numpy\n"
     ]
    }
   ],
   "source": [
    "from IPython.html.services.config import ConfigManager\n",
    "from IPython.utils.path import locate_profile\n",
    "cm = ConfigManager(profile_dir=locate_profile(get_ipython().profile))\n",
    "cm.update('livereveal', {\n",
    "              'theme': 'simple',\n",
    "              'transition': 'concave',\n",
    "              'start_slideshow_at': 'selected',\n",
    "              'width': 960,\n",
    "              'height': 700\n",
    "         \n",
    "})\n",
    "\n",
    "\n",
    "#thems  -Black (default) - White - League - Sky - Beige - Simple, Serif - Blood - Night - Moon - Solarized\n",
    "#transitions - None - Fade - Slide - Convex - Concave - Zoom\n",
    "\n",
    "%pylab inline\n",
    "\n",
    "# --- end\n",
    "\n"
   ]
  },
  {
   "cell_type": "markdown",
   "metadata": {
    "slideshow": {
     "slide_type": "slide"
    }
   },
   "source": [
    "![](resources/pres/denel_presentation/c_Slide1.PNG)"
   ]
  },
  {
   "cell_type": "markdown",
   "metadata": {
    "collapsed": true,
    "slideshow": {
     "slide_type": "slide"
    }
   },
   "source": [
    "# Contents [1] \n",
    "<img src=\"resources/img/python.png\" alt=\"guido\"  height=\"100\" align=\"right\"> \n",
    "* Introduction to Python \n",
    "* Who uses Python?\n",
    "* Python implementations\n",
    "* Where does it run?\n",
    "* Python 2 vs. 3\n",
    "* Batteries included philosophy\n",
    "* Language basics - quick intro\n",
    "* Python vs. Matlab\n",
    "* Python weaknesses"
   ]
  },
  {
   "cell_type": "markdown",
   "metadata": {
    "slideshow": {
     "slide_type": "slide"
    }
   },
   "source": [
    "# Contents [2]\n",
    "<img src=\"resources/img/python.png\" alt=\"guido\"  height=\"100\" align=\"right\"> \n",
    "* Python distributions\n",
    "* The Python eco-system you will use\n",
    "* Python IDE's\n",
    "* Python GUI development\n",
    "* Plotting\n",
    "* Scientific Python building blocks\n",
    "* Machine learning\n",
    "* Control systems\n",
    "* Simulation \n",
    "* Time series analysis / Data analysis\n",
    "* Databases"
   ]
  },
  {
   "cell_type": "markdown",
   "metadata": {
    "slideshow": {
     "slide_type": "slide"
    }
   },
   "source": [
    "# Contents [3]\n",
    "<img src=\"resources/img/python.png\" alt=\"guido\"  height=\"100\" align=\"right\"> \n",
    "* Signal processing\n",
    "* Optimising code\n",
    "* Multi-processing\n",
    "* Automate everything\n",
    "* Embedded systems\n",
    "* Python and Excel / PowerPoint\n",
    "* Environments\n",
    "* Packaging your code / app\n",
    "* Linking to other languages - Jupyter kernels (Octave, R, Matlab... )"
   ]
  },
  {
   "cell_type": "markdown",
   "metadata": {
    "slideshow": {
     "slide_type": "slide"
    }
   },
   "source": [
    "# About me\n",
    "\n",
    "* Hacker, Electrical Engineer <img src=\"resources/img/game.png\" alt=\"guido\" height=\"200\" align=\"right\">\n",
    "* Currently busy with M.Eng\n",
    "* Principal Consultant at [Eon Consulting](http://www.eon.co.za/index.php/our-services-main/our-services/business-analytics)\n",
    "* Trying to establish a [Python based analytics stack and service](http://www.insightstack.co.za)\n",
    "* Use Windows, Ubuntu GNU/Linux and Mac\n",
    "* People at I work with uses Excel (_alot_) [__big time__] \n",
    "* Hack with Python, Arduino, Energy Loggers, RaspberryPi\n",
    "* Python training classes to grownups and kids\n",
    "* Speaker at PyCon\n"
   ]
  },
  {
   "cell_type": "markdown",
   "metadata": {
    "slideshow": {
     "slide_type": "slide"
    }
   },
   "source": [
    "# What is Python?\n",
    "* Python is an interpreted, object-oriented, high-level programming language\n",
    "* High-level built in data structures <img src=\"resources/img/python.png\" alt=\"guido\"  height=\"50\" align=\"right\"> \n",
    "* Dynamic typing\n",
    "* Attractive for Rapid Application Development  \n",
    "* Use as a scripting or glue language to connect existing components together <img src=\"resources/img/guido.jpg\" alt=\"guido\"  height=\"150\" align=\"right\"> \n",
    "* Immense growth in the data science environment\n",
    "* Large standard library (Batteries Included)\n",
    "* Been around for 25 years\n",
    "* Free and Open Source"
   ]
  },
  {
   "cell_type": "markdown",
   "metadata": {
    "collapsed": true,
    "slideshow": {
     "slide_type": "slide"
    }
   },
   "source": [
    "# Who uses Python? [1]\n",
    " ![](resources/img/python_companies.png)"
   ]
  },
  {
   "cell_type": "markdown",
   "metadata": {
    "slideshow": {
     "slide_type": "slide"
    }
   },
   "source": [
    "# Who uses Python? [2]\n",
    "![](resources/img/python_companies2.png)"
   ]
  },
  {
   "cell_type": "markdown",
   "metadata": {
    "slideshow": {
     "slide_type": "slide"
    }
   },
   "source": [
    "# Python variants and implementations\n",
    "\n",
    " Python runs on many platforms and sofware stacks\n",
    "\n",
    "\n",
    "| Implementation |  Platform  |   |\n",
    "|---|---|---|\n",
    "|CPython - reference| C++ | <img src=\"resources/img/python.png\" alt=\"guido\" height=\"50\"> |\n",
    "|PyPy (JIT, Stackless)| C ++ |<img src=\"resources/img/pypy.png\" alt=\"guido\"  height=\"50\"> |\n",
    "|IronPython| .NET CLR| <img src=\"resources/img/ironpython.png\" alt=\"guido\" height=\"50\"> |\n",
    "|jython| Java| <img src=\"resources/img/jython.gif\" alt=\"guido\"height=\"50\"> |\n",
    "|MicroPython| ARM | <img src=\"resources/img/upython.png\" alt=\"guido\" height=\"100\"> | \n",
    "\n",
    "\n"
   ]
  },
  {
   "cell_type": "markdown",
   "metadata": {
    "slideshow": {
     "slide_type": "slide"
    }
   },
   "source": [
    "## Python runs on most hardware platforms\n",
    "| Platform|  | Platform | |\n",
    "|---|---|---|---|\n",
    "| GNU/Linux    | <img src=\"resources/img/tux.jpg\" alt=\"guido\" height=\"100\"> | Windows                     | <img src=\"resources/img/windows.jpg\" alt=\"guido\" height=\"100\"> | \n",
    "|  Macintosh   | <img src=\"resources/img/mac.jpg\" alt=\"guido\" height=\"100\"> | IOS                         | <img src=\"resources/img/ios.jpg\" alt=\"guido\" height=\"100\"> |  \n",
    "|  Android     | <img src=\"resources/img/android.jpg\" alt=\"guido\" height=\"100\"> | Microprocessors             | <img src=\"resources/img/upython.png\" alt=\"guido\" height=\"100\"> |  \n",
    "|  RaspberryPi | <img src=\"resources/img/raspi.jpg\" alt=\"guido\" height=\"100\"> | Space | Nasa/SpaceStation |\n",
    "\n"
   ]
  },
  {
   "cell_type": "markdown",
   "metadata": {
    "slideshow": {
     "slide_type": "slide"
    }
   },
   "source": [
    "# Compiled vs. Interpreted\n",
    "\n",
    "<img src=\"resources/img/comvsinter.png\" alt=\"guido\" height=\"450\"> \n"
   ]
  },
  {
   "cell_type": "markdown",
   "metadata": {
    "slideshow": {
     "slide_type": "slide"
    }
   },
   "source": [
    "# Applications in the following fields:\n",
    "* Web and Internet development  \n",
    "* Data analysis\n",
    "* Numerical processing\n",
    "* Video and audio editing (ILM)\n",
    "* Web scraping\n",
    "* Science\n",
    "* Desktop applications\n",
    "* Software Development\n",
    "* Operating systems\n",
    "* System administration\n"
   ]
  },
  {
   "cell_type": "markdown",
   "metadata": {
    "slideshow": {
     "slide_type": "slide"
    }
   },
   "source": [
    "# Standard library functions\n",
    "* Batteries included <img src=\"resources/img/stdlib.jpg\" alt=\"guido\"  height=\"450\" align=\"right\"> \n",
    "* Almost everything you need is included\n",
    "* `os`- Working with the operating system\n",
    "* `httplib`- Grabbing web pages\n",
    "* `email` - Sending email\n",
    "* `glob` - Using glob for filename wildcards\n",
    "* `math` and random\n",
    "* `unittest`- Unit testing framework\n",
    "* `timeit`- Measure execution time of small code snippets\n",
    "* `datetime` - Working with dates and times\n",
    "* `zipfile`, `tarfile`- Working with compressed files\n",
    "* ( ... many, many more ..)\n",
    "\n",
    "* [Complete Library](https://docs.python.org/library/)"
   ]
  },
  {
   "cell_type": "markdown",
   "metadata": {
    "slideshow": {
     "slide_type": "slide"
    }
   },
   "source": [
    "# Python basics \n",
    "(click the link below)\n",
    "* [Python Basics Workbook](resources/notebooks/python_basics.ipynb)\n"
   ]
  },
  {
   "cell_type": "markdown",
   "metadata": {
    "slideshow": {
     "slide_type": "slide"
    }
   },
   "source": [
    "# Python 2 vs. Python 3\n",
    "<img src=\"resources/img/py23.png\" alt=\"guido\"  height=\"550\"> "
   ]
  },
  {
   "cell_type": "markdown",
   "metadata": {
    "slideshow": {
     "slide_type": "slide"
    }
   },
   "source": [
    "# Python compared to Matlab \n",
    "* Python, by definition, is a programming language. <img src=\"resources/img/matlab.jpg\" alt=\"guido\"  height=\"350\" align=\"right\"> \n",
    "* Matlab is a popular numerical computing environment \n",
    "* In Matlab - The standard library does not contain as much generic programming functionality, but does include matrix algebra and an extensive library for data processing and plotting.\n",
    "* To get similar functionality in Python, you'll need the NumPy, SciPy and Matplotlib packages."
   ]
  },
  {
   "cell_type": "markdown",
   "metadata": {
    "slideshow": {
     "slide_type": "slide"
    }
   },
   "source": [
    "# Some disadvantages of Matlab\n",
    "Not much <img src=\"resources/img/pvsml.jpg\" alt=\"guido\"  height=\"350\" align=\"right\"> \n",
    "* The algorithms are proprietary\n",
    "* Expensive\n",
    "* Matlab is releasing a new version every 6 months\n",
    "* It makes portability more difficult.\n",
    "* Difficult for 3rd parties to extend or create tools for Matlab"
   ]
  },
  {
   "cell_type": "markdown",
   "metadata": {
    "slideshow": {
     "slide_type": "slide"
    }
   },
   "source": [
    "# Advantages of Matlab\n",
    "* It has a solid amount of functions\n",
    "* Simulink is a product which is simply not available elsewhere\n",
    "* It has a large scientific community; it is used on many universities (but few companies have the money to buy a license)"
   ]
  },
  {
   "cell_type": "markdown",
   "metadata": {
    "slideshow": {
     "slide_type": "slide"
    }
   },
   "source": [
    "# Advantages of Python\n",
    "* Free\n",
    "* You can use it everywhere\n",
    "* Namespaces\n",
    "* Introspection\n",
    "* String manipulation\n",
    "* Portability\n",
    "* You can run Matlab in the IPython Notebook\n",
    "* Basically IPython changed the game for most people"
   ]
  },
  {
   "cell_type": "markdown",
   "metadata": {
    "collapsed": true,
    "slideshow": {
     "slide_type": "slide"
    }
   },
   "source": [
    "# Disadvanges of Python\n",
    "* Sometimes conceived to be slow, but we will investigate this further\n"
   ]
  },
  {
   "cell_type": "markdown",
   "metadata": {
    "slideshow": {
     "slide_type": "slide"
    }
   },
   "source": [
    "# Python distributions\n",
    "\n",
    "* Installing some modules require compilation (c++, Fortran)  \n",
    "* Can create frustration to install dependencies\n",
    "* Download and install a free distribution like\n",
    "  * [Anaconda](http://continuum.io/) <img src=\"resources/img/contimuum.png\" alt=\"guido\"  height=\"100\" align=\"right\">\n",
    "  * [Enthought](https://www.enthought.com) \n",
    "* 270+ packages <img src=\"resources/img/enthought.png\" alt=\"guido\"  height=\"100\" align=\"right\">\n",
    "* No modification to system path  \n",
    "* Have taught Python - Linux, Mac, Windows without any problems\n",
    "* Package management and Environments\n",
    "* [more distributions here](https://wiki.python.org/moin/PythonDistributions)"
   ]
  },
  {
   "cell_type": "markdown",
   "metadata": {
    "slideshow": {
     "slide_type": "slide"
    }
   },
   "source": [
    "# The Python interactive ecosystem\n",
    "\n",
    "* Python, IPython, Notebook <img src=\"resources/img/notebook.jpg\" alt=\"guido\"  height=\"350\" align=\"right\"> \n",
    "* Python is the main interpreter\n",
    "* Improved interpreters exist e.g. `IPython`\n",
    "* IPython also bundles the notebook we are using now\n",
    "* IPython interactive computing\n",
    "* IPython Demo (terminal, QTConsole)\n",
    "* [Notebook Basics Demo](resources/notebooks/ipython_notebook_basics.ipynb)"
   ]
  },
  {
   "cell_type": "markdown",
   "metadata": {
    "slideshow": {
     "slide_type": "slide"
    }
   },
   "source": [
    "# Python IDE's\n",
    "* Integrated Development Environments -  a personal choice <img src=\"resources/img/ide.jpg\" alt=\"guido\"  height=\"250\" align=\"right\"> \n",
    "* Many options exists\n",
    "* After countless hours of searching and trying I recommend:\n",
    "\n",
    "### Free\n",
    "* Spyder bundled with Anaconda [Demo]\n",
    "* IDLE (comes with base)\n",
    "* Enthought Canopy\n",
    "* Python tools for Visual Studio\n",
    "* PyDev for Eclipse\n",
    "* Rodeo by yhat\n",
    "\n",
    "### Commercial\n",
    "* PyCharm (has community edition for free)"
   ]
  },
  {
   "cell_type": "markdown",
   "metadata": {
    "slideshow": {
     "slide_type": "slide"
    }
   },
   "source": [
    "# Plotting\n",
    "* Matplotlib\n",
    "* Bokeh\n",
    "* ggplot (R) ported\n",
    "\n",
    "\n",
    "[Example Notebook - Matplotlib](resources\\notebooks\\plotting_basics.ipynb)\n",
    "\n",
    "[Example Notebook - mpld3 ](resources\\notebooks\\mpld3_basics.ipynb)\n",
    "![](resources\\img\\plot.png)\n",
    "\n"
   ]
  },
  {
   "cell_type": "markdown",
   "metadata": {
    "slideshow": {
     "slide_type": "slide"
    }
   },
   "source": [
    "#IPython Notebook Widgets\n",
    "* [Widget Basics Demo](resources/notebooks/widget_basics.ipynb)\n",
    "* [Lorenz System of Differential Equations](resources/notebooks/LDE.ipynb)"
   ]
  },
  {
   "cell_type": "markdown",
   "metadata": {
    "slideshow": {
     "slide_type": "slide"
    }
   },
   "source": [
    "# Python GUI development  (1)\n",
    "* Tkinter comes with Python std lib\n",
    "* I found GUI development to be `non` trivial \n",
    "\n",
    "* Pyside - binding of the cross-platform GUI toolkit Qt\n",
    "\n",
    "* Kivy\n",
    " * innovative user interfaces, such as multi-touch apps.\n",
    " * runs on Linux, Windows, Mac, Android and iOS \n",
    " * could not get IOS working\n",
    "\n",
    "<img src=\"resources/img/kivy.png\" alt=\"guido\"  height=\"150\" align=\"left\"> \n",
    "<img src=\"resources/img/pyside.png\" alt=\"guido\"  height=\"150\" align=\"right\"> "
   ]
  },
  {
   "cell_type": "markdown",
   "metadata": {
    "slideshow": {
     "slide_type": "slide"
    }
   },
   "source": [
    "# Python GUI development  (2)\n",
    "## Mayavi for scientific apps \n",
    "<img src=\"resources/img/mayavi.jpg\" alt=\"guido\"> "
   ]
  },
  {
   "cell_type": "markdown",
   "metadata": {
    "collapsed": true,
    "slideshow": {
     "slide_type": "slide"
    }
   },
   "source": [
    "# Python GUI development  (3)\n",
    "## TK example - Tetris\n",
    "\n",
    "(source - http://code.google.com/p/tetris-tk)"
   ]
  },
  {
   "cell_type": "code",
   "execution_count": 1,
   "metadata": {
    "collapsed": false,
    "slideshow": {
     "slide_type": "fragment"
    }
   },
   "outputs": [],
   "source": [
    "#!/usr/bin/env python\n",
    "\"\"\"\n",
    "Tetris Tk - A tetris clone written in Python using the Tkinter GUI library.\n",
    "\n",
    "Controls:\n",
    "    Left Arrow      Move left\n",
    "    Right Arrow     Move right\n",
    "    Down Arrow      Move down\n",
    "    Up Arrow        Drop Tetronimoe to the bottom\n",
    "    'a'             Rotate anti-clockwise (to the left)\n",
    "    'b'             Rotate clockwise (to the right)\n",
    "    'p'             Pause the game.\n",
    "\"\"\"\n",
    "\n",
    "from Tkinter import *\n",
    "from time import sleep\n",
    "from random import randint\n",
    "import tkMessageBox\n",
    "import sys\n",
    "\n",
    "SCALE = 20\n",
    "OFFSET = 3\n",
    "MAXX = 10\n",
    "MAXY = 22\n",
    "\n",
    "NO_OF_LEVELS = 10\n",
    "\n",
    "LEFT = \"left\"\n",
    "RIGHT = \"right\"\n",
    "DOWN = \"down\"\n",
    "\n",
    "direction_d = { \"left\": (-1, 0), \"right\": (1, 0), \"down\": (0, 1) }\n",
    "\n",
    "def level_thresholds( first_level, no_of_levels ):\n",
    "    \"\"\"\n",
    "    Calculates the score at which the level will change, for n levels.\n",
    "    \"\"\"\n",
    "    thresholds =[]\n",
    "    for x in xrange( no_of_levels ):\n",
    "        multiplier = 2**x\n",
    "        thresholds.append( first_level * multiplier )\n",
    "    \n",
    "    return thresholds\n",
    "\n",
    "class status_bar( Frame ):\n",
    "    \"\"\"\n",
    "    Status bar to display the score and level\n",
    "    \"\"\"\n",
    "    def __init__(self, parent):\n",
    "        Frame.__init__( self, parent )\n",
    "        self.label = Label( self, bd=1, relief=SUNKEN, anchor=W )\n",
    "        self.label.pack( fill=X )\n",
    "        \n",
    "    def set( self, format, *args):\n",
    "        self.label.config( text = format % args)\n",
    "        self.label.update_idletasks()\n",
    "        \n",
    "    def clear( self ):\n",
    "        self.label.config(test=\"\")\n",
    "        self.label.update_idletasks()\n",
    "\n",
    "class Board( Frame ):\n",
    "    \"\"\"\n",
    "    The board represents the tetris playing area. A grid of x by y blocks.\n",
    "    \"\"\"\n",
    "    def __init__(self, parent, scale=20, max_x=10, max_y=20, offset=3):\n",
    "        \"\"\"\n",
    "        Init and config the tetris board, default configuration:\n",
    "        Scale (block size in pixels) = 20\n",
    "        max X (in blocks) = 10\n",
    "        max Y (in blocks) = 20\n",
    "        offset (in pixels) = 3\n",
    "        \"\"\"\n",
    "        Frame.__init__(self, parent)\n",
    "        \n",
    "        # blocks are indexed by there corrdinates e.g. (4,5), these are\n",
    "        self.landed = {}\n",
    "        self.parent = parent\n",
    "        self.scale = scale\n",
    "        self.max_x = max_x\n",
    "        self.max_y = max_y\n",
    "        self.offset = offset        \n",
    "\n",
    "        self.canvas = Canvas(parent,\n",
    "                             height=(max_y * scale)+offset,\n",
    "                             width= (max_x * scale)+offset)\n",
    "        self.canvas.pack()\n",
    "\n",
    "    def check_for_complete_row( self, blocks ):\n",
    "        \"\"\"\n",
    "        Look for a complete row of blocks, from the bottom up until the top row\n",
    "        or until an empty row is reached.\n",
    "        \"\"\"\n",
    "        rows_deleted = 0\n",
    "        \n",
    "        # Add the blocks to those in the grid that have already 'landed'\n",
    "        for block in blocks:\n",
    "            self.landed[ block.coord() ] = block.id\n",
    "        \n",
    "        empty_row = 0\n",
    "\n",
    "        # find the first empty row\n",
    "        for y in xrange(self.max_y -1, -1, -1):\n",
    "            row_is_empty = True\n",
    "            for x in xrange(self.max_x):\n",
    "                if self.landed.get((x,y), None):\n",
    "                    row_is_empty = False\n",
    "                    break;\n",
    "            if row_is_empty:\n",
    "                empty_row = y\n",
    "                break\n",
    "\n",
    "        # Now scan up and until a complete row is found. \n",
    "        y = self.max_y - 1\n",
    "        while y > empty_row:\n",
    " \n",
    "            complete_row = True\n",
    "            for x in xrange(self.max_x):\n",
    "                if self.landed.get((x,y), None) is None:\n",
    "                    complete_row = False\n",
    "                    break;\n",
    "\n",
    "            if complete_row:\n",
    "                rows_deleted += 1\n",
    "                \n",
    "                #delete the completed row\n",
    "                for x in xrange(self.max_x):\n",
    "                    block = self.landed.pop((x,y))\n",
    "                    self.delete_block(block)\n",
    "                    del block\n",
    "\n",
    "                    \n",
    "                # move all the rows above it down\n",
    "                for ay in xrange(y-1, empty_row, -1):\n",
    "                    for x in xrange(self.max_x):\n",
    "                        block = self.landed.get((x,ay), None)\n",
    "                        if block:\n",
    "                            block = self.landed.pop((x,ay))\n",
    "                            dx,dy = direction_d[DOWN]\n",
    "                            \n",
    "                            self.move_block(block, direction_d[DOWN])\n",
    "                            self.landed[(x+dx, ay+dy)] = block\n",
    "\n",
    "                # move the empty row down index down too\n",
    "                empty_row +=1\n",
    "                # y stays same as row above has moved down.\n",
    "                \n",
    "            else:\n",
    "                y -= 1\n",
    "                \n",
    "        #self.output() # non-gui diagnostic\n",
    "        \n",
    "        # return the score, calculated by the number of rows deleted.        \n",
    "        return (100 * rows_deleted) * rows_deleted\n",
    "                \n",
    "    def output( self ):\n",
    "        for y in xrange(self.max_y):\n",
    "            line = []\n",
    "            for x in xrange(self.max_x):\n",
    "                if self.landed.get((x,y), None):\n",
    "                    line.append(\"X\")\n",
    "                else:\n",
    "                    line.append(\".\")\n",
    "            print \"\".join(line)\n",
    "            \n",
    "    def add_block( self, (x, y), colour):\n",
    "        \"\"\"\n",
    "        Create a block by drawing it on the canvas, return\n",
    "        it's ID to the caller.\n",
    "        \"\"\"\n",
    "        rx = (x * self.scale) + self.offset\n",
    "        ry = (y * self.scale) + self.offset\n",
    "        \n",
    "        return self.canvas.create_rectangle(\n",
    "            rx, ry, rx+self.scale, ry+self.scale, fill=colour\n",
    "        )\n",
    "        \n",
    "    def move_block( self, id, coord):\n",
    "        \"\"\"\n",
    "        Move the block, identified by 'id', by x and y. Note this is a\n",
    "        relative movement, e.g. move 10, 10 means move 10 pixels right and\n",
    "        10 pixels down NOT move to position 10,10. \n",
    "        \"\"\"\n",
    "        x, y = coord\n",
    "        self.canvas.move(id, x*self.scale, y*self.scale)\n",
    "        \n",
    "    def delete_block(self, id):\n",
    "        \"\"\"\n",
    "        Delete the identified block\n",
    "        \"\"\"\n",
    "        self.canvas.delete( id )\n",
    "        \n",
    "    def check_block( self, (x, y) ):\n",
    "        \"\"\"\n",
    "        Check if the x, y coordinate can have a block placed there.\n",
    "        That is; if there is a 'landed' block there or it is outside the\n",
    "        board boundary, then return False, otherwise return true.\n",
    "        \"\"\"\n",
    "        if x < 0 or x >= self.max_x or y < 0 or y >= self.max_y:\n",
    "            return False\n",
    "        elif self.landed.has_key( (x, y) ):\n",
    "            return False\n",
    "        else:\n",
    "            return True\n",
    "\n",
    "class Block(object):\n",
    "    def __init__( self, id, (x, y)):\n",
    "        self.id = id\n",
    "        self.x = x\n",
    "        self.y = y\n",
    "        \n",
    "    def coord( self ):\n",
    "        return (self.x, self.y)\n",
    "        \n",
    "class shape(object):\n",
    "    \"\"\"\n",
    "    Shape is the  Base class for the game pieces e.g. square, T, S, Z, L,\n",
    "    reverse L and I. Shapes are constructed of blocks. \n",
    "    \"\"\"\n",
    "    @classmethod        \n",
    "    def check_and_create(cls, board, coords, colour ):\n",
    "        \"\"\"\n",
    "        Check if the blocks that make the shape can be placed in empty coords\n",
    "        before creating and returning the shape instance. Otherwise, return\n",
    "        None.\n",
    "        \"\"\"\n",
    "        for coord in coords:\n",
    "            if not board.check_block( coord ):\n",
    "                return None\n",
    "        \n",
    "        return cls( board, coords, colour)\n",
    "            \n",
    "    def __init__(self, board, coords, colour ):\n",
    "        \"\"\"\n",
    "        Initialise the shape base.\n",
    "        \"\"\"\n",
    "        self.board = board\n",
    "        self.blocks = []\n",
    "        \n",
    "        for coord in coords:\n",
    "            block = Block(self.board.add_block( coord, colour), coord)\n",
    "            \n",
    "            self.blocks.append( block )\n",
    "            \n",
    "    def move( self, direction ):\n",
    "        \"\"\"\n",
    "        Move the blocks in the direction indicated by adding (dx, dy) to the\n",
    "        current block coordinates\n",
    "        \"\"\"\n",
    "        d_x, d_y = direction_d[direction]\n",
    "        \n",
    "        for block in self.blocks:\n",
    "\n",
    "            x = block.x + d_x\n",
    "            y = block.y + d_y\n",
    "            \n",
    "            if not self.board.check_block( (x, y) ):\n",
    "                return False\n",
    "            \n",
    "        for block in self.blocks:\n",
    "            \n",
    "            x = block.x + d_x\n",
    "            y = block.y + d_y\n",
    "            \n",
    "            self.board.move_block( block.id, (d_x, d_y) )\n",
    "            \n",
    "            block.x = x\n",
    "            block.y = y\n",
    "        \n",
    "        return True\n",
    "            \n",
    "    def rotate(self, clockwise = True):\n",
    "        \"\"\"\n",
    "        Rotate the blocks around the 'middle' block, 90-degrees. The\n",
    "        middle block is always the index 0 block in the list of blocks\n",
    "        that make up a shape.\n",
    "        \"\"\"\n",
    "        # TO DO: Refactor for DRY\n",
    "        middle = self.blocks[0]\n",
    "        rel = []\n",
    "        for block in self.blocks:\n",
    "            rel.append( (block.x-middle.x, block.y-middle.y ) )\n",
    "            \n",
    "        # to rotate 90-degrees (x,y) = (-y, x)\n",
    "        # First check that the there are no collisions or out of bounds moves.\n",
    "        for idx in xrange(len(self.blocks)):\n",
    "            rel_x, rel_y = rel[idx]\n",
    "            if clockwise:\n",
    "                x = middle.x+rel_y\n",
    "                y = middle.y-rel_x\n",
    "            else:\n",
    "                x = middle.x-rel_y\n",
    "                y = middle.y+rel_x\n",
    "            \n",
    "            if not self.board.check_block( (x, y) ):\n",
    "                return False\n",
    "            \n",
    "        for idx in xrange(len(self.blocks)):\n",
    "            rel_x, rel_y = rel[idx]\n",
    "            if clockwise:\n",
    "                x = middle.x+rel_y\n",
    "                y = middle.y-rel_x\n",
    "            else:\n",
    "                x = middle.x-rel_y\n",
    "                y = middle.y+rel_x\n",
    "            \n",
    "            \n",
    "            diff_x = x - self.blocks[idx].x \n",
    "            diff_y = y - self.blocks[idx].y \n",
    "            \n",
    "            self.board.move_block( self.blocks[idx].id, (diff_x, diff_y) )\n",
    "            \n",
    "            self.blocks[idx].x = x\n",
    "            self.blocks[idx].y = y\n",
    "       \n",
    "        return True\n",
    "    \n",
    "class shape_limited_rotate( shape ):\n",
    "    \"\"\"\n",
    "    This is a base class for the shapes like the S, Z and I that don't fully\n",
    "    rotate (which would result in the shape moving *up* one block on a 180).\n",
    "    Instead they toggle between 90 degrees clockwise and then back 90 degrees\n",
    "    anti-clockwise.\n",
    "    \"\"\"\n",
    "    def __init__( self, board, coords, colour ):\n",
    "        self.clockwise = True\n",
    "        super(shape_limited_rotate, self).__init__(board, coords, colour)\n",
    "    \n",
    "    def rotate(self, clockwise=True):\n",
    "        \"\"\"\n",
    "        Clockwise, is used to indicate if the shape should rotate clockwise\n",
    "        or back again anti-clockwise. It is toggled.\n",
    "        \"\"\"\n",
    "        super(shape_limited_rotate, self).rotate(clockwise=self.clockwise)\n",
    "        if self.clockwise:\n",
    "            self.clockwise=False\n",
    "        else:\n",
    "            self.clockwise=True\n",
    "        \n",
    "\n",
    "class square_shape( shape ):\n",
    "    @classmethod\n",
    "    def check_and_create( cls, board ):\n",
    "        coords = [(4,0),(5,0),(4,1),(5,1)]\n",
    "        return super(square_shape, cls).check_and_create(board, coords, \"red\")\n",
    "        \n",
    "    def rotate(self, clockwise=True):\n",
    "        \"\"\"\n",
    "        Override the rotate method for the square shape to do exactly nothing!\n",
    "        \"\"\"\n",
    "        pass\n",
    "        \n",
    "class t_shape( shape ):\n",
    "    @classmethod\n",
    "    def check_and_create( cls, board ):\n",
    "        coords = [(4,0),(3,0),(5,0),(4,1)]\n",
    "        return super(t_shape, cls).check_and_create(board, coords, \"yellow\" )\n",
    "        \n",
    "class l_shape( shape ):\n",
    "    @classmethod\n",
    "    def check_and_create( cls, board ):\n",
    "        coords = [(4,0),(3,0),(5,0),(3,1)]\n",
    "        return super(l_shape, cls).check_and_create(board, coords, \"orange\")\n",
    "    \n",
    "class reverse_l_shape( shape ):\n",
    "    @classmethod\n",
    "    def check_and_create( cls, board ):\n",
    "        coords = [(5,0),(4,0),(6,0),(6,1)]\n",
    "        return super(reverse_l_shape, cls).check_and_create(\n",
    "            board, coords, \"green\")\n",
    "        \n",
    "class z_shape( shape_limited_rotate ):\n",
    "    @classmethod\n",
    "    def check_and_create( cls, board ):\n",
    "        coords =[(5,0),(4,0),(5,1),(6,1)]\n",
    "        return super(z_shape, cls).check_and_create(board, coords, \"purple\")\n",
    "        \n",
    "class s_shape( shape_limited_rotate ):\n",
    "    @classmethod\n",
    "    def check_and_create( cls, board ):\n",
    "        coords =[(5,1),(4,1),(5,0),(6,0)]\n",
    "        return super(s_shape, cls).check_and_create(board, coords, \"magenta\")\n",
    "        \n",
    "class i_shape( shape_limited_rotate ):\n",
    "    @classmethod\n",
    "    def check_and_create( cls, board ):\n",
    "        coords =[(4,0),(3,0),(5,0),(6,0)]\n",
    "        return super(i_shape, cls).check_and_create(board, coords, \"blue\")\n",
    "        \n",
    "class game_controller(object):\n",
    "    \"\"\"\n",
    "    Main game loop and receives GUI callback events for keypresses etc...\n",
    "    \"\"\"\n",
    "    def __init__(self, parent):\n",
    "        \"\"\"\n",
    "        Intialise the game...\n",
    "        \"\"\"\n",
    "        self.parent = parent\n",
    "        self.score = 0\n",
    "        self.level = 0\n",
    "        self.delay = 1000    #ms\n",
    "        \n",
    "        #lookup table\n",
    "        self.shapes = [square_shape,\n",
    "                      t_shape,\n",
    "                      l_shape,\n",
    "                      reverse_l_shape,\n",
    "                      z_shape,\n",
    "                      s_shape,\n",
    "                      i_shape ]\n",
    "        \n",
    "        self.thresholds = level_thresholds( 500, NO_OF_LEVELS )\n",
    "        \n",
    "        self.status_bar = status_bar( parent )\n",
    "        self.status_bar.pack(side=TOP,fill=X)\n",
    "        #print \"Status bar width\",self.status_bar.cget(\"width\")\n",
    "\n",
    "        self.status_bar.set(\"Score: %-7d\\t Level: %d \" % (\n",
    "            self.score, self.level+1)\n",
    "        )\n",
    "        \n",
    "        self.board = Board(\n",
    "            parent,\n",
    "            scale=SCALE,\n",
    "            max_x=MAXX,\n",
    "            max_y=MAXY,\n",
    "            offset=OFFSET\n",
    "            )\n",
    "        \n",
    "        self.board.pack(side=BOTTOM)\n",
    "        \n",
    "        self.parent.bind(\"<Left>\", self.left_callback)\n",
    "        self.parent.bind(\"<Right>\", self.right_callback)\n",
    "        self.parent.bind(\"<Up>\", self.up_callback)\n",
    "        self.parent.bind(\"<Down>\", self.down_callback)\n",
    "        self.parent.bind(\"a\", self.a_callback)\n",
    "        self.parent.bind(\"s\", self.s_callback)\n",
    "        self.parent.bind(\"p\", self.p_callback)\n",
    "        \n",
    "        self.shape = self.get_next_shape()\n",
    "        #self.board.output()\n",
    "\n",
    "        self.after_id = self.parent.after( self.delay, self.move_my_shape )\n",
    "        \n",
    "    def handle_move(self, direction):\n",
    "        #if you can't move then you've hit something\n",
    "        if not self.shape.move( direction ):\n",
    "            \n",
    "            # if your heading down then the shape has 'landed'\n",
    "            if direction == DOWN:\n",
    "                self.score += self.board.check_for_complete_row(\n",
    "                    self.shape.blocks\n",
    "                    )\n",
    "                del self.shape\n",
    "                self.shape = self.get_next_shape()\n",
    "                \n",
    "                # If the shape returned is None, then this indicates that\n",
    "                # that the check before creating it failed and the\n",
    "                # game is over!\n",
    "                if self.shape is None:\n",
    "                    tkMessageBox.showwarning(\n",
    "                        title=\"GAME OVER\",\n",
    "                        message =\"Score: %7d\\tLevel: %d\\t\" % (\n",
    "                            self.score, self.level),\n",
    "                        parent=self.parent\n",
    "                        )\n",
    "                    Toplevel().destroy()\n",
    "                    self.parent.destroy()\n",
    "                    sys.exit(0)\n",
    "                \n",
    "                # do we go up a level?\n",
    "                if (self.level < NO_OF_LEVELS and \n",
    "                    self.score >= self.thresholds[ self.level]):\n",
    "                    self.level+=1\n",
    "                    self.delay-=100\n",
    "                    \n",
    "                self.status_bar.set(\"Score: %-7d\\t Level: %d \" % (\n",
    "                    self.score, self.level+1)\n",
    "                )\n",
    "                \n",
    "                # Signal that the shape has 'landed'\n",
    "                return False\n",
    "        return True\n",
    "\n",
    "    def left_callback( self, event ):\n",
    "        if self.shape:\n",
    "            self.handle_move( LEFT )\n",
    "        \n",
    "    def right_callback( self, event ):\n",
    "        if self.shape:\n",
    "            self.handle_move( RIGHT )\n",
    "\n",
    "    def up_callback( self, event ):\n",
    "        if self.shape:\n",
    "            # drop the tetrominoe to the bottom\n",
    "            while self.handle_move( DOWN ):\n",
    "                pass\n",
    "\n",
    "    def down_callback( self, event ):\n",
    "        if self.shape:\n",
    "            self.handle_move( DOWN )\n",
    "            \n",
    "    def a_callback( self, event):\n",
    "        if self.shape:\n",
    "            self.shape.rotate(clockwise=True)\n",
    "            \n",
    "    def s_callback( self, event):\n",
    "        if self.shape:\n",
    "            self.shape.rotate(clockwise=False)\n",
    "        \n",
    "    def p_callback(self, event):\n",
    "        self.parent.after_cancel( self.after_id )\n",
    "        tkMessageBox.askquestion(\n",
    "            title = \"Paused!\",\n",
    "            message=\"Continue?\",\n",
    "            type=tkMessageBox.OK)\n",
    "        self.after_id = self.parent.after( self.delay, self.move_my_shape )\n",
    "    \n",
    "    def move_my_shape( self ):\n",
    "        if self.shape:\n",
    "            self.handle_move( DOWN )\n",
    "            self.after_id = self.parent.after( self.delay, self.move_my_shape )\n",
    "        \n",
    "    def get_next_shape( self ):\n",
    "        \"\"\"\n",
    "        Randomly select which tetrominoe will be used next.\n",
    "        \"\"\"\n",
    "        the_shape = self.shapes[ randint(0,len(self.shapes)-1) ]\n",
    "        return the_shape.check_and_create(self.board)\n",
    "        \n",
    "        \n",
    "if __name__ == \"__main__\":\n",
    "    root = Tk()\n",
    "    root.title(\"Tetris Tk\")\n",
    "    theGame = game_controller( root )\n",
    "    \n",
    "    root.mainloop()\n"
   ]
  },
  {
   "cell_type": "markdown",
   "metadata": {
    "slideshow": {
     "slide_type": "slide"
    }
   },
   "source": [
    "# Scientific building blocks \n",
    "* Numpy \n",
    "* pandas \n",
    "* Statsmodels \n",
    "* Sympy \n",
    "\n",
    "<img src=\"resources/img/numpy.png\" alt=\"guido\"  height=\"60\" align=\"right\"> \n",
    "<img src=\"resources/img/pandas.png\" alt=\"guido\"  height=\"60\" align=\"right\">\n",
    "<img src=\"resources/img/statsmodels.png\" alt=\"guido\"  height=\"60\" align=\"right\">\n",
    "<img src=\"resources/img/sympy.png\" alt=\"guido\"  height=\"60\" align=\"right\">"
   ]
  },
  {
   "cell_type": "markdown",
   "metadata": {
    "slideshow": {
     "slide_type": "slide"
    }
   },
   "source": [
    "# Numpy <img src=\"resources/img/numpy.png\" alt=\"guido\"  height=\"80\" align=\"right\"> \n",
    "* NumPy is the fundamental package for scientific computing with Python\n",
    "* a powerful N-dimensional array object (Matrix)\n",
    "* sophisticated (broadcasting) functions\n",
    "* tools for integrating C/C++ and Fortran code\n",
    "* useful linear algebra, Fourier transform, and random number capabilities\n",
    "\n",
    "* Besides its obvious scientific uses, NumPy can also be used as an efficient multi-dimensional container of generic data. \n",
    "* Arbitrary data-types can be defined. \n",
    "\n",
    "\n",
    " ### [NumPy Demo Notebook](resources/notebooks/numpy_basics.ipynb)\n",
    "\n"
   ]
  },
  {
   "cell_type": "markdown",
   "metadata": {
    "slideshow": {
     "slide_type": "slide"
    }
   },
   "source": [
    "# Pandas <img src=\"resources/img/pandas.png\" alt=\"guido\"  height=\"80\" align=\"right\"> \n",
    "\n",
    "pandas is provides high-performance, easy-to-use   data structures and data analysis tools   for the Python programming language.\n",
    "  \n",
    "* analog to R - data.frame\n",
    "* tabular and time series data\n",
    "* think excel\n",
    "* [pandas demo](resources/notebooks/pandas_basics.ipynb)\n",
    "-- add the bit from "
   ]
  },
  {
   "cell_type": "markdown",
   "metadata": {
    "slideshow": {
     "slide_type": "slide"
    }
   },
   "source": [
    "# Sympy <img src=\"resources/img/sympy.png\" alt=\"guido\"  height=\"100\" align=\"right\"> \n",
    "* SymPy is a Python library for symbolic mathematics. \n",
    "* It aims to become a full-featured computer algebra system (CAS) \n",
    "* SymPy is written entirely in Python and does not require any external libraries.\n",
    "\n",
    "* [SymPy Demo](resources/notebooks/sympy_basics.ipynb)\n",
    "\n"
   ]
  },
  {
   "cell_type": "markdown",
   "metadata": {
    "slideshow": {
     "slide_type": "slide"
    }
   },
   "source": [
    "# Statsmodels <img src=\"resources/img/statsmodels.png\" alt=\"guido\"  height=\"80\" align=\"right\"> \n",
    "\n",
    "* Linear regression models\n",
    "* Generalized linear models\n",
    "* Discrete choice models\n",
    "* Robust linear models\n",
    "* Many models and functions for time series analysis\n",
    "* Nonparametric estimators\n",
    "* A wide range of statistical tests\n",
    "* Plotting functions\n",
    "\n",
    "[Ordinary Least Squares Demo](resources/notebooks/stats_basics.ipynb)\n"
   ]
  },
  {
   "cell_type": "markdown",
   "metadata": {
    "slideshow": {
     "slide_type": "slide"
    }
   },
   "source": [
    "# Machine learning (Pattern Recognition)\n",
    "* key module - scikit-learn\n",
    "\n",
    "* Simple and efficient tools for data mining and data analysis\n",
    "* Accessible to everybody, and reusable in various contexts\n",
    "* Built on NumPy, SciPy, and matplotlib\n",
    "* Open source, commercially usable - BSD license\n",
    "\n",
    "* Classification\n",
    "* Regression\n",
    "* Clustering\n",
    "* Dimensionality reduction\n",
    "* Model selection\n",
    "\n",
    "* notebool - face - http://nbviewer.ipython.org/github/ogrisel/notebooks/blob/master/Labeled%20Faces%20in%20the%20Wild%20recognition.ipynb\n",
    "\n",
    "* notebook - iris - http://nbviewer.ipython.org/github/RMDK/IPython-Notebooks/blob/master/.ipynb_checkpoints/Machine-Learning-Classification-checkpoint.ipynb\n",
    "\n",
    "<img src=\"resources/img/scikit.png\" alt=\"guido\"  height=\"150\" align=\"right\"> \n"
   ]
  },
  {
   "cell_type": "markdown",
   "metadata": {
    "slideshow": {
     "slide_type": "slide"
    }
   },
   "source": [
    "# Control systems\n",
    "Project OverviewThe python-control package is a set of python classes and functions that implement common operations for the analysis and design of feedback control systems. The initial goal is to implement all of the functionality required to work through the examples in the textbook Feedback Systems by Åström and Murray. A MATLAB compatibility package (control.matlab) is available that provides functions corresponding to the commands available in the MATLAB Control Systems Toolbox.\n",
    "Here are some of the basic functions that are (or will be) available in the package:\n",
    "\n",
    "* Linear input/output systems in state space and frequency domain (transfer functions)\n",
    "* Block diagram algebra: serial, parallel and feedback interconnections\n",
    "* Time response: initial, step, impulse (using the scipy.signal package)\n",
    "* Frequency response: Bode and Nyquist plots\n",
    "* Control analysis: stability, reachability, observability, stability margins\n",
    "* Control design: eigenvalue placement, linear quadratic regulator\n",
    "* Estimator design: linear quadratic estimator (Kalman filter)\n",
    "\n",
    "    * Download control - https://sourceforge.net/projects/python-control/files\n",
    "\n",
    "\n",
    "\n",
    "<img src=\"resources/img/control1.png\" alt=\"guido\"  height=\"150\" align=\"right\"> \n",
    "<img src=\"resources/img/control2.png\" alt=\"guido\"  height=\"150\" align=\"right\"> \n",
    "<img src=\"resources/img/control3.png\" alt=\"guido\"  height=\"150\" align=\"right\"> \n",
    "<img src=\"resources/img/control4.png\" alt=\"guido\"  height=\"150\" align=\"right\"> \n",
    "<img src=\"resources/img/control5.png\" alt=\"guido\"  height=\"150\" align=\"right\"> \n",
    "<img src=\"resources/img/control6.png\" alt=\"guido\"  height=\"150\" align=\"right\"> \n",
    "<img src=\"resources/img/control7.png\" alt=\"guido\"  height=\"150\" align=\"right\"> \n",
    "<img src=\"resources/img/control8.png\" alt=\"guido\"  height=\"150\" align=\"right\"> \n",
    "\n",
    "\n"
   ]
  },
  {
   "cell_type": "markdown",
   "metadata": {
    "slideshow": {
     "slide_type": "slide"
    }
   },
   "source": [
    "# Simulation\n",
    "* No real alternative to `Simulink`\n",
    "\n",
    "<img src=\"resources/img/simulink.png\" alt=\"guido\"  height=\"150\" align=\"right\"> \n",
    "\n",
    "\n"
   ]
  },
  {
   "cell_type": "markdown",
   "metadata": {
    "slideshow": {
     "slide_type": "slide"
    }
   },
   "source": [
    "# Databases\n",
    "* interact directly with sqlite, mySQL, Oracle, MSSql etc\n",
    "* Chinook database\n",
    "* example notebook - https://plot.ly/ipython-notebooks/big-data-analytics-with-pandas-and-sqlite/\n",
    "\n",
    "* Code Sample\n",
    "import sqlalchemy\n",
    "from sqlalchemy import create_engine # database connection\n",
    "\n",
    "create the read engine\n",
    "disk_engine = create_engine('sqlite:///311_8M.db') # Initializes database with filename 311_8M.db in current directory\n",
    "\n",
    "issue an sql commend\n",
    "df = pd.read_sql( 'select * from artist limit 10', disk_engine)\n",
    "\n",
    "<img src=\"resources/img/sql.png\" alt=\"guido\"  height=\"150\" align=\"right\"> "
   ]
  },
  {
   "cell_type": "markdown",
   "metadata": {
    "slideshow": {
     "slide_type": "slide"
    }
   },
   "source": [
    "# Signal processing\n",
    "* Basic Fourier transform example\n",
    "* Notebook here - http://tomwhipple.com/projects/explorations/basic-signal-processing-with-ipython-notebook.html\n"
   ]
  },
  {
   "cell_type": "markdown",
   "metadata": {
    "slideshow": {
     "slide_type": "slide"
    }
   },
   "source": [
    "# Optimising code\n",
    "\n",
    "Cython is an optimising static compiler for both the Python programming language and the extended Cython programming language (based on Pyrex). It makes writing C extensions for Python as easy as Python itself.\n",
    "Cython gives you the combined power of Python and C to let you\n",
    "* write Python code that calls back and forth from and to C or C++ code natively at any point.\n",
    "* easily tune readable Python code into plain C performance by adding static type declarations.\n",
    "*use combined source code level debugging to find bugs in your Python, Cython and C code.\n",
    "* interact efficiently with large data sets, e.g. using multi-dimensional NumPyarrays.\n",
    "* quickly build your applications within the large, mature and widely used CPython ecosystem.\n",
    "* integrate natively with existing code and data from legacy, low-level or high-performance libraries and applications.\n",
    "\n",
    "<img src=\"resources/img/cython.png\" alt=\"guido\"  height=\"100\" align=\"right\"> \n"
   ]
  },
  {
   "cell_type": "markdown",
   "metadata": {
    "slideshow": {
     "slide_type": "slide"
    }
   },
   "source": [
    "# Multi-processing\n",
    "* built in `multiprocessing` library\n",
    "* Ipython has built in parralel programming options\n",
    "* NVIDIA CUDA\n",
    "* Apche Spark - is a fast and general engine for large-scale data processing.\n",
    "* Apache hadoop - reliable, scalable, distributed computing\n",
    "\n",
    "# PyCUDA\n",
    "PyCUDA lets you access Nvidia‘s CUDA parallel computation API from Python. Several wrappers of the CUDA API already exist–so what’s so special about PyCUDA?\n",
    "\n",
    "* Object cleanup tied to lifetime of objects. This idiom, often called RAII in C++, makes it much easier to write correct, leak- and crash-free code. PyCUDA knows about dependencies, too, so (for example) it won’t detach from a context before all memory allocated in it is also freed\n",
    "\n",
    "* Convenience. Abstractions like pycuda.driver.SourceModule and pycuda.gpuarray.GPUArray make CUDA programming even more convenient than with Nvidia’s C-based runtime.\n",
    "\n",
    "* Completeness. PyCUDA puts the full power of CUDA’s driver API at your disposal, if you wish.\n",
    "\n",
    "* Automatic Error Checking. All CUDA errors are automatically translated into Python exceptions\n",
    "\n",
    "* Speed. PyCUDA’s base layer is written in C++, so all the niceties above are virtually free\n",
    "\n",
    "<img src=\"resources/img/spark.png\" alt=\"guido\"  height=\"100\" align=\"right\"> \n",
    "<img src=\"resources/img/hadoop.png\" alt=\"guido\"  height=\"100\" align=\"right\"> \n",
    "<img src=\"resources/img/cuda.png\" alt=\"guido\"  height=\"100\" align=\"right\"> \n",
    "\n"
   ]
  },
  {
   "cell_type": "markdown",
   "metadata": {
    "slideshow": {
     "slide_type": "slide"
    }
   },
   "source": [
    "# Embedded systems\n",
    "\n",
    "## RaspberryPi\n",
    "- Base language\n",
    "\n",
    "## MicroPython\n",
    "* Micro Python is a lean and fast implementation of the Python 3 programming language that is optimised to run on a microcontroller.\n",
    "* The Micro Python board is a small electronic circuit board that runs Micro Python on the bare metal, and gives you a low-level Python operating system that can be used to control all kinds of electronic projects.\n",
    "* LED\n",
    "* GPIO\n",
    "* Servo Control\n",
    "* INterupts\n",
    "* Timers\n",
    "* PWM\n",
    "* DAC\n",
    "* ADC\n",
    "* UART\n",
    "* SPI\n",
    "* I2C\n",
    "\n",
    "## Servo Control\n",
    "```python\n",
    "    from pyb import Servo\n",
    "    s1 = Servo(1) # servo on position 1 (X1, VIN, GND)\n",
    "    s1.angle(45) # move to 45 degrees\n",
    "    s1.angle(-60, 1500) # move to -60 degrees in 1500ms\n",
    "    s1.speed(50) # for continuous rotation servos\n",
    "```\n",
    "\n",
    "<img src=\"resources/img/upythonlayout.png\" alt=\"guido\"  height=\"500\" align=\"right\"> \n"
   ]
  },
  {
   "cell_type": "markdown",
   "metadata": {
    "slideshow": {
     "slide_type": "slide"
    }
   },
   "source": [
    "# Python and Excel \n",
    "* Pandas saves to excel natively\n",
    "* Quick demo, create a dataframe, save to excel\n",
    "* Quick demo, read simple excel file\n",
    "* XLWINGS\n",
    "Easy deployment: The receiver of an xlwings-powered spreadsheets only needs Pythonwith minimal dependencies — or nothing at all when shipped with the Python runtime.\n",
    "Cross-Platform: xlwings works with Microsoft Excel on Windows and Mac.\n",
    "Plug-and-Play: No cumbersome installation of Excel add-ins or license keys.\n",
    "Flexible: Works with pretty much every combination of Excel and Python.\n",
    "Two way communication: Call Python from Excel or interact with Excel from Python.\n",
    "Free and open-source: xlwings is released under a permissive BSD-License\n",
    "\n",
    "* pyXLL (not free)\n",
    "\n",
    "<img src=\"resources/img/xlwings.png\" alt=\"guido\"  height=\"150\" align=\"right\"> \n",
    "<img src=\"resources/img/pyxll.png\" alt=\"guido\"  height=\"150\" align=\"right\"> \n"
   ]
  },
  {
   "cell_type": "markdown",
   "metadata": {
    "slideshow": {
     "slide_type": "slide"
    }
   },
   "source": [
    "# Packaging your application\n",
    "* PyInstaller is a program that converts (packages) Python programs into stand-alone executables, under Windows, Linux, Mac OS X, Solaris\n",
    "* Cross Platform\n",
    "* Bundle to one file or directory based install\n"
   ]
  }
 ],
 "metadata": {
  "celltoolbar": "Slideshow",
  "kernelspec": {
   "display_name": "Python 2",
   "language": "python",
   "name": "python2"
  },
  "language_info": {
   "codemirror_mode": {
    "name": "ipython",
    "version": 2
   },
   "file_extension": ".py",
   "mimetype": "text/x-python",
   "name": "python",
   "nbconvert_exporter": "python",
   "pygments_lexer": "ipython2",
   "version": "2.7.10"
  }
 },
 "nbformat": 4,
 "nbformat_minor": 0
}
