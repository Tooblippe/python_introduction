{
 "cells": [
  {
   "cell_type": "markdown",
   "metadata": {
    "slideshow": {
     "slide_type": "skip"
    }
   },
   "source": [
    "1. Open Spyder\n",
    "1. Clear workbooks\n",
    "1. Close workbooks\n",
    "1. Enter full screen mode "
   ]
  },
  {
   "cell_type": "code",
   "execution_count": 44,
   "metadata": {
    "collapsed": false,
    "slideshow": {
     "slide_type": "skip"
    }
   },
   "outputs": [
    {
     "name": "stdout",
     "output_type": "stream",
     "text": [
      "Populating the interactive namespace from numpy and matplotlib\n"
     ]
    },
    {
     "name": "stderr",
     "output_type": "stream",
     "text": [
      "WARNING: pylab import has clobbered these variables: ['cm']\n",
      "`%matplotlib` prevents importing * from pylab and numpy\n"
     ]
    }
   ],
   "source": [
    "from IPython.html.services.config import ConfigManager\n",
    "from IPython.utils.path import locate_profile\n",
    "cm = ConfigManager(profile_dir=locate_profile(get_ipython().profile))\n",
    "cm.update('livereveal', {\n",
    "              'theme': 'simple',\n",
    "              'transition': 'fade',\n",
    "              'start_slideshow_at': 'selected',\n",
    "              'width': 1000,\n",
    "              'height': 1100\n",
    "         \n",
    "})\n",
    "\n",
    "\n",
    "#thems  -Black (default) - White - League - Sky - Beige - Simple, Serif - Blood - Night - Moon - Solarized\n",
    "#transitions - None - Fade - Slide - Convex - Concave - Zoom\n",
    "\n",
    "%pylab inline\n",
    "\n",
    "# --- end\n",
    "\n"
   ]
  },
  {
   "cell_type": "markdown",
   "metadata": {
    "slideshow": {
     "slide_type": "slide"
    }
   },
   "source": [
    "![](resources/pres/denel_presentation/c_Slide1.PNG)"
   ]
  },
  {
   "cell_type": "markdown",
   "metadata": {
    "collapsed": true,
    "slideshow": {
     "slide_type": "slide"
    }
   },
   "source": [
    "# Contents [1] \n",
    "<img src=\"resources/img/python.png\" alt=\"guido\"  height=\"100\" align=\"right\"> \n",
    "* Introduction to Python \n",
    "* Who uses Python?\n",
    "* Python implementations\n",
    "* Where does it run?\n",
    "* Python 2 vs. 3\n",
    "* Batteries included philosophy\n",
    "* Language basics - quick intro\n",
    "* Python vs. Matlab\n",
    "* Python weaknesses"
   ]
  },
  {
   "cell_type": "markdown",
   "metadata": {
    "slideshow": {
     "slide_type": "slide"
    }
   },
   "source": [
    "# Contents [2]\n",
    "<img src=\"resources/img/python.png\" alt=\"guido\"  height=\"100\" align=\"right\"> \n",
    "* Python distributions\n",
    "* The Python eco-system you will use\n",
    "* Python IDE's\n",
    "* Python GUI development\n",
    "* Plotting\n",
    "* Scientific Python building blocks\n",
    "* Machine learning\n",
    "* Control systems\n",
    "* Simulation \n",
    "* Time series analysis / Data analysis\n",
    "* Databases"
   ]
  },
  {
   "cell_type": "markdown",
   "metadata": {
    "slideshow": {
     "slide_type": "slide"
    }
   },
   "source": [
    "# Contents [3]\n",
    "<img src=\"resources/img/python.png\" alt=\"guido\"  height=\"100\" align=\"right\"> \n",
    "* Signal processing\n",
    "* Optimising code\n",
    "* Multi-processing\n",
    "* Automate everything\n",
    "* Embedded systems\n",
    "* Python and Excel / PowerPoint\n",
    "* Environments\n",
    "* Packaging your code / app\n",
    "* Linking to other languages - Jupyter kernels (Octave, R, Matlab... )"
   ]
  },
  {
   "cell_type": "markdown",
   "metadata": {
    "slideshow": {
     "slide_type": "slide"
    }
   },
   "source": [
    "# About me\n",
    "\n",
    "* Hacker, Electrical Engineer <img src=\"resources/img/game.png\" alt=\"guido\" height=\"200\" align=\"right\">\n",
    "* Currently busy with M.Eng\n",
    "* Principal Consultant at [Eon Consulting](http://www.eon.co.za/index.php/our-services-main/our-services/business-analytics)\n",
    "* Trying to establish a [Python based analytics stack and service](http://www.insightstack.co.za)\n",
    "* Use Windows, Ubuntu GNU/Linux and Mac\n",
    "* People at I work with uses Excel (_alot_) [__big time__] \n",
    "* Hack with Python, Arduino, Energy Loggers, RaspberryPi\n",
    "* Python training classes to grownups and kids\n",
    "* Speaker at PyCon\n"
   ]
  },
  {
   "cell_type": "markdown",
   "metadata": {
    "slideshow": {
     "slide_type": "slide"
    }
   },
   "source": [
    "# What is Python?\n",
    "* Python is an interpreted, object-oriented, high-level programming language\n",
    "* High-level built in data structures <img src=\"resources/img/python.png\" alt=\"guido\"  height=\"50\" align=\"right\"> \n",
    "* Dynamic typing\n",
    "* Attractive for Rapid Application Development  \n",
    "* Use as a scripting or glue language to connect existing components together <img src=\"resources/img/guido.jpg\" alt=\"guido\"  height=\"150\" align=\"right\"> \n",
    "* Immense growth in the data science environment\n",
    "* Large standard library (Batteries Included)\n",
    "* Been around for 25 years\n",
    "* Free and Open Source"
   ]
  },
  {
   "cell_type": "markdown",
   "metadata": {
    "collapsed": true,
    "slideshow": {
     "slide_type": "slide"
    }
   },
   "source": [
    "# Who uses Python? [1]\n",
    " ![](resources/img/python_companies.png)"
   ]
  },
  {
   "cell_type": "markdown",
   "metadata": {
    "slideshow": {
     "slide_type": "slide"
    }
   },
   "source": [
    "# Who uses Python? [2]\n",
    "![](resources/img/python_companies2.png)"
   ]
  },
  {
   "cell_type": "markdown",
   "metadata": {
    "slideshow": {
     "slide_type": "slide"
    }
   },
   "source": [
    "# Python variants and implementations\n",
    "\n",
    " Python runs on many platforms and sofware stacks\n",
    "\n",
    "\n",
    "| Implementation |  Platform  |   |\n",
    "|---|---|---|\n",
    "|CPython - reference| C++ | <img src=\"resources/img/python.png\" alt=\"guido\" height=\"50\"> |\n",
    "|PyPy (JIT, Stackless)| C ++ |<img src=\"resources/img/pypy.png\" alt=\"guido\"  height=\"50\"> |\n",
    "|IronPython| .NET CLR| <img src=\"resources/img/ironpython.png\" alt=\"guido\" height=\"50\"> |\n",
    "|jython| Java| <img src=\"resources/img/jython.gif\" alt=\"guido\"height=\"50\"> |\n",
    "|MicroPython| ARM | <img src=\"resources/img/upython.png\" alt=\"guido\" height=\"100\"> | \n",
    "\n",
    "\n"
   ]
  },
  {
   "cell_type": "markdown",
   "metadata": {
    "slideshow": {
     "slide_type": "slide"
    }
   },
   "source": [
    "## Python runs on most hardware platforms\n",
    "| Platform|  | Platform | |\n",
    "|---|---|---|---|\n",
    "| GNU/Linux    | <img src=\"resources/img/tux.jpg\" alt=\"guido\" height=\"100\"> | Windows                     | <img src=\"resources/img/windows.jpg\" alt=\"guido\" height=\"100\"> | \n",
    "|  Macintosh   | <img src=\"resources/img/mac.jpg\" alt=\"guido\" height=\"100\"> | IOS                         | <img src=\"resources/img/ios.jpg\" alt=\"guido\" height=\"100\"> |  \n",
    "|  Android     | <img src=\"resources/img/android.jpg\" alt=\"guido\" height=\"100\"> | Microprocessors             | <img src=\"resources/img/upython.png\" alt=\"guido\" height=\"100\"> |  \n",
    "|  RaspberryPi | <img src=\"resources/img/raspi.jpg\" alt=\"guido\" height=\"100\"> | Space | Nasa/SpaceStation |\n",
    "\n"
   ]
  },
  {
   "cell_type": "markdown",
   "metadata": {
    "slideshow": {
     "slide_type": "slide"
    }
   },
   "source": [
    "# Compiled vs. Interpreted\n",
    "\n",
    "<img src=\"resources/img/comvsinter.png\" alt=\"guido\" height=\"450\"> \n"
   ]
  },
  {
   "cell_type": "markdown",
   "metadata": {
    "slideshow": {
     "slide_type": "slide"
    }
   },
   "source": [
    "# Applications in the following fields:\n",
    "* Web and Internet development  \n",
    "* Data analysis\n",
    "* Numerical processing\n",
    "* Video and audio editing (ILM)\n",
    "* Web scraping\n",
    "* Science\n",
    "* Desktop applications\n",
    "* Software Development\n",
    "* Operating systems\n",
    "* System administration\n"
   ]
  },
  {
   "cell_type": "markdown",
   "metadata": {
    "slideshow": {
     "slide_type": "slide"
    }
   },
   "source": [
    "# Standard library functions\n",
    "* Batteries included <img src=\"resources/img/stdlib.jpg\" alt=\"guido\"  height=\"350\" align=\"right\"> \n",
    "* Almost everything you need is included\n",
    "* `os`- Working with the operating system\n",
    "* `httplib`- Grabbing web pages\n",
    "* `email` - Sending email\n",
    "* `glob` - Using glob for filename wildcards\n",
    "* `math` and random\n",
    "* `unittest`- Unit testing framework\n",
    "* `timeit`- Measure execution time of small code snippets\n",
    "* `datetime` - Working with dates and times\n",
    "* `zipfile`, `tarfile`- Working with compressed files\n",
    "* ( ... many, many more ..)\n",
    "\n",
    "* [Complete Library](https://docs.python.org/library/)"
   ]
  },
  {
   "cell_type": "markdown",
   "metadata": {
    "slideshow": {
     "slide_type": "slide"
    }
   },
   "source": [
    "# Python basics \n",
    "(click the link below)\n",
    "### [Python Basics Workbook](resources/notebooks/python_basics.ipynb)\n"
   ]
  },
  {
   "cell_type": "markdown",
   "metadata": {
    "slideshow": {
     "slide_type": "slide"
    }
   },
   "source": [
    "# Python 2 vs. Python 3\n",
    "<img src=\"resources/img/py23.png\" alt=\"guido\"  height=\"550\"> "
   ]
  },
  {
   "cell_type": "markdown",
   "metadata": {
    "slideshow": {
     "slide_type": "slide"
    }
   },
   "source": [
    "# Python compared to Matlab \n",
    "* Python, by definition, is a programming language. <img src=\"resources/img/matlab.jpg\" alt=\"guido\"  height=\"350\" align=\"right\"> \n",
    "* Matlab is a popular numerical computing environment \n",
    "* In Matlab - The standard library does not contain as much generic programming functionality, but does include matrix algebra and an extensive library for data processing and plotting.\n",
    "* To get similar functionality in Python, you'll need the NumPy, SciPy and Matplotlib packages."
   ]
  },
  {
   "cell_type": "markdown",
   "metadata": {
    "slideshow": {
     "slide_type": "slide"
    }
   },
   "source": [
    "# Some disadvantages of Matlab\n",
    "Not much <img src=\"resources/img/pvsml.jpg\" alt=\"guido\"  height=\"350\" align=\"right\"> \n",
    "* The algorithms are proprietary\n",
    "* Expensive\n",
    "* Matlab is releasing a new version every 6 months\n",
    "* It makes portability more difficult.\n",
    "* Difficult for 3rd parties to extend or create tools for Matlab"
   ]
  },
  {
   "cell_type": "markdown",
   "metadata": {
    "slideshow": {
     "slide_type": "slide"
    }
   },
   "source": [
    "# Advantages of Matlab\n",
    "* It has a solid amount of functions\n",
    "* Simulink is a product which is simply not available elsewhere\n",
    "* It has a large scientific community; it is used on many universities (but few companies have the money to buy a license)"
   ]
  },
  {
   "cell_type": "markdown",
   "metadata": {
    "slideshow": {
     "slide_type": "slide"
    }
   },
   "source": [
    "# Advantages of Python\n",
    "* Free\n",
    "* You can use it everywhere\n",
    "* Namespaces\n",
    "* Introspection\n",
    "* String manipulation\n",
    "* Portability\n",
    "* You can run Matlab in the IPython Notebook\n",
    "* Basically IPython changed the game for most people"
   ]
  },
  {
   "cell_type": "markdown",
   "metadata": {
    "collapsed": true,
    "slideshow": {
     "slide_type": "slide"
    }
   },
   "source": [
    "# Disadvanges of Python\n",
    "* Sometimes conceived to be slow, but we will investigate this further\n"
   ]
  },
  {
   "cell_type": "markdown",
   "metadata": {
    "slideshow": {
     "slide_type": "slide"
    }
   },
   "source": [
    "# Python distributions\n",
    "\n",
    "* Installing some modules require compilation (c++, Fortran)  \n",
    "* Can create frustration to install dependencies\n",
    "* Download and install a free distribution like\n",
    "  * [Anaconda](http://continuum.io/) <img src=\"resources/img/contimuum.png\" alt=\"guido\"  height=\"100\" align=\"right\">\n",
    "  * [Enthought](https://www.enthought.com) \n",
    "* 270+ packages <img src=\"resources/img/enthought.png\" alt=\"guido\"  height=\"100\" align=\"right\">\n",
    "* No modification to system path  \n",
    "* Have taught Python - Linux, Mac, Windows without any problems\n",
    "* Package management and Environments\n",
    "* [more distributions here](https://wiki.python.org/moin/PythonDistributions)"
   ]
  },
  {
   "cell_type": "markdown",
   "metadata": {
    "slideshow": {
     "slide_type": "slide"
    }
   },
   "source": [
    "# The Python interactive ecosystem\n",
    "\n",
    "* Python, IPython, Notebook <img src=\"resources/img/notebook.jpg\" alt=\"guido\"  height=\"350\" align=\"right\"> \n",
    "* Python is the main interpreter\n",
    "* Improved interpreters exist e.g. `IPython`\n",
    "* IPython also bundles the notebook we are using now\n",
    "* IPython interactive computing\n",
    "* IPython Demo (terminal, QTConsole)\n",
    "* [Notebook Basics Demo](resources/notebooks/ipython_notebook_basics.ipynb)"
   ]
  },
  {
   "cell_type": "markdown",
   "metadata": {
    "slideshow": {
     "slide_type": "slide"
    }
   },
   "source": [
    "# Python IDE's\n",
    "* Integrated Development Environments -  a personal choice <img src=\"resources/img/ide.jpg\" alt=\"guido\"  height=\"250\" align=\"right\"> \n",
    "* Many options exists\n",
    "* After countless hours of searching and trying I recommend:\n",
    "\n",
    "### Free\n",
    "* Spyder bundled with Anaconda [Demo]\n",
    "* IDLE (comes with base)\n",
    "* Enthought Canopy\n",
    "* Python tools for Visual Studio\n",
    "* PyDev for Eclipse\n",
    "* Rodeo by yhat\n",
    "\n",
    "### Commercial\n",
    "* PyCharm (has community edition for free)"
   ]
  },
  {
   "cell_type": "markdown",
   "metadata": {
    "slideshow": {
     "slide_type": "slide"
    }
   },
   "source": [
    "# Plotting\n",
    "* Matplotlib\n",
    "* Bokeh\n",
    "* ggplot (ported from R)\n",
    "\n",
    "\n",
    "[Example Notebook - Matplotlib](resources\\notebooks\\plotting_basics.ipynb)\n",
    "\n",
    "[Example Notebook - mpld3 ](resources\\notebooks\\mpld3_basics.ipynb)\n",
    "![](resources\\img\\plot.png)\n",
    "\n"
   ]
  },
  {
   "cell_type": "markdown",
   "metadata": {
    "slideshow": {
     "slide_type": "slide"
    }
   },
   "source": [
    "#IPython Notebook Widgets\n",
    "* [Widget Basics Demo](resources/notebooks/widget_basics.ipynb)\n",
    "* [Lorenz System of Differential Equations](resources/notebooks/LDE.ipynb)"
   ]
  },
  {
   "cell_type": "markdown",
   "metadata": {
    "slideshow": {
     "slide_type": "slide"
    }
   },
   "source": [
    "# Python GUI development  (1)\n",
    "* Tkinter comes with Python std lib\n",
    "* I found GUI development to be `non` trivial \n",
    "\n",
    "* Pyside - binding of the cross-platform GUI toolkit Qt\n",
    "\n",
    "* Kivy\n",
    " * innovative user interfaces, such as multi-touch apps.\n",
    " * runs on Linux, Windows, Mac, Android and iOS \n",
    " * could not get IOS working\n",
    "\n",
    "<img src=\"resources/img/kivy.png\" alt=\"guido\"  height=\"150\" align=\"left\"> \n",
    "<img src=\"resources/img/pyside.png\" alt=\"guido\"  height=\"150\" align=\"right\"> "
   ]
  },
  {
   "cell_type": "markdown",
   "metadata": {
    "slideshow": {
     "slide_type": "slide"
    }
   },
   "source": [
    "# Python GUI development  (2)\n",
    "## Mayavi for scientific apps \n",
    "<img src=\"resources/img/mayavi.jpg\" alt=\"guido\"> "
   ]
  },
  {
   "cell_type": "markdown",
   "metadata": {
    "collapsed": true,
    "slideshow": {
     "slide_type": "slide"
    }
   },
   "source": [
    "# Python GUI development  (3)\n",
    "## TK example - Tetris\n",
    "\n",
    "(source - http://code.google.com/p/tetris-tk)"
   ]
  },
  {
   "cell_type": "code",
   "execution_count": 40,
   "metadata": {
    "collapsed": false,
    "slideshow": {
     "slide_type": "fragment"
    }
   },
   "outputs": [],
   "source": [
    "#!/usr/bin/env python\n",
    "\"\"\"\n",
    "Tetris Tk - A tetris clone written in Python using the Tkinter GUI library.\n",
    "\n",
    "Controls:\n",
    "    Left Arrow      Move left\n",
    "    Right Arrow     Move right\n",
    "    Down Arrow      Move down\n",
    "    Up Arrow        Drop Tetronimoe to the bottom\n",
    "    'a'             Rotate anti-clockwise (to the left)\n",
    "    'b'             Rotate clockwise (to the right)\n",
    "    'p'             Pause the game.\n",
    "\"\"\"\n",
    "\n",
    "from Tkinter import *\n",
    "from time import sleep\n",
    "from random import randint\n",
    "import tkMessageBox\n",
    "import sys\n",
    "\n",
    "SCALE = 20\n",
    "OFFSET = 3\n",
    "MAXX = 10\n",
    "MAXY = 22\n",
    "\n",
    "NO_OF_LEVELS = 10\n",
    "\n",
    "LEFT = \"left\"\n",
    "RIGHT = \"right\"\n",
    "DOWN = \"down\"\n",
    "\n",
    "direction_d = { \"left\": (-1, 0), \"right\": (1, 0), \"down\": (0, 1) }\n",
    "\n",
    "def level_thresholds( first_level, no_of_levels ):\n",
    "    \"\"\"\n",
    "    Calculates the score at which the level will change, for n levels.\n",
    "    \"\"\"\n",
    "    thresholds =[]\n",
    "    for x in xrange( no_of_levels ):\n",
    "        multiplier = 2**x\n",
    "        thresholds.append( first_level * multiplier )\n",
    "    \n",
    "    return thresholds\n",
    "\n",
    "class status_bar( Frame ):\n",
    "    \"\"\"\n",
    "    Status bar to display the score and level\n",
    "    \"\"\"\n",
    "    def __init__(self, parent):\n",
    "        Frame.__init__( self, parent )\n",
    "        self.label = Label( self, bd=1, relief=SUNKEN, anchor=W )\n",
    "        self.label.pack( fill=X )\n",
    "        \n",
    "    def set( self, format, *args):\n",
    "        self.label.config( text = format % args)\n",
    "        self.label.update_idletasks()\n",
    "        \n",
    "    def clear( self ):\n",
    "        self.label.config(test=\"\")\n",
    "        self.label.update_idletasks()\n",
    "\n",
    "class Board( Frame ):\n",
    "    \"\"\"\n",
    "    The board represents the tetris playing area. A grid of x by y blocks.\n",
    "    \"\"\"\n",
    "    def __init__(self, parent, scale=20, max_x=10, max_y=20, offset=3):\n",
    "        \"\"\"\n",
    "        Init and config the tetris board, default configuration:\n",
    "        Scale (block size in pixels) = 20\n",
    "        max X (in blocks) = 10\n",
    "        max Y (in blocks) = 20\n",
    "        offset (in pixels) = 3\n",
    "        \"\"\"\n",
    "        Frame.__init__(self, parent)\n",
    "        \n",
    "        # blocks are indexed by there corrdinates e.g. (4,5), these are\n",
    "        self.landed = {}\n",
    "        self.parent = parent\n",
    "        self.scale = scale\n",
    "        self.max_x = max_x\n",
    "        self.max_y = max_y\n",
    "        self.offset = offset        \n",
    "\n",
    "        self.canvas = Canvas(parent,\n",
    "                             height=(max_y * scale)+offset,\n",
    "                             width= (max_x * scale)+offset)\n",
    "        self.canvas.pack()\n",
    "\n",
    "    def check_for_complete_row( self, blocks ):\n",
    "        \"\"\"\n",
    "        Look for a complete row of blocks, from the bottom up until the top row\n",
    "        or until an empty row is reached.\n",
    "        \"\"\"\n",
    "        rows_deleted = 0\n",
    "        \n",
    "        # Add the blocks to those in the grid that have already 'landed'\n",
    "        for block in blocks:\n",
    "            self.landed[ block.coord() ] = block.id\n",
    "        \n",
    "        empty_row = 0\n",
    "\n",
    "        # find the first empty row\n",
    "        for y in xrange(self.max_y -1, -1, -1):\n",
    "            row_is_empty = True\n",
    "            for x in xrange(self.max_x):\n",
    "                if self.landed.get((x,y), None):\n",
    "                    row_is_empty = False\n",
    "                    break;\n",
    "            if row_is_empty:\n",
    "                empty_row = y\n",
    "                break\n",
    "\n",
    "        # Now scan up and until a complete row is found. \n",
    "        y = self.max_y - 1\n",
    "        while y > empty_row:\n",
    " \n",
    "            complete_row = True\n",
    "            for x in xrange(self.max_x):\n",
    "                if self.landed.get((x,y), None) is None:\n",
    "                    complete_row = False\n",
    "                    break;\n",
    "\n",
    "            if complete_row:\n",
    "                rows_deleted += 1\n",
    "                \n",
    "                #delete the completed row\n",
    "                for x in xrange(self.max_x):\n",
    "                    block = self.landed.pop((x,y))\n",
    "                    self.delete_block(block)\n",
    "                    del block\n",
    "\n",
    "                    \n",
    "                # move all the rows above it down\n",
    "                for ay in xrange(y-1, empty_row, -1):\n",
    "                    for x in xrange(self.max_x):\n",
    "                        block = self.landed.get((x,ay), None)\n",
    "                        if block:\n",
    "                            block = self.landed.pop((x,ay))\n",
    "                            dx,dy = direction_d[DOWN]\n",
    "                            \n",
    "                            self.move_block(block, direction_d[DOWN])\n",
    "                            self.landed[(x+dx, ay+dy)] = block\n",
    "\n",
    "                # move the empty row down index down too\n",
    "                empty_row +=1\n",
    "                # y stays same as row above has moved down.\n",
    "                \n",
    "            else:\n",
    "                y -= 1\n",
    "                \n",
    "        #self.output() # non-gui diagnostic\n",
    "        \n",
    "        # return the score, calculated by the number of rows deleted.        \n",
    "        return (100 * rows_deleted) * rows_deleted\n",
    "                \n",
    "    def output( self ):\n",
    "        for y in xrange(self.max_y):\n",
    "            line = []\n",
    "            for x in xrange(self.max_x):\n",
    "                if self.landed.get((x,y), None):\n",
    "                    line.append(\"X\")\n",
    "                else:\n",
    "                    line.append(\".\")\n",
    "            print \"\".join(line)\n",
    "            \n",
    "    def add_block( self, (x, y), colour):\n",
    "        \"\"\"\n",
    "        Create a block by drawing it on the canvas, return\n",
    "        it's ID to the caller.\n",
    "        \"\"\"\n",
    "        rx = (x * self.scale) + self.offset\n",
    "        ry = (y * self.scale) + self.offset\n",
    "        \n",
    "        return self.canvas.create_rectangle(\n",
    "            rx, ry, rx+self.scale, ry+self.scale, fill=colour\n",
    "        )\n",
    "        \n",
    "    def move_block( self, id, coord):\n",
    "        \"\"\"\n",
    "        Move the block, identified by 'id', by x and y. Note this is a\n",
    "        relative movement, e.g. move 10, 10 means move 10 pixels right and\n",
    "        10 pixels down NOT move to position 10,10. \n",
    "        \"\"\"\n",
    "        x, y = coord\n",
    "        self.canvas.move(id, x*self.scale, y*self.scale)\n",
    "        \n",
    "    def delete_block(self, id):\n",
    "        \"\"\"\n",
    "        Delete the identified block\n",
    "        \"\"\"\n",
    "        self.canvas.delete( id )\n",
    "        \n",
    "    def check_block( self, (x, y) ):\n",
    "        \"\"\"\n",
    "        Check if the x, y coordinate can have a block placed there.\n",
    "        That is; if there is a 'landed' block there or it is outside the\n",
    "        board boundary, then return False, otherwise return true.\n",
    "        \"\"\"\n",
    "        if x < 0 or x >= self.max_x or y < 0 or y >= self.max_y:\n",
    "            return False\n",
    "        elif self.landed.has_key( (x, y) ):\n",
    "            return False\n",
    "        else:\n",
    "            return True\n",
    "\n",
    "class Block(object):\n",
    "    def __init__( self, id, (x, y)):\n",
    "        self.id = id\n",
    "        self.x = x\n",
    "        self.y = y\n",
    "        \n",
    "    def coord( self ):\n",
    "        return (self.x, self.y)\n",
    "        \n",
    "class shape(object):\n",
    "    \"\"\"\n",
    "    Shape is the  Base class for the game pieces e.g. square, T, S, Z, L,\n",
    "    reverse L and I. Shapes are constructed of blocks. \n",
    "    \"\"\"\n",
    "    @classmethod        \n",
    "    def check_and_create(cls, board, coords, colour ):\n",
    "        \"\"\"\n",
    "        Check if the blocks that make the shape can be placed in empty coords\n",
    "        before creating and returning the shape instance. Otherwise, return\n",
    "        None.\n",
    "        \"\"\"\n",
    "        for coord in coords:\n",
    "            if not board.check_block( coord ):\n",
    "                return None\n",
    "        \n",
    "        return cls( board, coords, colour)\n",
    "            \n",
    "    def __init__(self, board, coords, colour ):\n",
    "        \"\"\"\n",
    "        Initialise the shape base.\n",
    "        \"\"\"\n",
    "        self.board = board\n",
    "        self.blocks = []\n",
    "        \n",
    "        for coord in coords:\n",
    "            block = Block(self.board.add_block( coord, colour), coord)\n",
    "            \n",
    "            self.blocks.append( block )\n",
    "            \n",
    "    def move( self, direction ):\n",
    "        \"\"\"\n",
    "        Move the blocks in the direction indicated by adding (dx, dy) to the\n",
    "        current block coordinates\n",
    "        \"\"\"\n",
    "        d_x, d_y = direction_d[direction]\n",
    "        \n",
    "        for block in self.blocks:\n",
    "\n",
    "            x = block.x + d_x\n",
    "            y = block.y + d_y\n",
    "            \n",
    "            if not self.board.check_block( (x, y) ):\n",
    "                return False\n",
    "            \n",
    "        for block in self.blocks:\n",
    "            \n",
    "            x = block.x + d_x\n",
    "            y = block.y + d_y\n",
    "            \n",
    "            self.board.move_block( block.id, (d_x, d_y) )\n",
    "            \n",
    "            block.x = x\n",
    "            block.y = y\n",
    "        \n",
    "        return True\n",
    "            \n",
    "    def rotate(self, clockwise = True):\n",
    "        \"\"\"\n",
    "        Rotate the blocks around the 'middle' block, 90-degrees. The\n",
    "        middle block is always the index 0 block in the list of blocks\n",
    "        that make up a shape.\n",
    "        \"\"\"\n",
    "        # TO DO: Refactor for DRY\n",
    "        middle = self.blocks[0]\n",
    "        rel = []\n",
    "        for block in self.blocks:\n",
    "            rel.append( (block.x-middle.x, block.y-middle.y ) )\n",
    "            \n",
    "        # to rotate 90-degrees (x,y) = (-y, x)\n",
    "        # First check that the there are no collisions or out of bounds moves.\n",
    "        for idx in xrange(len(self.blocks)):\n",
    "            rel_x, rel_y = rel[idx]\n",
    "            if clockwise:\n",
    "                x = middle.x+rel_y\n",
    "                y = middle.y-rel_x\n",
    "            else:\n",
    "                x = middle.x-rel_y\n",
    "                y = middle.y+rel_x\n",
    "            \n",
    "            if not self.board.check_block( (x, y) ):\n",
    "                return False\n",
    "            \n",
    "        for idx in xrange(len(self.blocks)):\n",
    "            rel_x, rel_y = rel[idx]\n",
    "            if clockwise:\n",
    "                x = middle.x+rel_y\n",
    "                y = middle.y-rel_x\n",
    "            else:\n",
    "                x = middle.x-rel_y\n",
    "                y = middle.y+rel_x\n",
    "            \n",
    "            \n",
    "            diff_x = x - self.blocks[idx].x \n",
    "            diff_y = y - self.blocks[idx].y \n",
    "            \n",
    "            self.board.move_block( self.blocks[idx].id, (diff_x, diff_y) )\n",
    "            \n",
    "            self.blocks[idx].x = x\n",
    "            self.blocks[idx].y = y\n",
    "       \n",
    "        return True\n",
    "    \n",
    "class shape_limited_rotate( shape ):\n",
    "    \"\"\"\n",
    "    This is a base class for the shapes like the S, Z and I that don't fully\n",
    "    rotate (which would result in the shape moving *up* one block on a 180).\n",
    "    Instead they toggle between 90 degrees clockwise and then back 90 degrees\n",
    "    anti-clockwise.\n",
    "    \"\"\"\n",
    "    def __init__( self, board, coords, colour ):\n",
    "        self.clockwise = True\n",
    "        super(shape_limited_rotate, self).__init__(board, coords, colour)\n",
    "    \n",
    "    def rotate(self, clockwise=True):\n",
    "        \"\"\"\n",
    "        Clockwise, is used to indicate if the shape should rotate clockwise\n",
    "        or back again anti-clockwise. It is toggled.\n",
    "        \"\"\"\n",
    "        super(shape_limited_rotate, self).rotate(clockwise=self.clockwise)\n",
    "        if self.clockwise:\n",
    "            self.clockwise=False\n",
    "        else:\n",
    "            self.clockwise=True\n",
    "        \n",
    "\n",
    "class square_shape( shape ):\n",
    "    @classmethod\n",
    "    def check_and_create( cls, board ):\n",
    "        coords = [(4,0),(5,0),(4,1),(5,1)]\n",
    "        return super(square_shape, cls).check_and_create(board, coords, \"red\")\n",
    "        \n",
    "    def rotate(self, clockwise=True):\n",
    "        \"\"\"\n",
    "        Override the rotate method for the square shape to do exactly nothing!\n",
    "        \"\"\"\n",
    "        pass\n",
    "        \n",
    "class t_shape( shape ):\n",
    "    @classmethod\n",
    "    def check_and_create( cls, board ):\n",
    "        coords = [(4,0),(3,0),(5,0),(4,1)]\n",
    "        return super(t_shape, cls).check_and_create(board, coords, \"yellow\" )\n",
    "        \n",
    "class l_shape( shape ):\n",
    "    @classmethod\n",
    "    def check_and_create( cls, board ):\n",
    "        coords = [(4,0),(3,0),(5,0),(3,1)]\n",
    "        return super(l_shape, cls).check_and_create(board, coords, \"orange\")\n",
    "    \n",
    "class reverse_l_shape( shape ):\n",
    "    @classmethod\n",
    "    def check_and_create( cls, board ):\n",
    "        coords = [(5,0),(4,0),(6,0),(6,1)]\n",
    "        return super(reverse_l_shape, cls).check_and_create(\n",
    "            board, coords, \"green\")\n",
    "        \n",
    "class z_shape( shape_limited_rotate ):\n",
    "    @classmethod\n",
    "    def check_and_create( cls, board ):\n",
    "        coords =[(5,0),(4,0),(5,1),(6,1)]\n",
    "        return super(z_shape, cls).check_and_create(board, coords, \"purple\")\n",
    "        \n",
    "class s_shape( shape_limited_rotate ):\n",
    "    @classmethod\n",
    "    def check_and_create( cls, board ):\n",
    "        coords =[(5,1),(4,1),(5,0),(6,0)]\n",
    "        return super(s_shape, cls).check_and_create(board, coords, \"magenta\")\n",
    "        \n",
    "class i_shape( shape_limited_rotate ):\n",
    "    @classmethod\n",
    "    def check_and_create( cls, board ):\n",
    "        coords =[(4,0),(3,0),(5,0),(6,0)]\n",
    "        return super(i_shape, cls).check_and_create(board, coords, \"blue\")\n",
    "        \n",
    "class game_controller(object):\n",
    "    \"\"\"\n",
    "    Main game loop and receives GUI callback events for keypresses etc...\n",
    "    \"\"\"\n",
    "    def __init__(self, parent):\n",
    "        \"\"\"\n",
    "        Intialise the game...\n",
    "        \"\"\"\n",
    "        self.parent = parent\n",
    "        self.score = 0\n",
    "        self.level = 0\n",
    "        self.delay = 1000    #ms\n",
    "        \n",
    "        #lookup table\n",
    "        self.shapes = [square_shape,\n",
    "                      t_shape,\n",
    "                      l_shape,\n",
    "                      reverse_l_shape,\n",
    "                      z_shape,\n",
    "                      s_shape,\n",
    "                      i_shape ]\n",
    "        \n",
    "        self.thresholds = level_thresholds( 500, NO_OF_LEVELS )\n",
    "        \n",
    "        self.status_bar = status_bar( parent )\n",
    "        self.status_bar.pack(side=TOP,fill=X)\n",
    "        #print \"Status bar width\",self.status_bar.cget(\"width\")\n",
    "\n",
    "        self.status_bar.set(\"Score: %-7d\\t Level: %d \" % (\n",
    "            self.score, self.level+1)\n",
    "        )\n",
    "        \n",
    "        self.board = Board(\n",
    "            parent,\n",
    "            scale=SCALE,\n",
    "            max_x=MAXX,\n",
    "            max_y=MAXY,\n",
    "            offset=OFFSET\n",
    "            )\n",
    "        \n",
    "        self.board.pack(side=BOTTOM)\n",
    "        \n",
    "        self.parent.bind(\"<Left>\", self.left_callback)\n",
    "        self.parent.bind(\"<Right>\", self.right_callback)\n",
    "        self.parent.bind(\"<Up>\", self.up_callback)\n",
    "        self.parent.bind(\"<Down>\", self.down_callback)\n",
    "        self.parent.bind(\"a\", self.a_callback)\n",
    "        self.parent.bind(\"s\", self.s_callback)\n",
    "        self.parent.bind(\"p\", self.p_callback)\n",
    "        \n",
    "        self.shape = self.get_next_shape()\n",
    "        #self.board.output()\n",
    "\n",
    "        self.after_id = self.parent.after( self.delay, self.move_my_shape )\n",
    "        \n",
    "    def handle_move(self, direction):\n",
    "        #if you can't move then you've hit something\n",
    "        if not self.shape.move( direction ):\n",
    "            \n",
    "            # if your heading down then the shape has 'landed'\n",
    "            if direction == DOWN:\n",
    "                self.score += self.board.check_for_complete_row(\n",
    "                    self.shape.blocks\n",
    "                    )\n",
    "                del self.shape\n",
    "                self.shape = self.get_next_shape()\n",
    "                \n",
    "                # If the shape returned is None, then this indicates that\n",
    "                # that the check before creating it failed and the\n",
    "                # game is over!\n",
    "                if self.shape is None:\n",
    "                    tkMessageBox.showwarning(\n",
    "                        title=\"GAME OVER\",\n",
    "                        message =\"Score: %7d\\tLevel: %d\\t\" % (\n",
    "                            self.score, self.level),\n",
    "                        parent=self.parent\n",
    "                        )\n",
    "                    Toplevel().destroy()\n",
    "                    self.parent.destroy()\n",
    "                    sys.exit(0)\n",
    "                \n",
    "                # do we go up a level?\n",
    "                if (self.level < NO_OF_LEVELS and \n",
    "                    self.score >= self.thresholds[ self.level]):\n",
    "                    self.level+=1\n",
    "                    self.delay-=100\n",
    "                    \n",
    "                self.status_bar.set(\"Score: %-7d\\t Level: %d \" % (\n",
    "                    self.score, self.level+1)\n",
    "                )\n",
    "                \n",
    "                # Signal that the shape has 'landed'\n",
    "                return False\n",
    "        return True\n",
    "\n",
    "    def left_callback( self, event ):\n",
    "        if self.shape:\n",
    "            self.handle_move( LEFT )\n",
    "        \n",
    "    def right_callback( self, event ):\n",
    "        if self.shape:\n",
    "            self.handle_move( RIGHT )\n",
    "\n",
    "    def up_callback( self, event ):\n",
    "        if self.shape:\n",
    "            # drop the tetrominoe to the bottom\n",
    "            while self.handle_move( DOWN ):\n",
    "                pass\n",
    "\n",
    "    def down_callback( self, event ):\n",
    "        if self.shape:\n",
    "            self.handle_move( DOWN )\n",
    "            \n",
    "    def a_callback( self, event):\n",
    "        if self.shape:\n",
    "            self.shape.rotate(clockwise=True)\n",
    "            \n",
    "    def s_callback( self, event):\n",
    "        if self.shape:\n",
    "            self.shape.rotate(clockwise=False)\n",
    "        \n",
    "    def p_callback(self, event):\n",
    "        self.parent.after_cancel( self.after_id )\n",
    "        tkMessageBox.askquestion(\n",
    "            title = \"Paused!\",\n",
    "            message=\"Continue?\",\n",
    "            type=tkMessageBox.OK)\n",
    "        self.after_id = self.parent.after( self.delay, self.move_my_shape )\n",
    "    \n",
    "    def move_my_shape( self ):\n",
    "        if self.shape:\n",
    "            self.handle_move( DOWN )\n",
    "            self.after_id = self.parent.after( self.delay, self.move_my_shape )\n",
    "        \n",
    "    def get_next_shape( self ):\n",
    "        \"\"\"\n",
    "        Randomly select which tetrominoe will be used next.\n",
    "        \"\"\"\n",
    "        the_shape = self.shapes[ randint(0,len(self.shapes)-1) ]\n",
    "        return the_shape.check_and_create(self.board)\n",
    "        \n",
    "        \n",
    "if __name__ == \"__main__\":\n",
    "    root = Tk()\n",
    "    root.title(\"Tetris Tk\")\n",
    "    theGame = game_controller( root )\n",
    "    \n",
    "    root.mainloop()\n"
   ]
  },
  {
   "cell_type": "markdown",
   "metadata": {
    "slideshow": {
     "slide_type": "slide"
    }
   },
   "source": [
    "# Scientific building blocks \n",
    "* Numpy \n",
    "* pandas \n",
    "* Statsmodels \n",
    "* Sympy \n",
    "\n",
    "<img src=\"resources/img/numpy.png\" alt=\"guido\"  height=\"60\" align=\"right\"> \n",
    "<img src=\"resources/img/pandas.png\" alt=\"guido\"  height=\"60\" align=\"right\">\n",
    "<img src=\"resources/img/statsmodels.png\" alt=\"guido\"  height=\"60\" align=\"right\">\n",
    "<img src=\"resources/img/sympy.png\" alt=\"guido\"  height=\"60\" align=\"right\">"
   ]
  },
  {
   "cell_type": "markdown",
   "metadata": {
    "slideshow": {
     "slide_type": "slide"
    }
   },
   "source": [
    "# Numpy <img src=\"resources/img/numpy.png\" alt=\"guido\"  height=\"80\" align=\"right\"> \n",
    "* NumPy is the fundamental package for scientific computing with Python\n",
    "* a powerful N-dimensional array object (Matrix)\n",
    "* sophisticated (broadcasting) functions\n",
    "* tools for integrating C/C++ and Fortran code\n",
    "* useful linear algebra, Fourier transform, and random number capabilities\n",
    "\n",
    "* Besides its obvious scientific uses, NumPy can also be used as an efficient multi-dimensional container of generic data. \n",
    "* Arbitrary data-types can be defined. \n",
    "\n",
    "\n",
    " ### [NumPy Demo](resources/notebooks/numpy_basics.ipynb)\n",
    "\n"
   ]
  },
  {
   "cell_type": "markdown",
   "metadata": {
    "slideshow": {
     "slide_type": "slide"
    }
   },
   "source": [
    "# Pandas <img src=\"resources/img/pandas.png\" alt=\"guido\"  height=\"80\" align=\"right\"> \n",
    "\n",
    "pandas is provides high-performance, easy-to-use   data structures and data analysis tools   for the Python programming language.\n",
    "  \n",
    "* analog to R - data.frame\n",
    "* tabular and time series data\n",
    "* think excel\n",
    "\n",
    "### [pandas demo](resources/notebooks/pandas_basics.ipynb)"
   ]
  },
  {
   "cell_type": "markdown",
   "metadata": {
    "slideshow": {
     "slide_type": "slide"
    }
   },
   "source": [
    "# Sympy <img src=\"resources/img/sympy.png\" alt=\"guido\"  height=\"100\" align=\"right\"> \n",
    "* SymPy is a Python library for symbolic mathematics. \n",
    "* It aims to become a full-featured computer algebra system (CAS) \n",
    "* SymPy is written entirely in Python and does not require any external libraries.\n",
    "\n",
    "### [SymPy Demo](resources/notebooks/sympy_basics.ipynb)\n",
    "\n"
   ]
  },
  {
   "cell_type": "markdown",
   "metadata": {
    "slideshow": {
     "slide_type": "slide"
    }
   },
   "source": [
    "# Statsmodels <img src=\"resources/img/statsmodels.png\" alt=\"guido\"  height=\"80\" align=\"right\"> \n",
    "\n",
    "* Linear regression models\n",
    "* Generalized linear models\n",
    "* Discrete choice models\n",
    "* Robust linear models\n",
    "* Many models and functions for time series analysis\n",
    "* Nonparametric estimators\n",
    "* A wide range of statistical tests\n",
    "* Plotting functions\n",
    "\n",
    "[Ordinary Least Squares Demo](resources/notebooks/stats_basics.ipynb)\n"
   ]
  },
  {
   "cell_type": "markdown",
   "metadata": {
    "slideshow": {
     "slide_type": "slide"
    }
   },
   "source": [
    "# Machine learning \n",
    "* Pattern Recognition\n",
    "<img src=\"resources/img/scikit.png\" alt=\"guido\"  height=\"80\" align=\"right\"> \n",
    "* key module - scikit-learn\n",
    "\n",
    "* Simple and efficient tools for data mining and data analysis\n",
    "* Accessible to everybody, and reusable in various contexts\n",
    "* Built on NumPy, SciPy, and matplotlib\n",
    "\n",
    "* Classification, Regression\n",
    "* Clustering, Model selection\n",
    "* Dimensionality reduction\n",
    "### [Face Recognition Demo](resources/notebooks/machine_learning_basics.ipynb) \n",
    "\n"
   ]
  },
  {
   "cell_type": "markdown",
   "metadata": {
    "slideshow": {
     "slide_type": "slide"
    }
   },
   "source": [
    "# Control systems [1] <img src=\"resources/img/control6.png\" alt=\"guido\"  height=\"150 \" align=\"right\"> \n",
    "The python-control package is a set of python classes and functions that implement common operations for the analysis and design of feedback control systems. \n",
    "\n",
    "* Linear input/output systems in state space and frequency domain (transfer functions)\n",
    "* Block diagram algebra: serial, parallel and feedback interconnections\n",
    "* Time response: initial, step, impulse (using the scipy.signal package)\n",
    "* Frequency response: Bode and Nyquist plots\n",
    "* Control analysis: stability, reachability, observability, stability margins\n",
    "* Estimator design: linear quadratic estimator (Kalman filter)\n",
    "* [Download package](https://sourceforge.net/projects/python-control/files)"
   ]
  },
  {
   "cell_type": "markdown",
   "metadata": {
    "slideshow": {
     "slide_type": "slide"
    }
   },
   "source": [
    "# Control systems [2]\n",
    "\n",
    "<img src=\"resources/img/control1.png\" alt=\"guido\"  height=\"350\" align=\"left\"> \n",
    "<img src=\"resources/img/control2.png\" alt=\"guido\"  height=\"150\" align=\"left\"> \n",
    "<img src=\"resources/img/control3.png\" alt=\"guido\"  height=\"150\" align=\"left\"> \n",
    "<img src=\"resources/img/control4.png\" alt=\"guido\"  height=\"150\" align=\"right\"> \n",
    "<img src=\"resources/img/control5.png\" alt=\"guido\"  height=\"150\" align=\"right\"> \n",
    "<img src=\"resources/img/control6.png\" alt=\"guido\"  height=\"150\" align=\"right\"> \n",
    "<img src=\"resources/img/control7.png\" alt=\"guido\"  height=\"150\" align=\"right\"> \n",
    "<img src=\"resources/img/control8.png\" alt=\"guido\"  height=\"150\"> "
   ]
  },
  {
   "cell_type": "markdown",
   "metadata": {
    "slideshow": {
     "slide_type": "slide"
    }
   },
   "source": [
    "# Simulation\n",
    "* No real alternative to `Simulink`\n",
    "\n",
    "<img src=\"resources/img/simulink.png\" alt=\"guido\"  height=\"250\" > \n",
    "\n",
    "\n"
   ]
  },
  {
   "cell_type": "markdown",
   "metadata": {
    "slideshow": {
     "slide_type": "slide"
    }
   },
   "source": [
    "# Databases <img src=\"resources/img/sql.png\" alt=\"guido\"  height=\"80\" align=\"right\"> \n",
    "* interact directly with sqlite, mySQL, Oracle, MSSql etc\n",
    "* Chinook database \n",
    "<img src=\"resources/img/ChinookDatabaseSchema.png\" alt=\"guido\"  height=\"700\" align=\"right\"> "
   ]
  },
  {
   "cell_type": "code",
   "execution_count": 41,
   "metadata": {
    "collapsed": false,
    "slideshow": {
     "slide_type": "slide"
    }
   },
   "outputs": [
    {
     "data": {
      "text/html": [
       "<div style=\"max-height:1000px;max-width:1500px;overflow:auto;\">\n",
       "<table border=\"1\" class=\"dataframe\">\n",
       "  <thead>\n",
       "    <tr style=\"text-align: right;\">\n",
       "      <th></th>\n",
       "      <th>AlbumId</th>\n",
       "      <th>Title</th>\n",
       "      <th>ArtistId</th>\n",
       "    </tr>\n",
       "  </thead>\n",
       "  <tbody>\n",
       "    <tr>\n",
       "      <th>0</th>\n",
       "      <td>  1</td>\n",
       "      <td> For Those About To Rock We Salute You</td>\n",
       "      <td> 1</td>\n",
       "    </tr>\n",
       "    <tr>\n",
       "      <th>1</th>\n",
       "      <td>  2</td>\n",
       "      <td>                     Balls to the Wall</td>\n",
       "      <td> 2</td>\n",
       "    </tr>\n",
       "    <tr>\n",
       "      <th>2</th>\n",
       "      <td>  3</td>\n",
       "      <td>                     Restless and Wild</td>\n",
       "      <td> 2</td>\n",
       "    </tr>\n",
       "    <tr>\n",
       "      <th>3</th>\n",
       "      <td>  4</td>\n",
       "      <td>                     Let There Be Rock</td>\n",
       "      <td> 1</td>\n",
       "    </tr>\n",
       "    <tr>\n",
       "      <th>4</th>\n",
       "      <td>  5</td>\n",
       "      <td>                              Big Ones</td>\n",
       "      <td> 3</td>\n",
       "    </tr>\n",
       "    <tr>\n",
       "      <th>5</th>\n",
       "      <td>  6</td>\n",
       "      <td>                    Jagged Little Pill</td>\n",
       "      <td> 4</td>\n",
       "    </tr>\n",
       "    <tr>\n",
       "      <th>6</th>\n",
       "      <td>  7</td>\n",
       "      <td>                              Facelift</td>\n",
       "      <td> 5</td>\n",
       "    </tr>\n",
       "    <tr>\n",
       "      <th>7</th>\n",
       "      <td>  8</td>\n",
       "      <td>                        Warner 25 Anos</td>\n",
       "      <td> 6</td>\n",
       "    </tr>\n",
       "    <tr>\n",
       "      <th>8</th>\n",
       "      <td>  9</td>\n",
       "      <td>        Plays Metallica By Four Cellos</td>\n",
       "      <td> 7</td>\n",
       "    </tr>\n",
       "    <tr>\n",
       "      <th>9</th>\n",
       "      <td> 10</td>\n",
       "      <td>                            Audioslave</td>\n",
       "      <td> 8</td>\n",
       "    </tr>\n",
       "  </tbody>\n",
       "</table>\n",
       "</div>"
      ],
      "text/plain": [
       "   AlbumId                                  Title  ArtistId\n",
       "0        1  For Those About To Rock We Salute You         1\n",
       "1        2                      Balls to the Wall         2\n",
       "2        3                      Restless and Wild         2\n",
       "3        4                      Let There Be Rock         1\n",
       "4        5                               Big Ones         3\n",
       "5        6                     Jagged Little Pill         4\n",
       "6        7                               Facelift         5\n",
       "7        8                         Warner 25 Anos         6\n",
       "8        9         Plays Metallica By Four Cellos         7\n",
       "9       10                             Audioslave         8"
      ]
     },
     "execution_count": 41,
     "metadata": {},
     "output_type": "execute_result"
    }
   ],
   "source": [
    "import pandas as pd\n",
    "from sqlalchemy import create_engine \n",
    "\n",
    "disk_engine = create_engine('sqlite:///resources/data/Chinook_Sqlite.sqlite') \n",
    "df1 = pd.read_sql( 'select * from Album limit 10', disk_engine)\n",
    "df1"
   ]
  },
  {
   "cell_type": "code",
   "execution_count": 42,
   "metadata": {
    "collapsed": false,
    "slideshow": {
     "slide_type": "slide"
    }
   },
   "outputs": [
    {
     "data": {
      "text/html": [
       "<div style=\"max-height:1000px;max-width:1500px;overflow:auto;\">\n",
       "<table border=\"1\" class=\"dataframe\">\n",
       "  <thead>\n",
       "    <tr style=\"text-align: right;\">\n",
       "      <th></th>\n",
       "      <th>EmployeeId</th>\n",
       "      <th>LastName</th>\n",
       "      <th>FirstName</th>\n",
       "      <th>Title</th>\n",
       "      <th>ReportsTo</th>\n",
       "      <th>BirthDate</th>\n",
       "      <th>HireDate</th>\n",
       "      <th>Address</th>\n",
       "      <th>City</th>\n",
       "      <th>State</th>\n",
       "      <th>Country</th>\n",
       "      <th>PostalCode</th>\n",
       "      <th>Phone</th>\n",
       "      <th>Fax</th>\n",
       "      <th>Email</th>\n",
       "    </tr>\n",
       "  </thead>\n",
       "  <tbody>\n",
       "    <tr>\n",
       "      <th>0</th>\n",
       "      <td> 1</td>\n",
       "      <td>   Adams</td>\n",
       "      <td>   Andrew</td>\n",
       "      <td>     General Manager</td>\n",
       "      <td>NaN</td>\n",
       "      <td> 1962-02-18 00:00:00</td>\n",
       "      <td> 2002-08-14 00:00:00</td>\n",
       "      <td> 11120 Jasper Ave NW</td>\n",
       "      <td> Edmonton</td>\n",
       "      <td> AB</td>\n",
       "      <td> Canada</td>\n",
       "      <td> T5K 2N1</td>\n",
       "      <td> +1 (780) 428-9482</td>\n",
       "      <td> +1 (780) 428-3457</td>\n",
       "      <td>   andrew@chinookcorp.com</td>\n",
       "    </tr>\n",
       "    <tr>\n",
       "      <th>1</th>\n",
       "      <td> 2</td>\n",
       "      <td> Edwards</td>\n",
       "      <td>    Nancy</td>\n",
       "      <td>       Sales Manager</td>\n",
       "      <td>  1</td>\n",
       "      <td> 1958-12-08 00:00:00</td>\n",
       "      <td> 2002-05-01 00:00:00</td>\n",
       "      <td>        825 8 Ave SW</td>\n",
       "      <td>  Calgary</td>\n",
       "      <td> AB</td>\n",
       "      <td> Canada</td>\n",
       "      <td> T2P 2T3</td>\n",
       "      <td> +1 (403) 262-3443</td>\n",
       "      <td> +1 (403) 262-3322</td>\n",
       "      <td>    nancy@chinookcorp.com</td>\n",
       "    </tr>\n",
       "    <tr>\n",
       "      <th>2</th>\n",
       "      <td> 3</td>\n",
       "      <td> Peacock</td>\n",
       "      <td>     Jane</td>\n",
       "      <td> Sales Support Agent</td>\n",
       "      <td>  2</td>\n",
       "      <td> 1973-08-29 00:00:00</td>\n",
       "      <td> 2002-04-01 00:00:00</td>\n",
       "      <td>       1111 6 Ave SW</td>\n",
       "      <td>  Calgary</td>\n",
       "      <td> AB</td>\n",
       "      <td> Canada</td>\n",
       "      <td> T2P 5M5</td>\n",
       "      <td> +1 (403) 262-3443</td>\n",
       "      <td> +1 (403) 262-6712</td>\n",
       "      <td>     jane@chinookcorp.com</td>\n",
       "    </tr>\n",
       "    <tr>\n",
       "      <th>3</th>\n",
       "      <td> 4</td>\n",
       "      <td>    Park</td>\n",
       "      <td> Margaret</td>\n",
       "      <td> Sales Support Agent</td>\n",
       "      <td>  2</td>\n",
       "      <td> 1947-09-19 00:00:00</td>\n",
       "      <td> 2003-05-03 00:00:00</td>\n",
       "      <td>    683 10 Street SW</td>\n",
       "      <td>  Calgary</td>\n",
       "      <td> AB</td>\n",
       "      <td> Canada</td>\n",
       "      <td> T2P 5G3</td>\n",
       "      <td> +1 (403) 263-4423</td>\n",
       "      <td> +1 (403) 263-4289</td>\n",
       "      <td> margaret@chinookcorp.com</td>\n",
       "    </tr>\n",
       "    <tr>\n",
       "      <th>4</th>\n",
       "      <td> 5</td>\n",
       "      <td> Johnson</td>\n",
       "      <td>    Steve</td>\n",
       "      <td> Sales Support Agent</td>\n",
       "      <td>  2</td>\n",
       "      <td> 1965-03-03 00:00:00</td>\n",
       "      <td> 2003-10-17 00:00:00</td>\n",
       "      <td>        7727B 41 Ave</td>\n",
       "      <td>  Calgary</td>\n",
       "      <td> AB</td>\n",
       "      <td> Canada</td>\n",
       "      <td> T3B 1Y7</td>\n",
       "      <td>  1 (780) 836-9987</td>\n",
       "      <td>  1 (780) 836-9543</td>\n",
       "      <td>    steve@chinookcorp.com</td>\n",
       "    </tr>\n",
       "  </tbody>\n",
       "</table>\n",
       "</div>"
      ],
      "text/plain": [
       "   EmployeeId LastName FirstName                Title  ReportsTo  \\\n",
       "0           1    Adams    Andrew      General Manager        NaN   \n",
       "1           2  Edwards     Nancy        Sales Manager          1   \n",
       "2           3  Peacock      Jane  Sales Support Agent          2   \n",
       "3           4     Park  Margaret  Sales Support Agent          2   \n",
       "4           5  Johnson     Steve  Sales Support Agent          2   \n",
       "\n",
       "             BirthDate             HireDate              Address      City  \\\n",
       "0  1962-02-18 00:00:00  2002-08-14 00:00:00  11120 Jasper Ave NW  Edmonton   \n",
       "1  1958-12-08 00:00:00  2002-05-01 00:00:00         825 8 Ave SW   Calgary   \n",
       "2  1973-08-29 00:00:00  2002-04-01 00:00:00        1111 6 Ave SW   Calgary   \n",
       "3  1947-09-19 00:00:00  2003-05-03 00:00:00     683 10 Street SW   Calgary   \n",
       "4  1965-03-03 00:00:00  2003-10-17 00:00:00         7727B 41 Ave   Calgary   \n",
       "\n",
       "  State Country PostalCode              Phone                Fax  \\\n",
       "0    AB  Canada    T5K 2N1  +1 (780) 428-9482  +1 (780) 428-3457   \n",
       "1    AB  Canada    T2P 2T3  +1 (403) 262-3443  +1 (403) 262-3322   \n",
       "2    AB  Canada    T2P 5M5  +1 (403) 262-3443  +1 (403) 262-6712   \n",
       "3    AB  Canada    T2P 5G3  +1 (403) 263-4423  +1 (403) 263-4289   \n",
       "4    AB  Canada    T3B 1Y7   1 (780) 836-9987   1 (780) 836-9543   \n",
       "\n",
       "                      Email  \n",
       "0    andrew@chinookcorp.com  \n",
       "1     nancy@chinookcorp.com  \n",
       "2      jane@chinookcorp.com  \n",
       "3  margaret@chinookcorp.com  \n",
       "4     steve@chinookcorp.com  "
      ]
     },
     "execution_count": 42,
     "metadata": {},
     "output_type": "execute_result"
    }
   ],
   "source": [
    "df2 = pd.read_sql( 'select * from Employee', disk_engine)\n",
    "df2.head()   #dselect * from Employee limit 10"
   ]
  },
  {
   "cell_type": "markdown",
   "metadata": {
    "slideshow": {
     "slide_type": "slide"
    }
   },
   "source": [
    "# Signal processing <img src=\"resources/img/fft.png\" alt=\"guido\"  height=\"380\" align=\"right\"> \n",
    "* [Basic Fourier Transform example](resources/notebooks/signal_processing_basics.ipynb)\n"
   ]
  },
  {
   "cell_type": "markdown",
   "metadata": {
    "slideshow": {
     "slide_type": "slide"
    }
   },
   "source": [
    "# Optimising code [1] <img src=\"resources/img/cython.png\" alt=\"guido\"  height=\"50\" align=\"right\"> \n",
    "\n",
    "Cython is an optimising static compiler for both the Python programming language and the extended Cython programming language (based on Pyrex). It makes writing C extensions for Python as easy as Python itself.\n",
    "Cython gives you the combined power of Python and C to let you:\n",
    "<img src=\"resources/img/cythonplace.png\" alt=\"guido\"  height=\"450\" > "
   ]
  },
  {
   "cell_type": "markdown",
   "metadata": {
    "slideshow": {
     "slide_type": "slide"
    }
   },
   "source": [
    "# Optimising code [2]  <img src=\"resources/img/cython.png\" alt=\"guido\"  height=\"40\" align=\"right\"> \n",
    "* Cython is the missing link between the simplicity of Python and the speed of C / C++ / Fortran\n",
    "* tune Python code into plain C performance by adding __static__ type declarations\n",
    "\n",
    "\n",
    "## You write Python code:\n",
    "1. Cython translates it into C code\n",
    "1. your C compiler builds a shared library for CPython\n",
    "1.  you import your module into CPython"
   ]
  },
  {
   "cell_type": "markdown",
   "metadata": {
    "slideshow": {
     "slide_type": "slide"
    }
   },
   "source": [
    "# Multi-processing\n",
    "* Built in `multiprocessing` library\n",
    "* IPython provides more options\n",
    "* NVIDIA CUDA- Nvidia‘s CUDA parallel computation API from Python\n",
    "* Apche Spark - is a fast and general engine for large-scale data processing.\n",
    "* Apache hadoop - reliable, scalable, distributed computing\n",
    "\n",
    "\n",
    "<img src=\"resources/img/spark.png\" alt=\"guido\"  height=\"100\" align=\"left\"> \n",
    "<img src=\"resources/img/hadoop.png\" alt=\"guido\"  height=\"100\" align=\"left\"> \n",
    "<img src=\"resources/img/cuda.png\" alt=\"guido\"  height=\"100\" align=\"left\"> \n",
    "\n"
   ]
  },
  {
   "cell_type": "markdown",
   "metadata": {
    "slideshow": {
     "slide_type": "slide"
    }
   },
   "source": [
    "# Embedded systems[1] <img src=\"resources/img/raspiboard.jpg\" alt=\"guido\"  height=\"200\" align=\"right\"> \n",
    "\n",
    "\n",
    "## RaspberryPi\n",
    "* Credit-card sized computer \n",
    "* Runs Ubuntu, Debian, Windows 10 IOT\n",
    "* Base language adoptep is Python\n",
    "* Used in thousands of hobby and science applications\n",
    "* Also has Mathematica and Wolfram Engine built in for educational purposes"
   ]
  },
  {
   "cell_type": "markdown",
   "metadata": {
    "slideshow": {
     "slide_type": "slide"
    }
   },
   "source": [
    "# Embedded systems[2] <img src=\"resources/img/upython.png\" alt=\"guido\" height=\"150\" align=\"right\">\n",
    "## MicroPython\n",
    "* [MicroPython](https://micropython.org/) is P3 that runs on a microcontroller.\n",
    "* Low-level Python operating system on chip\n",
    "* LED, GPIO, Servo Control, Interupts\n",
    "* Timers, PWM, DAC, ADC, UART, SPI, I2C\n",
    "\n",
    "## Servo Control Example Code\n",
    "```python\n",
    "    from pyb import Servo\n",
    "    s1 = Servo(1) \n",
    "    s1.angle(45) \n",
    "    s1.angle(-60, 1500) \n",
    "    s1.speed(50) \n",
    "```\n",
    "\n",
    "<img src=\"resources/img/upythonlayout.png\" alt=\"guido\"  height=\"500\" align=\"left\"> "
   ]
  },
  {
   "cell_type": "markdown",
   "metadata": {
    "slideshow": {
     "slide_type": "slide"
    }
   },
   "source": [
    "# Python and Excel/PPT/Word \n",
    "\n",
    "## Excel\n",
    "* Pandas saves to excel natively\n",
    "* [XLWINGS](http://xlwings.org/) - VBA replacement\n",
    "* [pyXLL](https://www.pyxll.com/) (commercial)\n",
    "\n",
    "## PPT\n",
    "* [python-pptx](https://python-pptx.readthedocs.org/en/latest/)\n",
    "\n",
    "## Word\n",
    "* [python-docx](https://python-docx.readthedocs.org/en/latest/)\n",
    "\n",
    "<img src=\"resources/img/xlwings.png\" alt=\"guido\"  height=\"150\" align=\"left\"> \n",
    "<img src=\"resources/img/pyxll.png\" alt=\"guido\"  height=\"150\" align=\"left\"> \n",
    "<img src=\"resources/img/excel.png\" alt=\"guido\"  height=\"150\" align=\"left\"> \n",
    "<img src=\"resources/img/ppt.png\" alt=\"guido\"  height=\"150\" align=\"left\"> \n"
   ]
  },
  {
   "cell_type": "markdown",
   "metadata": {
    "slideshow": {
     "slide_type": "slide"
    }
   },
   "source": [
    "# Packaging your application\n",
    "* [PyInstaller](https://micropython.org/) is a program that converts (packages) Python programs into stand-alone executables:\n",
    " * Windows, \n",
    " * Linux, \n",
    " * Mac \n",
    " * OS X, \n",
    " * Solaris\n",
    "* Bundle to one file or directory based install\n"
   ]
  },
  {
   "cell_type": "markdown",
   "metadata": {
    "slideshow": {
     "slide_type": "slide"
    }
   },
   "source": [
    "# References\n",
    "1. [Why are there no python RAD type IDE GUIs?](https://www.reddit.com/r/Python/comments/29ds46/why_are_there_no_python_rad_type_ide_guis/)\n",
    "\n",
    "1. [PyCharm](https://www.jetbrains.com/pycharm/)\n",
    "\n",
    "1. [Python-control/Example: Vertical takeoff and landing aircraft - MurrayWiki](https://www.cds.caltech.edu/~murray/wiki/index.php/Python-control/Example:_Vertical_takeoff_and_landing_aircraft)\n",
    "\n",
    "1. [Control Systems Library for Python - MurrayWiki](https://www.cds.caltech.edu/~murray/wiki/Control_Systems_Library_for_Python)\n",
    "\n",
    "1. [logos](https://www.apple.com/ios/)\n",
    "\n",
    "1. [Optimizing Python - A Case Study](https://www.airpair.com/)\n",
    "\n",
    "1. [jython python implementation](https://wiki.python.org/jython/WhyJython)\n",
    "\n",
    "1. [Wakari - Web-based Python Data Analysis](https://wakari.io/)\n",
    "\n",
    "1. [Jupyter online jupyter](https://try.jupyter.org/)\n",
    "\n",
    "1. [Trinket helps you teach with code](https://trinket.io/)\n",
    "\n",
    "1. [Anaconda Scientific Python Distribution](https://store.continuum.io/cshop/anaconda/)\n",
    "\n",
    "1. [Python vs Matlab - Python for scientists](https://sites.google.com/site/pythonforscientists/python-vs-matlab)\n",
    "\n",
    "1. [Python for scientists](https://scipy-lectures.github.io/intro/intro.html#why-python)\n",
    "\n",
    "1. [python powerpoint](https://python-pptx.readthedocs.org/en/latest/)\n",
    "\n",
    "1. [Spyder](https://pythonhosted.org/spyder/overview.html)\n",
    "\n",
    "1. [Overview — PySide 1.2.1 documentation](https://pyside.github.io/docs/pyside/)\n",
    "\n",
    "1. [Python Graphing Library | Documentation and Examples | plotly](https://plot.ly/python/)\n",
    "\n",
    "1. [MicroPython - Python for microcontrollers python implementation](https://micropython.org/)\n",
    "\n",
    "1. [MicroPython - Python for microcontrollers](https://micropython.org/)\n",
    "\n",
    "1. [Why Python is Better than Matlab for Scientific Software | Meta Rabbit](https://metarabbit.wordpress.com/2013/10/18/why-python-is-better-than-matlab-for-scientific-software/)\n",
    "\n",
    "1. [Introcution to Python : Outline](https://mail.google.com/mail/u/0/#inbox)\n",
    "\n",
    "1. [pyinstaller/pyinstaller](https://github.com/pyinstaller/pyinstaller/wiki)\n",
    "\n",
    "1. [NelisW/PythonNotesToSelf](https://github.com/NelisW/PythonNotesToSelf)\n",
    "\n",
    "1. [NelisW/pyradi python science denel spesific](https://github.com/NelisW/pyradi)\n",
    "\n",
    "1. [scientific-python-lectures](https://github.com/jrjohansson/scientific-python-lectures?files=1)\n",
    "\n",
    "1. [jrjohansson/scientific-python-lectures](https://github.com/jrjohansson/scientific-python-lectures?files=1)\n",
    "\n",
    "1. [pyvim](https://github.com/jonathanslenders/pyvim/blob/master/README.rst)\n",
    "\n",
    "1. [IPYTHON Notebooks by IPython](https://github.com/ipython/ipython-in-depth)\n",
    "\n",
    "1. [IPython kernels for other languages · ipython/ipython Wiki](https://github.com/ipython/ipython/wiki/IPython-kernels-for-other-languages)\n",
    "\n",
    "1. [A gallery of interesting IPython Notebooks · ipython/ipython Wiki](https://github.com/ipython/ipython/wiki/A-gallery-of-interesting-IPython-Notebooks)\n",
    "\n",
    "1. [RISE notebook presentation mode](https://github.com/damianavila/RISE/blob/master/README.md)\n",
    "\n",
    "1. [Skulpt Notebook Kernel](https://github.com/Calysto/skulpt_python/blob/master/README.md)\n",
    "\n",
    "1. [Calysto/matlab_kernel](https://github.com/calysto/matlab_kernel)\n",
    "\n",
    "1. [notebook examples](https://github.com/addfor/tutorials/blob/master/README.md)\n",
    "\n",
    "1. [Example ipynb to test LIVE reveal extension.](https://gist.github.com/damianavila/6345426)\n",
    "\n",
    "1. [ide Enthought Canopy](https://enthought.com/products/canopy/)\n",
    "\n",
    "1. [Enthought Scientific Computing Solutions](https://enthought.com/)\n",
    "\n",
    "1. [pyton standard library](https://docs.python.org/2/library/)\n",
    "\n",
    "1. [Jake VanderPlas - notebooks](https://beta.oreilly.com/people/89c9c-jake-vanderplas)\n",
    "\n",
    "1. [Automate the Boring Stuff with Python | Practical Programming for Total Beginners book free](https://automatetheboringstuff.com/)\n",
    "\n",
    "1. [Zoof — the interactive IDE for dynamic languages](http://zoof.io/)\n",
    "\n",
    "1. [xlwings - Replace Excel VBA with Python!](http://xlwings.org/)\n",
    "\n",
    "1. [SQLAlchemy - The Database Toolkit for Python](http://www.sqlalchemy.org/)\n",
    "\n",
    "1. [Python for Computational Science](http://www.southampton.ac.uk/~fangohr/training/python/pdfs/Python-for-Computational-Science-and-Engineering.pdf)\n",
    "\n",
    "1. [python vs matlab chapter 10, p91](http://www.southampton.ac.uk/~fangohr/training/python/pdfs/Python-for-Computational-Science-and-Engineering.pdf)\n",
    "\n",
    "1. [Python for Science and Engineering: a presentation to A*STAR and the …](http://www.slideshare.net/pythoncharmers/python-for-science-and-engineering-a-presentation-to-astar-and-the-singapore-computational-sciences-club-edward-schofield-june-2011)\n",
    "\n",
    "1. [migrating-from-matlab-to-python. remember quda](http://www.slideshare.net/mobile/activestate/migrating-from-matlab-to-python?qid=f83bd1a2-95b0-4df5-97e2-120cda93a3fe&v=default&b=&from_search=3)\n",
    "\n",
    "1. [Python. Client side.](http://www.skulpt.org/)\n",
    "\n",
    "1. [SciPy.org — SciPy.org](http://www.scipy.org/)\n",
    "\n",
    "1. [Python vs Matlab — Pyzo - Python to the people](http://www.pyzo.org/python_vs_matlab.html)\n",
    "\n",
    "1. [Camelot](http://www.python-camelot.com/)\n",
    "\n",
    "1. [DENEL TALK FRAMEWORK](http://www.numpy.org/)\n",
    "\n",
    "1. [NumPy — Numpy](http://www.numpy.org/)\n",
    "\n",
    "1. [Natural Language Toolkit — NLTK 3.0 documentation](http://www.nltk.org/)\n",
    "\n",
    "1. [IPython lecture notes Strang Linear Algebra](http://www.juanklopper.com/opencourseware/mathematics-2/ipython-lecture-notes/)\n",
    "\n",
    "1. [Automate the export of PowerPoint files to Images | PowerPoint Presentation](http://www.free-power-point-templates.com/articles/automate-the-export-of-powerpoint-files-to-images/)\n",
    "\n",
    "1. [Introduction to Python for Statistical Learning | DataRobot](http://www.datarobot.com/blog/introduction-to-python-for-statistical-learning/?utm_source=twitter&utm_medium=article&utm_campaign=General)\n",
    "\n",
    "1. [potential course outline](http://www.dabeaz.com/chicago/science.html)\n",
    "\n",
    "1. [Astropy](http://www.astropy.org/)\n",
    "\n",
    "1. [StatsModels: Statistics in Python — statsmodels documentation](http://statsmodels.sourceforge.net/)\n",
    "\n",
    "1. [Trim whitespace using PIL - Stack Overflow](http://stackoverflow.com/questions/10615901/trim-whitespace-using-pil)\n",
    "\n",
    "1. [scikit-learn: machine learning in Python — scikit-learn 0.16.1 documentation](http://scikit-learn.org/stable/index.html)\n",
    "\n",
    "1. [scikit-image: Image processing in Python — scikit-image](http://scikit-image.org/)\n",
    "\n",
    "1. [Writing Python Compiled Modules - InfoSec Institute](http://resources.infosecinstitute.com/writing-python-compiled-modules/)\n",
    "\n",
    "1. [Vectorization – Magic for your Computations](http://quantess.net/2013/09/30/vectorization-magic-for-your-computations/)\n",
    "\n",
    "1. [Online Python Tutor - Visualize Python, Java, JavaScript, and TypeScript code](http://pythontutor.com/)\n",
    "\n",
    "1. [PyInstaller](http://pythonhosted.org/PyInstaller/#bundling-to-one-file)\n",
    "\n",
    "1. [PyPy - Python implementation](http://pypy.org/)\n",
    "\n",
    "1. [PyDev](http://pydev.org/)\n",
    "\n",
    "1. [Pandas](http://pandas.pydata.org/)\n",
    "\n",
    "1. [Python For Scientific Engineering - OpenOpt](http://openopt.org/Python_For_Scientific_Engineering)\n",
    "\n",
    "1. [Publishing Workflows for IPython/Jupyter Notebooks](http://odewahn.github.io/publishing-workflows-for-jupyter/#1)\n",
    "\n",
    "1. [Introduction — pyradi documentation denel spesific](http://nelisw.github.io/pyradi-docs/_build/html/introduction.html)\n",
    "\n",
    "1. [Notebook widgets](http://nbviewer.ipython.org/gist/chriddyp/9827cb5086cfab8da092)\n",
    "\n",
    "1. [Widgets in IPython notebook and Plotly | Modern Data](http://moderndata.plot.ly/widgets-in-ipython-notebook-and-plotly/)\n",
    "\n",
    "1. [R, Python, MATLAB, & Excel Dashboards & Graphs with D3.js & WebGL | Modern Data](http://moderndata.plot.ly/r-python-matlab-dashboards-graphs-with-d3-js-webgl/)\n",
    "\n",
    "1. [100x faster Plotly graphs in IPython notebook | Modern Data](http://moderndata.plot.ly/100x-faster-plotly-graphs-in-ipython-notebook/)\n",
    "\n",
    "1. [Python Tools for Visual Studio](http://microsoft.github.io/PTVS/)\n",
    "\n",
    "1. [matplotlib: python plotting — Matplotlib 1.4.3 documentation](http://matplotlib.org/)\n",
    "\n",
    "1. [Why I push for Python, Python vs. Matlab](http://lorenabarba.com/blog/why-i-push-for-python/#.U3FMdNVey9I.google_plusone_share)\n",
    "\n",
    "1. [Optimize Python with Closures « late.am](http://late.am/post/2015/05/07/optimize-python-with-closures.html)\n",
    "\n",
    "1. [Kivy: Cross-platform Python Framework for NUI](http://kivy.org/#home)\n",
    "\n",
    "1. [KivEnt](http://kivent.org/)\n",
    "\n",
    "1. [IronPython Python implementation](http://ironpython.net/)\n",
    "\n",
    "1. [ggplot | Home](http://ggplot.yhathq.com/)\n",
    "\n",
    "1. [Python (programming language) - Wikipedia, the free encyclopedia](http://en.wikipedia.org/wiki/Python_(programming_language))\n",
    "\n",
    "1. [Welcome to PyCUDA’s documentation!](http://documen.tician.de/pycuda/)\n",
    "\n",
    "1. [What’s New — xlwings 0.3.5 documentation](http://docs.xlwings.org/en/latest/whatsnew.html)\n",
    "\n",
    "1. [Python interpreters](http://docs.python-guide.org/en/latest/starting/which-python/)\n",
    "\n",
    "1. [Welcome to Bokeh — Bokeh 0.9.0 documentation](http://bokeh.pydata.org/en/latest/)\n",
    "\n",
    "1. [ŷhat | Rodeo: A data science IDE for Python](http://blog.yhathq.com/posts/introducing-rodeo.html)\n",
    "\n",
    "1. [.py in the sky](http://astrofrog.github.io/blog/2015/05/09/2015-survey-results/?utm_content=buffer0c580&utm_medium=social&utm_source=twitter.com&utm_campaign=buffer)\n",
    "\n",
    "1. [Data Science Wars: R vs. Python | Data Science 101](http://101.datascience.community/2015/05/12/data-science-wars-r-vs-python/)\n",
    "\n",
    "1. [Table of Contents](file://Table of Contents)\n",
    "\n",
    "1. [Python reserved words]()\n",
    "\n",
    "1. [Python vs compiled languages]()\n",
    "\n",
    "1. [Python standard library - Batteries included]()\n",
    "\n",
    "1. [Python 2 vs 3]()\n",
    "\n",
    "1. [notebook make interactive plots]()\n",
    "\n",
    "1. [Raspberry Pi]()\n",
    "\n",
    "1. [Cython: C-Extensions for Python - Annotated]()\n",
    "\n",
    "1. [\"PyFormat: Using % and .format() for great good!\"]()\n",
    "\n",
    " \n"
   ]
  }
 ],
 "metadata": {
  "celltoolbar": "Slideshow",
  "kernelspec": {
   "display_name": "Python 2",
   "language": "python",
   "name": "python2"
  },
  "language_info": {
   "codemirror_mode": {
    "name": "ipython",
    "version": 2
   },
   "file_extension": ".py",
   "mimetype": "text/x-python",
   "name": "python",
   "nbconvert_exporter": "python",
   "pygments_lexer": "ipython2",
   "version": "2.7.10"
  }
 },
 "nbformat": 4,
 "nbformat_minor": 0
}
