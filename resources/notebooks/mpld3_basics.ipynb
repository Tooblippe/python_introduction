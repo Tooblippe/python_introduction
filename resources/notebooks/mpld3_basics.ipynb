{
 "cells": [
  {
   "cell_type": "markdown",
   "metadata": {},
   "source": [
    "# Plotting with mpld3"
   ]
  },
  {
   "cell_type": "markdown",
   "metadata": {},
   "source": [
    "This notebook gives a brief overview of [mpld3](http://mpld3.github.io), a package which allows seamless visualization of matplotlib plots using HTML, Javascript, and the [D3js](http://d3js.org/) package.\n",
    "\n",
    "One of the nicest parts of the IPython notebook is the ability to embed figures inline with code.  For example, we can quickly create a scatter plot as so:"
   ]
  },
  {
   "cell_type": "code",
   "execution_count": null,
   "metadata": {
    "collapsed": false
   },
   "outputs": [],
   "source": [
    "%pylab inline\n",
    "import matplotlib.pyplot as plt\n",
    "import numpy as np"
   ]
  },
  {
   "cell_type": "code",
   "execution_count": null,
   "metadata": {
    "collapsed": false
   },
   "outputs": [],
   "source": [
    "# Scatter points\n",
    "fig, ax = plt.subplots()\n",
    "np.random.seed(0)\n",
    "x, y = np.random.normal(size=(2, 200))\n",
    "color, size = np.random.random((2, 200))\n",
    "\n",
    "ax.scatter(x, y, c=color, s=500 * size, alpha=0.3)\n",
    "ax.grid(color='lightgray', alpha=0.7)"
   ]
  },
  {
   "cell_type": "markdown",
   "metadata": {},
   "source": [
    "A weakness quickly becomes clear, however: the embedded figure is a simple static PNG image.\n",
    "\n",
    "This is where mpld3 comes in. Using the simple ``mpld3.display()`` command, we can create a fully interactive visualization of the same plot:"
   ]
  },
  {
   "cell_type": "code",
   "execution_count": null,
   "metadata": {
    "collapsed": false
   },
   "outputs": [],
   "source": [
    "import mpld3\n",
    "mpld3.display(fig)"
   ]
  },
  {
   "cell_type": "markdown",
   "metadata": {},
   "source": [
    "Notice that as you hover over the plot, a toolbar appears in the lower left. This has tools to enable panning and zooming, and a button to reset the view once you've explored the plot.\n",
    "\n",
    "If you'd like to use mpld3 by default for every figure you generate, you can call the following command:"
   ]
  },
  {
   "cell_type": "code",
   "execution_count": null,
   "metadata": {
    "collapsed": false
   },
   "outputs": [],
   "source": [
    "mpld3.enable_notebook()"
   ]
  },
  {
   "cell_type": "markdown",
   "metadata": {},
   "source": [
    "## Other Plot Types"
   ]
  },
  {
   "cell_type": "markdown",
   "metadata": {},
   "source": [
    "Nearly any type of plot matplotlib can do, mpld3 can visualize as well. Below are some examples:"
   ]
  },
  {
   "cell_type": "markdown",
   "metadata": {},
   "source": [
    "### A Histogram"
   ]
  },
  {
   "cell_type": "code",
   "execution_count": null,
   "metadata": {
    "collapsed": false
   },
   "outputs": [],
   "source": [
    "# Histogram with modified axes/grid\n",
    "fig = plt.figure()\n",
    "\n",
    "ax = fig.add_subplot(111, axisbg='#EEEEEE')\n",
    "ax.grid(color='white', linestyle='solid')\n",
    "\n",
    "x = np.random.normal(size=1000)\n",
    "ax.hist(x, 30, histtype='stepfilled', fc='lightblue', alpha=0.5);"
   ]
  },
  {
   "cell_type": "markdown",
   "metadata": {},
   "source": [
    "### Line Plots with Legend"
   ]
  },
  {
   "cell_type": "code",
   "execution_count": null,
   "metadata": {
    "collapsed": false
   },
   "outputs": [],
   "source": [
    "# Draw lines\n",
    "fig, ax = plt.subplots()\n",
    "x = np.linspace(-5, 15, 1000)\n",
    "for offset in np.linspace(0, 3, 4):\n",
    "    ax.plot(x, 0.9 * np.sin(x - offset), lw=5, alpha=0.4,\n",
    "            label=\"Offset: {0}\".format(offset))\n",
    "ax.set_xlim(0, 10)\n",
    "ax.set_ylim(-1.2, 1.0)\n",
    "ax.text(5, -1.1, \"Here are some curves\", size=18, ha='center')\n",
    "ax.grid(color='lightgray', alpha=0.7)\n",
    "ax.legend()"
   ]
  },
  {
   "cell_type": "markdown",
   "metadata": {},
   "source": [
    "### Multiple Subplots with linked axes"
   ]
  },
  {
   "cell_type": "code",
   "execution_count": null,
   "metadata": {
    "collapsed": false
   },
   "outputs": [],
   "source": [
    "# multiple subplots, shared axes\n",
    "fig, ax = plt.subplots(2, 2, figsize=(8, 6),sharex='col', sharey='row')\n",
    "fig.subplots_adjust(hspace=0.3)\n",
    "\n",
    "np.random.seed(0)\n",
    "\n",
    "for axi in ax.flat:\n",
    "    color = np.random.random(3)\n",
    "    axi.plot(np.random.random(30), lw=2, c=color)\n",
    "    axi.set_title(\"RGB = ({0:.2f}, {1:.2f}, {2:.2f})\".format(*color),\n",
    "                  size=14)\n",
    "    axi.grid(color='lightgray', alpha=0.7)"
   ]
  },
  {
   "cell_type": "markdown",
   "metadata": {},
   "source": [
    "## Plugins"
   ]
  },
  {
   "cell_type": "markdown",
   "metadata": {},
   "source": [
    "One of the key features of mpld3 is the plugin framework. Plugins are a way to specify additional interactivity for your plots. A number of plugins are built-in, and it is also possible to define new, custom plugins for nearly limitless interactive behaviors. For example, here is the built-in Linked Brushing plugin that allows exploration of multi-dimensional datasets:"
   ]
  },
  {
   "cell_type": "code",
   "execution_count": null,
   "metadata": {
    "collapsed": false
   },
   "outputs": [],
   "source": [
    "from mpld3 import plugins\n",
    "\n",
    "fig, ax = plt.subplots(3, 3, figsize=(10, 10))\n",
    "fig.subplots_adjust(hspace=0.1, wspace=0.1)\n",
    "ax = ax[::-1]\n",
    "\n",
    "X = np.random.normal(size=(3, 100))\n",
    "for i in range(3):\n",
    "    for j in range(3):\n",
    "        ax[i, j].xaxis.set_major_formatter(plt.NullFormatter())\n",
    "        ax[i, j].yaxis.set_major_formatter(plt.NullFormatter())\n",
    "        points = ax[i, j].scatter(X[j], X[i])\n",
    "        \n",
    "plugins.connect(fig, plugins.LinkedBrush(points))"
   ]
  },
  {
   "cell_type": "markdown",
   "metadata": {},
   "source": [
    "Selecting points with the brush lets you quickly explore the relationships between the points."
   ]
  },
  {
   "cell_type": "markdown",
   "metadata": {},
   "source": [
    "## For More Information"
   ]
  },
  {
   "cell_type": "markdown",
   "metadata": {},
   "source": [
    "More examples, documentation, and information can be found on the [mpld3 website](http://mpld3.github.io).  See especially the [Example Gallery](http://mpld3.github.io/examples/index.html) and the [Notebook Gallery](http://mpld3.github.io/notebooks/index.html).  If you are interested in contributing, the source of mpld3 can be found on [GitHub](http://github.com/jakevdp/mpld3)."
   ]
  },
  {
   "cell_type": "code",
   "execution_count": null,
   "metadata": {
    "collapsed": true
   },
   "outputs": [],
   "source": []
  }
 ],
 "metadata": {
  "kernelspec": {
   "display_name": "Python 2",
   "language": "python",
   "name": "python2"
  },
  "language_info": {
   "codemirror_mode": {
    "name": "ipython",
    "version": 2
   },
   "file_extension": ".py",
   "mimetype": "text/x-python",
   "name": "python",
   "nbconvert_exporter": "python",
   "pygments_lexer": "ipython2",
   "version": "2.7.10"
  }
 },
 "nbformat": 4,
 "nbformat_minor": 0
}
