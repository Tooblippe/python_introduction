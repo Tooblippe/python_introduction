{
 "cells": [
  {
   "cell_type": "markdown",
   "metadata": {
    "slideshow": {
     "slide_type": "slide"
    }
   },
   "source": [
    "# Python Basic Concepts\n",
    "## Python 101"
   ]
  },
  {
   "cell_type": "markdown",
   "metadata": {
    "slideshow": {
     "slide_type": "slide"
    }
   },
   "source": [
    "### Two important language features:"
   ]
  },
  {
   "cell_type": "markdown",
   "metadata": {
    "slideshow": {
     "slide_type": "fragment"
    }
   },
   "source": [
    "1. *Python is interpreted*\n",
    "    1. The code doesn't require compilation \n",
    "    2. In IPython Notebook, code in cells is executed immediately\n",
    "2. ***The indentation is part of the syntax***"
   ]
  },
  {
   "cell_type": "code",
   "execution_count": null,
   "metadata": {
    "collapsed": false,
    "slideshow": {
     "slide_type": "fragment"
    }
   },
   "outputs": [],
   "source": [
    "%pylab inline\n",
    "\n",
    "for i in ['A','B','C']:\n",
    "    print i,"
   ]
  },
  {
   "cell_type": "markdown",
   "metadata": {
    "slideshow": {
     "slide_type": "slide"
    }
   },
   "source": [
    "### The bricks of Python are:"
   ]
  },
  {
   "cell_type": "markdown",
   "metadata": {
    "slideshow": {
     "slide_type": "fragment"
    }
   },
   "source": [
    "* Built-in operators: +, -, log, sqrt, and so on.\n",
    "* Built-in high level data types: strings, lists, dictionaries, etc.\n",
    "* Control structures: if, if-else, if-elif-else, while, plus a powerful collection iterator (for).\n",
    "* Multiple levels of organizational structure: functions, classes, scripts, modules, and packages. These assist in organizing code. An excellent and large example is the [Python standard library](http://docs.python.org/2/library/).\n",
    "\n",
    "The operators are much like as in Matlab.\n",
    "We will see and play later with the different data types and control structures, that are very handy and useful."
   ]
  },
  {
   "cell_type": "markdown",
   "metadata": {
    "slideshow": {
     "slide_type": "slide"
    }
   },
   "source": [
    "## Variables, as everything else, in Python are objects"
   ]
  },
  {
   "cell_type": "markdown",
   "metadata": {
    "slideshow": {
     "slide_type": "fragment"
    }
   },
   "source": [
    "Objects have many properties. For example every object has an univocal **id**. In the following example three variables are assigned in the same codeline, then `d = a` define d to be the `a` object. In other words, `d` and `a` are two different names for the same object: this is confirmed by the same object id."
   ]
  },
  {
   "cell_type": "code",
   "execution_count": null,
   "metadata": {
    "collapsed": false,
    "slideshow": {
     "slide_type": "fragment"
    }
   },
   "outputs": [],
   "source": [
    "a, b, c = 5, 6, 7\n",
    "d = a\n",
    "print a, d, id(a), id(d), \"<--- Same\"\n",
    "print c, id(c)"
   ]
  },
  {
   "cell_type": "markdown",
   "metadata": {
    "slideshow": {
     "slide_type": "slide"
    }
   },
   "source": [
    "**'isinstance'** checks if the passed value correspond to one of the listed instances: in this case 'a' is a float:"
   ]
  },
  {
   "cell_type": "code",
   "execution_count": null,
   "metadata": {
    "collapsed": false,
    "slideshow": {
     "slide_type": "fragment"
    }
   },
   "outputs": [],
   "source": [
    "print a\n",
    "print isinstance(a, (int, float, bool))\n",
    "print isinstance(a, (float, bool))"
   ]
  },
  {
   "cell_type": "markdown",
   "metadata": {
    "slideshow": {
     "slide_type": "slide"
    }
   },
   "source": [
    "### 2.4 Mutable / Immutable Objects"
   ]
  },
  {
   "cell_type": "markdown",
   "metadata": {
    "slideshow": {
     "slide_type": "fragment"
    }
   },
   "source": [
    "* **Mutable Objects** can be modified after being created\n",
    "* **Immutable objects** can be read but not modified (rewritten) after being created. For example, a string is immutable, so you cannot add caracters to a string without reassign the string itself.\n",
    "\n",
    "Some Examples:\n",
    "\n",
    "* **Strings**      are IMMUTABLE\n",
    "* **Lists**        are MUTABLE\n",
    "* **Tuples**       are IMMUTABLE\n",
    "* **Sets**         are MUTABLE\n",
    "* **Dictionaries** are MUTABLE"
   ]
  },
  {
   "cell_type": "markdown",
   "metadata": {
    "slideshow": {
     "slide_type": "slide"
    }
   },
   "source": [
    "### 2.5 Scripts, modules and namespaces"
   ]
  },
  {
   "cell_type": "markdown",
   "metadata": {
    "slideshow": {
     "slide_type": "fragment"
    }
   },
   "source": [
    "Some words on the organizational structure of Python code:\n",
    "\n",
    "    \n",
    "* A **script is the operational unit of programming**: saved as a single file with the .py or .pyw extension, that accomplish a complete programming task. \n",
    "    * You can run a script from the Python interpreter or from IPython. \n",
    "    * You can import the functions of a script into another script thanks to the import statement: than you treat it as a module."
   ]
  },
  {
   "cell_type": "markdown",
   "metadata": {
    "slideshow": {
     "slide_type": "slide"
    }
   },
   "source": [
    "Python is expanded by modules. To use a module it must first be imported. There are three ways to import modules:\n",
    "\n",
    "1. `import modulename` - will preserve the full package name in the namespace. To use a module keyword in the code you will use `modulename.keyword`\n",
    "2. `import modulename as name` - will replace the full package name with a suitable alias. To use a module keyword in the code you will use `name.keyword`\n",
    "3. `from modulename import *` - *THIS IS NOT ADVISABLE IN MOST CASES*: \n",
    "4. `from modulename import keyword`"
   ]
  },
  {
   "cell_type": "code",
   "execution_count": null,
   "metadata": {
    "collapsed": false,
    "slideshow": {
     "slide_type": "slide"
    }
   },
   "outputs": [],
   "source": [
    "# 1\n",
    "import math             # Then 'math.'must be used before using any command\n",
    "print 'sin(3)=', math.sin(3)\n",
    "\n",
    "# 2\n",
    "import math as wiskunde\n",
    "print 'cos(3) = ', wiskunde.cos(3)\n",
    "\n",
    "#3\n",
    "from math import *\n",
    "print '5 degrees in rads',radians(5)\n",
    "\n",
    "#4 \n",
    "from math import tan\n",
    "print 'tan(4)',tan(4)"
   ]
  },
  {
   "cell_type": "markdown",
   "metadata": {
    "slideshow": {
     "slide_type": "slide"
    }
   },
   "source": [
    "## 3 Strings"
   ]
  },
  {
   "cell_type": "markdown",
   "metadata": {
    "slideshow": {
     "slide_type": "fragment"
    }
   },
   "source": [
    "Strings can be defined with both double or single quotes. Escape codes like `\\t [tab]`, `\\n [newline]` or `\\xHH [special character]` can be used. The output can be printed multiple times by using `*k`"
   ]
  },
  {
   "cell_type": "code",
   "execution_count": null,
   "metadata": {
    "collapsed": false,
    "slideshow": {
     "slide_type": "fragment"
    }
   },
   "outputs": [],
   "source": [
    "a, b, c = 'hello', \"HELLO\", \"Hello, how's going?\"\n",
    "print a, '-'*2, b, '-'*2, c"
   ]
  },
  {
   "cell_type": "markdown",
   "metadata": {
    "slideshow": {
     "slide_type": "slide"
    }
   },
   "source": [
    "The **in** function can be used to find substrings:"
   ]
  },
  {
   "cell_type": "code",
   "execution_count": null,
   "metadata": {
    "collapsed": false,
    "slideshow": {
     "slide_type": "fragment"
    }
   },
   "outputs": [],
   "source": [
    "print a\n",
    "a = '\\t abcdef_gh \\n '\n",
    "'cd' in a"
   ]
  },
  {
   "cell_type": "markdown",
   "metadata": {
    "slideshow": {
     "slide_type": "slide"
    }
   },
   "source": [
    "`strip` is one of the most used functions while working with strings in Python. "
   ]
  },
  {
   "cell_type": "code",
   "execution_count": null,
   "metadata": {
    "collapsed": false,
    "slideshow": {
     "slide_type": "fragment"
    }
   },
   "outputs": [],
   "source": [
    "print a\n",
    "print a.strip()"
   ]
  },
  {
   "cell_type": "code",
   "execution_count": null,
   "metadata": {
    "collapsed": false,
    "slideshow": {
     "slide_type": "slide"
    }
   },
   "outputs": [],
   "source": [
    "b = '236 23 32           23 55'\n",
    "b.split()"
   ]
  },
  {
   "cell_type": "markdown",
   "metadata": {
    "slideshow": {
     "slide_type": "slide"
    }
   },
   "source": [
    "## 4 String formatting"
   ]
  },
  {
   "cell_type": "markdown",
   "metadata": {
    "slideshow": {
     "slide_type": "fragment"
    }
   },
   "source": [
    "There are many ways to format an output in Python. In past, the most common was using the % string formatting operator, a sort of placeholder, with the following syntax:  \n",
    "`'Message %' %(val)`.\n",
    "\n",
    "See the following examples (old way!):"
   ]
  },
  {
   "cell_type": "code",
   "execution_count": null,
   "metadata": {
    "collapsed": false,
    "slideshow": {
     "slide_type": "fragment"
    }
   },
   "outputs": [],
   "source": [
    "\"Hello %s, my name is %s,my age is %d\" % ('john', 'mike', 30)"
   ]
  },
  {
   "cell_type": "code",
   "execution_count": null,
   "metadata": {
    "collapsed": false,
    "slideshow": {
     "slide_type": "slide"
    }
   },
   "outputs": [],
   "source": [
    "# new more pythonic way\n",
    "print 'Name: {1}, age: {0}'.format(35,'John')"
   ]
  },
  {
   "cell_type": "markdown",
   "metadata": {
    "slideshow": {
     "slide_type": "slide"
    }
   },
   "source": [
    "## 5 Lists"
   ]
  },
  {
   "cell_type": "markdown",
   "metadata": {
    "slideshow": {
     "slide_type": "fragment"
    }
   },
   "source": [
    "* List are ordered Non-Homogeneus containers. \n",
    "* Lists are MUTABLE, so the single items can be redefined without redefining the list object. \n",
    "* The index starts from 0, not from 1! "
   ]
  },
  {
   "cell_type": "code",
   "execution_count": null,
   "metadata": {
    "collapsed": false,
    "slideshow": {
     "slide_type": "fragment"
    }
   },
   "outputs": [],
   "source": [
    "ls = [2, 3, 4, 5, 'six', 9]\n",
    "print ls\n",
    "ls[-1] = 8                  # Redefine the last element\n",
    "print ls\n"
   ]
  },
  {
   "cell_type": "code",
   "execution_count": null,
   "metadata": {
    "collapsed": false,
    "slideshow": {
     "slide_type": "slide"
    }
   },
   "outputs": [],
   "source": [
    "print ls\n",
    "ls[1:1] = [77, 88, 99]\n",
    "print ls"
   ]
  },
  {
   "cell_type": "code",
   "execution_count": null,
   "metadata": {
    "collapsed": false,
    "slideshow": {
     "slide_type": "slide"
    }
   },
   "outputs": [],
   "source": [
    "ls = [5, 6, 3, 7, 3, 9, 7]\n",
    "ls.count(7)"
   ]
  },
  {
   "cell_type": "markdown",
   "metadata": {
    "slideshow": {
     "slide_type": "slide"
    }
   },
   "source": [
    "`sort` can be used with a secondary sort key (a function to generate the key): in this case the sort key is the lenght of the strings"
   ]
  },
  {
   "cell_type": "code",
   "execution_count": null,
   "metadata": {
    "collapsed": false,
    "slideshow": {
     "slide_type": "fragment"
    }
   },
   "outputs": [],
   "source": [
    "ls= ['Zr', 'wax', 'grid', 'I', 'Sir', 'zirconium']\n",
    "ls.sort(key=len)\n",
    "ls "
   ]
  },
  {
   "cell_type": "markdown",
   "metadata": {
    "slideshow": {
     "slide_type": "slide"
    }
   },
   "source": [
    "`in` checks if one element is in the list"
   ]
  },
  {
   "cell_type": "code",
   "execution_count": null,
   "metadata": {
    "collapsed": false,
    "slideshow": {
     "slide_type": "fragment"
    }
   },
   "outputs": [],
   "source": [
    "print ls\n",
    "'wax' in ls"
   ]
  },
  {
   "cell_type": "markdown",
   "metadata": {
    "slideshow": {
     "slide_type": "slide"
    }
   },
   "source": [
    "`index` finds the position of a given element in a list"
   ]
  },
  {
   "cell_type": "code",
   "execution_count": null,
   "metadata": {
    "collapsed": false,
    "slideshow": {
     "slide_type": "fragment"
    }
   },
   "outputs": [],
   "source": [
    "print ls\n",
    "print 'grid at position', ls.index('grid')\n",
    "print 'note 0 based indexing. Item 4 is index 3'"
   ]
  },
  {
   "cell_type": "markdown",
   "metadata": {
    "slideshow": {
     "slide_type": "slide"
    }
   },
   "source": [
    "Lists can be iterated with `for`. In Python the index is not requires but you can have one if you need it for your purposes. Check the following two examples"
   ]
  },
  {
   "cell_type": "code",
   "execution_count": null,
   "metadata": {
    "collapsed": false,
    "slideshow": {
     "slide_type": "fragment"
    }
   },
   "outputs": [],
   "source": [
    "print ls\n",
    "print '-----'\n",
    "for string in ls:\n",
    "    print string.rjust(10)"
   ]
  },
  {
   "cell_type": "code",
   "execution_count": null,
   "metadata": {
    "collapsed": false,
    "slideshow": {
     "slide_type": "fragment"
    }
   },
   "outputs": [],
   "source": [
    "for index, string in enumerate(ls):\n",
    "    print index, string.rjust(10)"
   ]
  },
  {
   "cell_type": "markdown",
   "metadata": {
    "slideshow": {
     "slide_type": "slide"
    }
   },
   "source": [
    "***List comprehension*** is one of the more important constructs in Python. The general syntax is:\n",
    "\n",
    "    [expression(argument) for argument in list if boolean_expression]\n",
    "\n",
    "Expression can contain control structures such as if ... else.\n"
   ]
  },
  {
   "cell_type": "code",
   "execution_count": null,
   "metadata": {
    "collapsed": false,
    "slideshow": {
     "slide_type": "fragment"
    }
   },
   "outputs": [],
   "source": [
    "\n",
    "x = [ i for i in range(2,22) if i%2==0]\n",
    "y = [ y**2 for y in x]\n",
    "print x\n",
    "print y\n",
    "plot(x,y)"
   ]
  },
  {
   "cell_type": "markdown",
   "metadata": {
    "slideshow": {
     "slide_type": "slide"
    }
   },
   "source": [
    "## 6 Slicing"
   ]
  },
  {
   "cell_type": "code",
   "execution_count": null,
   "metadata": {
    "collapsed": false,
    "slideshow": {
     "slide_type": "fragment"
    }
   },
   "outputs": [],
   "source": [
    "s = 'abcdefghi' + '123'       # s is a string\n",
    "print s.rjust(47)\n",
    "print 'slide from beginning to index 4-->',s[:4]\n",
    "print '-'*50\n"
   ]
  },
  {
   "cell_type": "markdown",
   "metadata": {
    "slideshow": {
     "slide_type": "slide"
    }
   },
   "source": [
    "## 7 Sets"
   ]
  },
  {
   "cell_type": "markdown",
   "metadata": {
    "slideshow": {
     "slide_type": "fragment"
    }
   },
   "source": [
    "* Sets are lists with **UNIQUE** elements. \n",
    "* Sets are MUTABLE. \n",
    "* On Sets you can apply the typical set theory rules like union, intersection, and difference. \n",
    "* Sets cannot be indexed: to index, sets must be transformed in List"
   ]
  },
  {
   "cell_type": "code",
   "execution_count": null,
   "metadata": {
    "collapsed": false,
    "slideshow": {
     "slide_type": "fragment"
    }
   },
   "outputs": [],
   "source": [
    "set1 = set([1, 2, 7, 7, 7, 9])\n",
    "set2 = set([5, 4, 6, 7, 8, 8])\n",
    "\n",
    "print 'unique',set1,set2\n",
    "print 'union',set1.union(set2)\n",
    "print 'intersection',set1.intersection(set2)"
   ]
  },
  {
   "cell_type": "markdown",
   "metadata": {
    "slideshow": {
     "slide_type": "slide"
    }
   },
   "source": [
    "## 8 Tuples"
   ]
  },
  {
   "cell_type": "markdown",
   "metadata": {
    "slideshow": {
     "slide_type": "fragment"
    }
   },
   "source": [
    "* Tuples are like lists but are **IMMUTABLE** and do not have methods. \n",
    "* Tuples are indexable.\n",
    "\n",
    "So, what is the reason to use tuples? \n",
    "* The main reason is to use tuples as immutable containers to pass arguments to a function or to be used as keys in dictionaries"
   ]
  },
  {
   "cell_type": "code",
   "execution_count": null,
   "metadata": {
    "collapsed": false,
    "slideshow": {
     "slide_type": "fragment"
    }
   },
   "outputs": [],
   "source": [
    "def myfunction(pack):\n",
    "    a, b, c, d = pack\n",
    "    print 'vars = ', a, b, c, d\n",
    "    print 'd=',d\n",
    "    print 'd[0]', d[0]\n",
    "    print 'd[1]', d[1]\n",
    "    print 'a+b+c+d[0]-d[1]=',a+b+c+d[0]-d[1]\n",
    "    \n",
    "t = 1, 2, 3, (8, 9)  # Pack arguments to pass it to a function\n",
    "\n",
    "myfunction(t)"
   ]
  },
  {
   "cell_type": "code",
   "execution_count": null,
   "metadata": {
    "collapsed": false,
    "slideshow": {
     "slide_type": "slide"
    }
   },
   "outputs": [],
   "source": [
    "seq = [(1, 2, 3), (4, 5, 6), (7, 8, 9)]\n",
    "for a, b, c in seq:\n",
    "    print a, b, c     # Common use for tuple unpacking"
   ]
  },
  {
   "cell_type": "markdown",
   "metadata": {
    "slideshow": {
     "slide_type": "slide"
    }
   },
   "source": [
    "## 9 Dictionaries"
   ]
  },
  {
   "cell_type": "markdown",
   "metadata": {
    "slideshow": {
     "slide_type": "fragment"
    }
   },
   "source": [
    "* Dictionaries are **'Associative Arrays'**: \n",
    "* values are indexed by generic keys. "
   ]
  },
  {
   "cell_type": "markdown",
   "metadata": {
    "slideshow": {
     "slide_type": "slide"
    }
   },
   "source": [
    "Here we make a dictionary using tuples as keys and telephone numbers as values. Then we access a dictionary item by providing a key (tuple)"
   ]
  },
  {
   "cell_type": "code",
   "execution_count": null,
   "metadata": {
    "collapsed": false,
    "slideshow": {
     "slide_type": "fragment"
    }
   },
   "outputs": [],
   "source": [
    "data = [(('Johnn', 'Doe'), '(831) 758-7214'),\n",
    "         (('Ryan', 'Stuart'), '(877) 359-8474'), (('Nick', 'Connor'), '(800) 445-2854')]\n",
    "d = dict(data)\n",
    "print d\n",
    "print '----'\n",
    "print d[('Johnn', 'Doe')]"
   ]
  },
  {
   "cell_type": "code",
   "execution_count": null,
   "metadata": {
    "collapsed": false,
    "slideshow": {
     "slide_type": "slide"
    }
   },
   "outputs": [],
   "source": [
    "print d.keys()"
   ]
  },
  {
   "cell_type": "markdown",
   "metadata": {
    "slideshow": {
     "slide_type": "slide"
    }
   },
   "source": [
    "* When reading the dictionary you must check if the dictionary contain the key by using `in`. \n",
    "\n",
    "* If you ask for an unknown key, Python raises an exception. \n",
    "\n",
    "* Alternatively you can use `get` with a default value to be used if the key is not found"
   ]
  },
  {
   "cell_type": "code",
   "execution_count": null,
   "metadata": {
    "collapsed": false,
    "slideshow": {
     "slide_type": "fragment"
    }
   },
   "outputs": [],
   "source": [
    "('Johnn', 'Stuart') in d"
   ]
  },
  {
   "cell_type": "code",
   "execution_count": null,
   "metadata": {
    "collapsed": false,
    "slideshow": {
     "slide_type": "fragment"
    }
   },
   "outputs": [],
   "source": [
    "print d.get(('Johnn', 'Stuart'),'Number not available')"
   ]
  },
  {
   "cell_type": "code",
   "execution_count": null,
   "metadata": {
    "collapsed": false,
    "slideshow": {
     "slide_type": "slide"
    }
   },
   "outputs": [],
   "source": [
    "# Iterators work on keys by default\n",
    "for key in d:\n",
    "    print key, '\\t', d[key]"
   ]
  },
  {
   "cell_type": "markdown",
   "metadata": {
    "slideshow": {
     "slide_type": "slide"
    }
   },
   "source": [
    "## 11 IF - FOR - WHILE"
   ]
  },
  {
   "cell_type": "markdown",
   "metadata": {
    "slideshow": {
     "slide_type": "fragment"
    }
   },
   "source": [
    "This is a brief overview of the flow-control instructions in Python"
   ]
  },
  {
   "cell_type": "markdown",
   "metadata": {
    "slideshow": {
     "slide_type": "slide"
    }
   },
   "source": [
    "### 11.1 IF"
   ]
  },
  {
   "cell_type": "code",
   "execution_count": null,
   "metadata": {
    "collapsed": false,
    "slideshow": {
     "slide_type": "fragment"
    }
   },
   "outputs": [],
   "source": [
    "a = 34\n",
    "if a != 7:\n",
    "    print \"'a' is not 7\"\n",
    "if a > 15:\n",
    "    print \"'a' is greater than 15\"\n",
    "elif a == 15:\n",
    "    print \"'a' is exactly 15!\"\n",
    "else:\n",
    "    print \"'a' is less than 15\""
   ]
  },
  {
   "cell_type": "markdown",
   "metadata": {
    "slideshow": {
     "slide_type": "slide"
    }
   },
   "source": [
    "### 11.2 FOR - ELSE"
   ]
  },
  {
   "cell_type": "markdown",
   "metadata": {
    "slideshow": {
     "slide_type": "fragment"
    }
   },
   "source": [
    "In Python you can iterate Lists, Dictionaries, Lines in a file and all the 'ITERABLE' Objects"
   ]
  },
  {
   "cell_type": "code",
   "execution_count": null,
   "metadata": {
    "collapsed": false,
    "slideshow": {
     "slide_type": "fragment"
    }
   },
   "outputs": [],
   "source": [
    "l = ['a', 'b', 'c', 'd', 'e', 'f']\n",
    "for v in l:\n",
    "    if v == 'e':\n",
    "        break            # Skip all loops and go the 'else' statement\n",
    "    elif v == 'b':\n",
    "        continue         # Skip this loop\n",
    "    print v\n",
    "print 'Done !'           # Executed upon completion of the for loop"
   ]
  },
  {
   "cell_type": "code",
   "execution_count": null,
   "metadata": {
    "collapsed": false,
    "slideshow": {
     "slide_type": "slide"
    }
   },
   "outputs": [],
   "source": [
    "# Enumerate returns an enumerate object:\n",
    "for i, season in enumerate(['Spring', 'Summer', 'Fall', 'Winter']):\n",
    "    print i, season"
   ]
  },
  {
   "cell_type": "code",
   "execution_count": null,
   "metadata": {
    "collapsed": false,
    "slideshow": {
     "slide_type": "slide"
    }
   },
   "outputs": [],
   "source": [
    "# Range can be used to quickly build a list to be used in a for loop:\n",
    "print range(5)                 \n",
    "print range(2,10,3)\n",
    "print range(2,-6,-3)"
   ]
  },
  {
   "cell_type": "markdown",
   "metadata": {
    "slideshow": {
     "slide_type": "slide"
    }
   },
   "source": [
    "### 11.3 WHILE"
   ]
  },
  {
   "cell_type": "code",
   "execution_count": null,
   "metadata": {
    "collapsed": false,
    "slideshow": {
     "slide_type": "fragment"
    }
   },
   "outputs": [],
   "source": [
    "a = 0\n",
    "while a < 10:\n",
    "    a += 1\n",
    "    print a,"
   ]
  },
  {
   "cell_type": "markdown",
   "metadata": {
    "slideshow": {
     "slide_type": "slide"
    }
   },
   "source": [
    "# End...\n",
    "---\n",
    "\n",
    "\n",
    "\n",
    "This work is licensed under a <a rel=\"license\" href=\"http://creativecommons.org/licenses/by-sa/4.0/\">Creative Commons Attribution-ShareAlike 4.0 International License</a>."
   ]
  }
 ],
 "metadata": {
  "celltoolbar": "Slideshow",
  "kernelspec": {
   "display_name": "Python 2",
   "language": "python",
   "name": "python2"
  },
  "language_info": {
   "codemirror_mode": {
    "name": "ipython",
    "version": 2
   },
   "file_extension": ".py",
   "mimetype": "text/x-python",
   "name": "python",
   "nbconvert_exporter": "python",
   "pygments_lexer": "ipython2",
   "version": "2.7.10"
  }
 },
 "nbformat": 4,
 "nbformat_minor": 0
}
