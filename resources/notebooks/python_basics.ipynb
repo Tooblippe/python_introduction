{
 "cells": [
  {
   "cell_type": "markdown",
   "metadata": {
    "slideshow": {
     "slide_type": "slide"
    }
   },
   "source": [
    "# Python Basic Concepts\n",
    "## Python 101"
   ]
  },
  {
   "cell_type": "markdown",
   "metadata": {
    "slideshow": {
     "slide_type": "slide"
    }
   },
   "source": [
    "### Two important language features:"
   ]
  },
  {
   "cell_type": "markdown",
   "metadata": {
    "slideshow": {
     "slide_type": "fragment"
    }
   },
   "source": [
    "1. *Python is interpreted*\n",
    "    1. The code doesn't require compilation \n",
    "    2. In IPython Notebook, code in cells is executed immediately\n",
    "2. ***The indentation is part of the syntax***"
   ]
  },
  {
   "cell_type": "code",
   "execution_count": 3,
   "metadata": {
    "collapsed": false,
    "slideshow": {
     "slide_type": "fragment"
    }
   },
   "outputs": [
    {
     "name": "stdout",
     "output_type": "stream",
     "text": [
      "Populating the interactive namespace from numpy and matplotlib\n",
      "d\n",
      "e\n",
      "n\n",
      "e\n",
      "l\n"
     ]
    }
   ],
   "source": [
    "%pylab inline\n",
    "\n",
    "for i in \"denel\":\n",
    "    print i"
   ]
  },
  {
   "cell_type": "markdown",
   "metadata": {
    "slideshow": {
     "slide_type": "slide"
    }
   },
   "source": [
    "### The bricks of Python are:"
   ]
  },
  {
   "cell_type": "markdown",
   "metadata": {
    "slideshow": {
     "slide_type": "fragment"
    }
   },
   "source": [
    "* Built-in operators: +, -, log, sqrt, and so on.\n",
    "* Built-in high level data types: strings, lists, dictionaries, etc.\n",
    "* Control structures: if, if-else, if-elif-else, while, plus a powerful collection iterator (for).\n",
    "* Multiple levels of organizational structure: functions, classes, scripts, modules, and packages. These assist in organizing code. An excellent and large example is the [Python standard library](http://docs.python.org/2/library/).\n",
    "\n",
    "The operators are much like as in Matlab.\n",
    "We will see and play later with the different data types and control structures, that are very handy and useful."
   ]
  },
  {
   "cell_type": "markdown",
   "metadata": {
    "slideshow": {
     "slide_type": "slide"
    }
   },
   "source": [
    "## Variables, as everything else, in Python are objects"
   ]
  },
  {
   "cell_type": "markdown",
   "metadata": {
    "slideshow": {
     "slide_type": "fragment"
    }
   },
   "source": [
    "Objects have many properties. For example every object has an univocal **id**. In the following example three variables are assigned in the same codeline, then `d = a` define d to be the `a` object. In other words, `d` and `a` are two different names for the same object: this is confirmed by the same object id."
   ]
  },
  {
   "cell_type": "code",
   "execution_count": 4,
   "metadata": {
    "collapsed": false,
    "slideshow": {
     "slide_type": "fragment"
    }
   },
   "outputs": [
    {
     "name": "stdout",
     "output_type": "stream",
     "text": [
      "5 5 160839832 160839832 <--- Same\n",
      "7 160839808\n"
     ]
    }
   ],
   "source": [
    "a, b, c = 5, 6, 7\n",
    "d = a\n",
    "print a, d, id(a), id(d), \"<--- Same\"\n",
    "print c, id(c)"
   ]
  },
  {
   "cell_type": "markdown",
   "metadata": {
    "slideshow": {
     "slide_type": "slide"
    }
   },
   "source": [
    "**'isinstance'** checks if the passed value correspond to one of the listed instances: in this case 'a' is a float:"
   ]
  },
  {
   "cell_type": "code",
   "execution_count": 5,
   "metadata": {
    "collapsed": false,
    "slideshow": {
     "slide_type": "fragment"
    }
   },
   "outputs": [
    {
     "name": "stdout",
     "output_type": "stream",
     "text": [
      "5\n",
      "True\n",
      "False\n"
     ]
    }
   ],
   "source": [
    "print a\n",
    "print isinstance(a, (int, float, bool))\n",
    "print isinstance(a, (float, bool))"
   ]
  },
  {
   "cell_type": "markdown",
   "metadata": {
    "slideshow": {
     "slide_type": "slide"
    }
   },
   "source": [
    "### 2.4 Mutable / Immutable Objects"
   ]
  },
  {
   "cell_type": "markdown",
   "metadata": {
    "slideshow": {
     "slide_type": "fragment"
    }
   },
   "source": [
    "* **Mutable Objects** can be modified after being created\n",
    "* **Immutable objects** can be read but not modified (rewritten) after being created. For example, a string is immutable, so you cannot add caracters to a string without reassign the string itself.\n",
    "\n",
    "Some Examples:\n",
    "\n",
    "* **Strings**      are IMMUTABLE\n",
    "* **Lists**        are MUTABLE\n",
    "* **Tuples**       are IMMUTABLE\n",
    "* **Sets**         are MUTABLE\n",
    "* **Dictionaries** are MUTABLE"
   ]
  },
  {
   "cell_type": "markdown",
   "metadata": {
    "slideshow": {
     "slide_type": "slide"
    }
   },
   "source": [
    "### 2.5 Scripts, modules and namespaces"
   ]
  },
  {
   "cell_type": "markdown",
   "metadata": {
    "slideshow": {
     "slide_type": "fragment"
    }
   },
   "source": [
    "Some words on the organizational structure of Python code:\n",
    "\n",
    "    \n",
    "* A **script is the operational unit of programming**: saved as a single file with the .py or .pyw extension, that accomplish a complete programming task. \n",
    "    * You can run a script from the Python interpreter or from IPython. \n",
    "    * You can import the functions of a script into another script thanks to the import statement: than you treat it as a module."
   ]
  },
  {
   "cell_type": "markdown",
   "metadata": {
    "slideshow": {
     "slide_type": "slide"
    }
   },
   "source": [
    "Python is expanded by modules. To use a module it must first be imported. There are three ways to import modules:\n",
    "\n",
    "1. `import modulename` - will preserve the full package name in the namespace. To use a module keyword in the code you will use `modulename.keyword`\n",
    "2. `import modulename as name` - will replace the full package name with a suitable alias. To use a module keyword in the code you will use `name.keyword`\n",
    "3. `from modulename import *` - *THIS IS NOT ADVISABLE IN MOST CASES*: \n",
    "4. `from modulename import keyword`"
   ]
  },
  {
   "cell_type": "code",
   "execution_count": 7,
   "metadata": {
    "collapsed": false,
    "slideshow": {
     "slide_type": "slide"
    }
   },
   "outputs": [
    {
     "name": "stdout",
     "output_type": "stream",
     "text": [
      "sin(3)= 0.14112000806\n",
      "cos(3) =  -0.9899924966\n",
      "5 degrees in rads 0.0872664625997\n",
      "tan(4) 1.15782128235\n"
     ]
    },
    {
     "data": {
      "text/plain": [
       "['ALLOW_THREADS',\n",
       " 'Annotation',\n",
       " 'Arrow',\n",
       " 'Artist',\n",
       " 'AutoLocator',\n",
       " 'Axes',\n",
       " 'BUFSIZE',\n",
       " 'Button',\n",
       " 'CLIP',\n",
       " 'Circle',\n",
       " 'ComplexWarning',\n",
       " 'DAILY',\n",
       " 'DataSource',\n",
       " 'DateFormatter',\n",
       " 'DateLocator',\n",
       " 'DayLocator',\n",
       " 'ERR_CALL',\n",
       " 'ERR_DEFAULT',\n",
       " 'ERR_IGNORE',\n",
       " 'ERR_LOG',\n",
       " 'ERR_PRINT',\n",
       " 'ERR_RAISE',\n",
       " 'ERR_WARN',\n",
       " 'FLOATING_POINT_SUPPORT',\n",
       " 'FPE_DIVIDEBYZERO',\n",
       " 'FPE_INVALID',\n",
       " 'FPE_OVERFLOW',\n",
       " 'FPE_UNDERFLOW',\n",
       " 'FR',\n",
       " 'False_',\n",
       " 'Figure',\n",
       " 'FigureCanvasBase',\n",
       " 'FixedFormatter',\n",
       " 'FixedLocator',\n",
       " 'FormatStrFormatter',\n",
       " 'Formatter',\n",
       " 'FuncFormatter',\n",
       " 'GridSpec',\n",
       " 'HOURLY',\n",
       " 'HourLocator',\n",
       " 'In',\n",
       " 'IndexDateFormatter',\n",
       " 'IndexLocator',\n",
       " 'Inf',\n",
       " 'Infinity',\n",
       " 'LinAlgError',\n",
       " 'Line2D',\n",
       " 'LinearLocator',\n",
       " 'Locator',\n",
       " 'LogFormatter',\n",
       " 'LogFormatterExponent',\n",
       " 'LogFormatterMathtext',\n",
       " 'LogLocator',\n",
       " 'MAXDIMS',\n",
       " 'MINUTELY',\n",
       " 'MO',\n",
       " 'MONTHLY',\n",
       " 'MachAr',\n",
       " 'MaxNLocator',\n",
       " 'MinuteLocator',\n",
       " 'ModuleDeprecationWarning',\n",
       " 'MonthLocator',\n",
       " 'MultipleLocator',\n",
       " 'NAN',\n",
       " 'NINF',\n",
       " 'NZERO',\n",
       " 'NaN',\n",
       " 'Normalize',\n",
       " 'NullFormatter',\n",
       " 'NullLocator',\n",
       " 'Out',\n",
       " 'PINF',\n",
       " 'PZERO',\n",
       " 'PackageLoader',\n",
       " 'PolarAxes',\n",
       " 'Polygon',\n",
       " 'RAISE',\n",
       " 'RRuleLocator',\n",
       " 'RankWarning',\n",
       " 'Rectangle',\n",
       " 'SA',\n",
       " 'SECONDLY',\n",
       " 'SHIFT_DIVIDEBYZERO',\n",
       " 'SHIFT_INVALID',\n",
       " 'SHIFT_OVERFLOW',\n",
       " 'SHIFT_UNDERFLOW',\n",
       " 'SU',\n",
       " 'ScalarFormatter',\n",
       " 'ScalarType',\n",
       " 'SecondLocator',\n",
       " 'Slider',\n",
       " 'Subplot',\n",
       " 'SubplotTool',\n",
       " 'TH',\n",
       " 'TU',\n",
       " 'Tester',\n",
       " 'Text',\n",
       " 'TickHelper',\n",
       " 'True_',\n",
       " 'UFUNC_BUFSIZE_DEFAULT',\n",
       " 'UFUNC_PYVALS_NAME',\n",
       " 'VisibleDeprecationWarning',\n",
       " 'WE',\n",
       " 'WEEKLY',\n",
       " 'WRAP',\n",
       " 'WeekdayLocator',\n",
       " 'Widget',\n",
       " 'YEARLY',\n",
       " 'YearLocator',\n",
       " '_',\n",
       " '__',\n",
       " '___',\n",
       " '__builtin__',\n",
       " '__builtins__',\n",
       " '__doc__',\n",
       " '__name__',\n",
       " '__package__',\n",
       " '__version__',\n",
       " '_dh',\n",
       " '_i',\n",
       " '_i1',\n",
       " '_i2',\n",
       " '_i3',\n",
       " '_i4',\n",
       " '_i5',\n",
       " '_i6',\n",
       " '_i7',\n",
       " '_ih',\n",
       " '_ii',\n",
       " '_iii',\n",
       " '_oh',\n",
       " '_sh',\n",
       " 'a',\n",
       " 'absolute',\n",
       " 'absolute_import',\n",
       " 'acorr',\n",
       " 'acos',\n",
       " 'acosh',\n",
       " 'add',\n",
       " 'add_docstring',\n",
       " 'add_newdoc',\n",
       " 'add_newdoc_ufunc',\n",
       " 'add_newdocs',\n",
       " 'alen',\n",
       " 'all',\n",
       " 'allclose',\n",
       " 'alltrue',\n",
       " 'alterdot',\n",
       " 'amap',\n",
       " 'amax',\n",
       " 'amin',\n",
       " 'angle',\n",
       " 'angle_spectrum',\n",
       " 'annotate',\n",
       " 'any',\n",
       " 'append',\n",
       " 'apply_along_axis',\n",
       " 'apply_over_axes',\n",
       " 'arange',\n",
       " 'arccos',\n",
       " 'arccosh',\n",
       " 'arcsin',\n",
       " 'arcsinh',\n",
       " 'arctan',\n",
       " 'arctan2',\n",
       " 'arctanh',\n",
       " 'argmax',\n",
       " 'argmin',\n",
       " 'argpartition',\n",
       " 'argsort',\n",
       " 'argwhere',\n",
       " 'around',\n",
       " 'array',\n",
       " 'array2string',\n",
       " 'array_equal',\n",
       " 'array_equiv',\n",
       " 'array_repr',\n",
       " 'array_split',\n",
       " 'array_str',\n",
       " 'arrow',\n",
       " 'asanyarray',\n",
       " 'asarray',\n",
       " 'asarray_chkfinite',\n",
       " 'ascontiguousarray',\n",
       " 'asfarray',\n",
       " 'asfortranarray',\n",
       " 'asin',\n",
       " 'asinh',\n",
       " 'asmatrix',\n",
       " 'asscalar',\n",
       " 'atan',\n",
       " 'atan2',\n",
       " 'atanh',\n",
       " 'atleast_1d',\n",
       " 'atleast_2d',\n",
       " 'atleast_3d',\n",
       " 'autoscale',\n",
       " 'autumn',\n",
       " 'average',\n",
       " 'axes',\n",
       " 'axhline',\n",
       " 'axhspan',\n",
       " 'axis',\n",
       " 'axvline',\n",
       " 'axvspan',\n",
       " 'b',\n",
       " 'bar',\n",
       " 'barbs',\n",
       " 'barh',\n",
       " 'bartlett',\n",
       " 'base_repr',\n",
       " 'bench',\n",
       " 'beta',\n",
       " 'binary_repr',\n",
       " 'bincount',\n",
       " 'binomial',\n",
       " 'bitwise_and',\n",
       " 'bitwise_not',\n",
       " 'bitwise_or',\n",
       " 'bitwise_xor',\n",
       " 'bivariate_normal',\n",
       " 'blackman',\n",
       " 'bmat',\n",
       " 'bone',\n",
       " 'bool8',\n",
       " 'bool_',\n",
       " 'box',\n",
       " 'boxplot',\n",
       " 'broadcast',\n",
       " 'broadcast_arrays',\n",
       " 'broken_barh',\n",
       " 'busday_count',\n",
       " 'busday_offset',\n",
       " 'busdaycalendar',\n",
       " 'byte',\n",
       " 'byte_bounds',\n",
       " 'bytes',\n",
       " 'bytes_',\n",
       " 'c',\n",
       " 'c_',\n",
       " 'can_cast',\n",
       " 'cast',\n",
       " 'cbook',\n",
       " 'cdouble',\n",
       " 'ceil',\n",
       " 'center_matrix',\n",
       " 'cfloat',\n",
       " 'char',\n",
       " 'character',\n",
       " 'chararray',\n",
       " 'chisquare',\n",
       " 'cholesky',\n",
       " 'choose',\n",
       " 'cla',\n",
       " 'clabel',\n",
       " 'clf',\n",
       " 'clim',\n",
       " 'clip',\n",
       " 'clongdouble',\n",
       " 'clongfloat',\n",
       " 'close',\n",
       " 'cm',\n",
       " 'cohere',\n",
       " 'colorbar',\n",
       " 'colormaps',\n",
       " 'colors',\n",
       " 'column_stack',\n",
       " 'common_type',\n",
       " 'compare_chararrays',\n",
       " 'complex128',\n",
       " 'complex192',\n",
       " 'complex64',\n",
       " 'complex_',\n",
       " 'complexfloating',\n",
       " 'compress',\n",
       " 'concatenate',\n",
       " 'cond',\n",
       " 'conj',\n",
       " 'conjugate',\n",
       " 'connect',\n",
       " 'contour',\n",
       " 'contourf',\n",
       " 'convolve',\n",
       " 'cool',\n",
       " 'copper',\n",
       " 'copy',\n",
       " 'copysign',\n",
       " 'copyto',\n",
       " 'corrcoef',\n",
       " 'correlate',\n",
       " 'cos',\n",
       " 'cosh',\n",
       " 'count_nonzero',\n",
       " 'cov',\n",
       " 'cross',\n",
       " 'csd',\n",
       " 'csingle',\n",
       " 'csv2rec',\n",
       " 'ctypeslib',\n",
       " 'cumprod',\n",
       " 'cumproduct',\n",
       " 'cumsum',\n",
       " 'd',\n",
       " 'date2num',\n",
       " 'datestr2num',\n",
       " 'datetime',\n",
       " 'datetime64',\n",
       " 'datetime_as_string',\n",
       " 'datetime_data',\n",
       " 'dedent',\n",
       " 'deg2rad',\n",
       " 'degrees',\n",
       " 'delaxes',\n",
       " 'delete',\n",
       " 'demean',\n",
       " 'deprecate',\n",
       " 'deprecate_with_doc',\n",
       " 'det',\n",
       " 'detrend',\n",
       " 'detrend_linear',\n",
       " 'detrend_mean',\n",
       " 'detrend_none',\n",
       " 'diag',\n",
       " 'diag_indices',\n",
       " 'diag_indices_from',\n",
       " 'diagflat',\n",
       " 'diagonal',\n",
       " 'diff',\n",
       " 'digitize',\n",
       " 'disconnect',\n",
       " 'disp',\n",
       " 'display',\n",
       " 'dist',\n",
       " 'dist_point_to_segment',\n",
       " 'distances_along_curve',\n",
       " 'divide',\n",
       " 'division',\n",
       " 'docstring',\n",
       " 'dot',\n",
       " 'double',\n",
       " 'drange',\n",
       " 'draw',\n",
       " 'draw_if_interactive',\n",
       " 'dsplit',\n",
       " 'dstack',\n",
       " 'dtype',\n",
       " 'e',\n",
       " 'ediff1d',\n",
       " 'eig',\n",
       " 'eigh',\n",
       " 'eigvals',\n",
       " 'eigvalsh',\n",
       " 'einsum',\n",
       " 'emath',\n",
       " 'empty',\n",
       " 'empty_like',\n",
       " 'entropy',\n",
       " 'epoch2num',\n",
       " 'equal',\n",
       " 'erf',\n",
       " 'erfc',\n",
       " 'errorbar',\n",
       " 'errstate',\n",
       " 'euler_gamma',\n",
       " 'eventplot',\n",
       " 'exception_to_str',\n",
       " 'exit',\n",
       " 'exp',\n",
       " 'exp2',\n",
       " 'exp_safe',\n",
       " 'expand_dims',\n",
       " 'expm1',\n",
       " 'exponential',\n",
       " 'extract',\n",
       " 'eye',\n",
       " 'f',\n",
       " 'fabs',\n",
       " 'factorial',\n",
       " 'fastCopyAndTranspose',\n",
       " 'fft',\n",
       " 'fft2',\n",
       " 'fftfreq',\n",
       " 'fftn',\n",
       " 'fftpack',\n",
       " 'fftpack_lite',\n",
       " 'fftshift',\n",
       " 'fftsurr',\n",
       " 'figaspect',\n",
       " 'figimage',\n",
       " 'figlegend',\n",
       " 'fignum_exists',\n",
       " 'figsize',\n",
       " 'figtext',\n",
       " 'figure',\n",
       " 'fill',\n",
       " 'fill_between',\n",
       " 'fill_betweenx',\n",
       " 'fill_diagonal',\n",
       " 'find',\n",
       " 'find_common_type',\n",
       " 'findobj',\n",
       " 'finfo',\n",
       " 'fix',\n",
       " 'flag',\n",
       " 'flatiter',\n",
       " 'flatnonzero',\n",
       " 'flatten',\n",
       " 'flexible',\n",
       " 'fliplr',\n",
       " 'flipud',\n",
       " 'float16',\n",
       " 'float32',\n",
       " 'float64',\n",
       " 'float96',\n",
       " 'float_',\n",
       " 'floating',\n",
       " 'floor',\n",
       " 'floor_divide',\n",
       " 'fmax',\n",
       " 'fmin',\n",
       " 'fmod',\n",
       " 'format_parser',\n",
       " 'frange',\n",
       " 'frexp',\n",
       " 'frombuffer',\n",
       " 'fromfile',\n",
       " 'fromfunction',\n",
       " 'fromiter',\n",
       " 'frompyfunc',\n",
       " 'fromregex',\n",
       " 'fromstring',\n",
       " 'fsum',\n",
       " 'full',\n",
       " 'full_like',\n",
       " 'fv',\n",
       " 'gamma',\n",
       " 'gca',\n",
       " 'gcf',\n",
       " 'gci',\n",
       " 'generic',\n",
       " 'genfromtxt',\n",
       " 'geometric',\n",
       " 'get',\n",
       " 'get_array_wrap',\n",
       " 'get_backend',\n",
       " 'get_cmap',\n",
       " 'get_current_fig_manager',\n",
       " 'get_figlabels',\n",
       " 'get_fignums',\n",
       " 'get_include',\n",
       " 'get_ipython',\n",
       " 'get_plot_commands',\n",
       " 'get_printoptions',\n",
       " 'get_scale_docs',\n",
       " 'get_scale_names',\n",
       " 'get_sparse_matrix',\n",
       " 'get_state',\n",
       " 'get_xyz_where',\n",
       " 'getbuffer',\n",
       " 'getbufsize',\n",
       " 'geterr',\n",
       " 'geterrcall',\n",
       " 'geterrobj',\n",
       " 'getfigs',\n",
       " 'getp',\n",
       " 'ginput',\n",
       " 'gradient',\n",
       " 'gray',\n",
       " 'greater',\n",
       " 'greater_equal',\n",
       " 'grid',\n",
       " 'griddata',\n",
       " 'gumbel',\n",
       " 'half',\n",
       " 'hamming',\n",
       " 'hanning',\n",
       " 'helper',\n",
       " 'hexbin',\n",
       " 'hfft',\n",
       " 'hist',\n",
       " 'hist2d',\n",
       " 'histogram',\n",
       " 'histogram2d',\n",
       " 'histogramdd',\n",
       " 'hlines',\n",
       " 'hold',\n",
       " 'hot',\n",
       " 'hsplit',\n",
       " 'hstack',\n",
       " 'hsv',\n",
       " 'hypergeometric',\n",
       " 'hypot',\n",
       " 'i',\n",
       " 'i0',\n",
       " 'identity',\n",
       " 'ifft',\n",
       " 'ifft2',\n",
       " 'ifftn',\n",
       " 'ifftshift',\n",
       " 'ihfft',\n",
       " 'iinfo',\n",
       " 'imag',\n",
       " 'imread',\n",
       " 'imsave',\n",
       " 'imshow',\n",
       " 'in1d',\n",
       " 'index_exp',\n",
       " 'indices',\n",
       " 'inexact',\n",
       " 'inf',\n",
       " 'info',\n",
       " 'infty',\n",
       " 'inner',\n",
       " 'insert',\n",
       " 'inside_poly',\n",
       " 'int0',\n",
       " 'int16',\n",
       " 'int32',\n",
       " 'int64',\n",
       " 'int8',\n",
       " 'int_',\n",
       " 'int_asbuffer',\n",
       " 'intc',\n",
       " 'integer',\n",
       " 'interactive',\n",
       " 'interp',\n",
       " 'intersect1d',\n",
       " 'intp',\n",
       " 'inv',\n",
       " 'invert',\n",
       " 'ioff',\n",
       " 'ion',\n",
       " 'ipmt',\n",
       " 'irfft',\n",
       " 'irfft2',\n",
       " 'irfftn',\n",
       " 'irr',\n",
       " 'is_busday',\n",
       " 'is_closed_polygon',\n",
       " 'is_numlike',\n",
       " 'is_string_like',\n",
       " 'isclose',\n",
       " 'iscomplex',\n",
       " 'iscomplexobj',\n",
       " 'isfinite',\n",
       " 'isfortran',\n",
       " 'ishold',\n",
       " 'isinf',\n",
       " 'isinteractive',\n",
       " 'isnan',\n",
       " 'isneginf',\n",
       " 'isposinf',\n",
       " 'ispower2',\n",
       " 'isreal',\n",
       " 'isrealobj',\n",
       " 'isscalar',\n",
       " 'issctype',\n",
       " 'issubclass_',\n",
       " 'issubdtype',\n",
       " 'issubsctype',\n",
       " 'isvector',\n",
       " 'iterable',\n",
       " 'ix_',\n",
       " 'jet',\n",
       " 'kaiser',\n",
       " 'kron',\n",
       " 'l1norm',\n",
       " 'l2norm',\n",
       " 'lapack_lite',\n",
       " 'laplace',\n",
       " 'ldexp',\n",
       " 'left_shift',\n",
       " 'legend',\n",
       " 'less',\n",
       " 'less_equal',\n",
       " 'lexsort',\n",
       " 'lgamma',\n",
       " 'linalg',\n",
       " 'linspace',\n",
       " 'little_endian',\n",
       " 'load',\n",
       " 'loads',\n",
       " 'loadtxt',\n",
       " 'locator_params',\n",
       " 'log',\n",
       " 'log10',\n",
       " 'log1p',\n",
       " 'log2',\n",
       " 'logaddexp',\n",
       " 'logaddexp2',\n",
       " 'logical_and',\n",
       " 'logical_not',\n",
       " 'logical_or',\n",
       " 'logical_xor',\n",
       " 'logistic',\n",
       " 'loglog',\n",
       " 'lognormal',\n",
       " 'logseries',\n",
       " 'logspace',\n",
       " 'longcomplex',\n",
       " 'longdouble',\n",
       " 'longest_contiguous_ones',\n",
       " 'longest_ones',\n",
       " 'longfloat',\n",
       " 'longlong',\n",
       " 'lookfor',\n",
       " 'lstsq',\n",
       " 'ma',\n",
       " 'mafromtxt',\n",
       " 'magnitude_spectrum',\n",
       " 'margins',\n",
       " 'mask_indices',\n",
       " 'mat',\n",
       " 'math',\n",
       " 'matplotlib',\n",
       " 'matrix',\n",
       " 'matrix_power',\n",
       " 'matrix_rank',\n",
       " 'matshow',\n",
       " 'maximum',\n",
       " 'maximum_sctype',\n",
       " 'may_share_memory',\n",
       " 'mean',\n",
       " 'median',\n",
       " 'memmap',\n",
       " 'meshgrid',\n",
       " 'mgrid',\n",
       " 'min_scalar_type',\n",
       " 'minimum',\n",
       " 'minorticks_off',\n",
       " 'minorticks_on',\n",
       " 'mintypecode',\n",
       " 'mirr',\n",
       " 'mlab',\n",
       " 'mod',\n",
       " 'modf',\n",
       " 'movavg',\n",
       " 'mpl',\n",
       " 'msort',\n",
       " 'multinomial',\n",
       " 'multiply',\n",
       " 'multivariate_normal',\n",
       " 'mx2num',\n",
       " 'nan',\n",
       " 'nan_to_num',\n",
       " 'nanargmax',\n",
       " 'nanargmin',\n",
       " 'nanmax',\n",
       " 'nanmean',\n",
       " 'nanmedian',\n",
       " 'nanmin',\n",
       " 'nanpercentile',\n",
       " 'nanstd',\n",
       " 'nansum',\n",
       " 'nanvar',\n",
       " 'nbytes',\n",
       " 'ndarray',\n",
       " 'ndenumerate',\n",
       " 'ndfromtxt',\n",
       " 'ndim',\n",
       " 'ndindex',\n",
       " 'nditer',\n",
       " 'negative',\n",
       " 'negative_binomial',\n",
       " 'nested_iters',\n",
       " 'new_figure_manager',\n",
       " 'newaxis',\n",
       " 'newbuffer',\n",
       " 'nextafter',\n",
       " 'noncentral_chisquare',\n",
       " 'noncentral_f',\n",
       " 'nonzero',\n",
       " 'norm',\n",
       " 'norm_flat',\n",
       " 'normal',\n",
       " 'normalize',\n",
       " 'normpdf',\n",
       " 'not_equal',\n",
       " 'np',\n",
       " 'nper',\n",
       " 'npv',\n",
       " 'num2date',\n",
       " 'num2epoch',\n",
       " 'number',\n",
       " 'numpy',\n",
       " 'obj2sctype',\n",
       " 'object0',\n",
       " 'object_',\n",
       " 'ogrid',\n",
       " 'ones',\n",
       " 'ones_like',\n",
       " 'outer',\n",
       " 'over',\n",
       " 'packbits',\n",
       " 'pad',\n",
       " 'pareto',\n",
       " 'partition',\n",
       " 'path_length',\n",
       " 'pause',\n",
       " 'pcolor',\n",
       " 'pcolormesh',\n",
       " 'percentile',\n",
       " 'permutation',\n",
       " 'phase_spectrum',\n",
       " 'pi',\n",
       " 'pie',\n",
       " 'piecewise',\n",
       " 'pink',\n",
       " 'pinv',\n",
       " 'pkgload',\n",
       " 'place',\n",
       " 'plot',\n",
       " 'plot_date',\n",
       " 'plotfile',\n",
       " 'plotting',\n",
       " 'plt',\n",
       " 'pmt',\n",
       " 'poisson',\n",
       " 'polar',\n",
       " 'poly',\n",
       " 'poly1d',\n",
       " 'poly_below',\n",
       " 'poly_between',\n",
       " 'polyadd',\n",
       " 'polyder',\n",
       " 'polydiv',\n",
       " 'polyfit',\n",
       " 'polyint',\n",
       " 'polymul',\n",
       " 'polysub',\n",
       " 'polyval',\n",
       " 'pow',\n",
       " 'power',\n",
       " 'ppmt',\n",
       " 'prctile',\n",
       " 'prctile_rank',\n",
       " 'prepca',\n",
       " 'print_function',\n",
       " 'prism',\n",
       " 'prod',\n",
       " 'product',\n",
       " 'promote_types',\n",
       " 'psd',\n",
       " 'ptp',\n",
       " 'put',\n",
       " 'putmask',\n",
       " 'pv',\n",
       " 'pylab',\n",
       " 'pylab_setup',\n",
       " 'pyplot',\n",
       " 'qr',\n",
       " 'quit',\n",
       " 'quiver',\n",
       " 'quiverkey',\n",
       " 'r_',\n",
       " 'rad2deg',\n",
       " 'radians',\n",
       " 'rand',\n",
       " 'randint',\n",
       " 'randn',\n",
       " 'random',\n",
       " 'random_integers',\n",
       " 'random_sample',\n",
       " 'ranf',\n",
       " 'rank',\n",
       " 'rate',\n",
       " 'ravel',\n",
       " 'ravel_multi_index',\n",
       " 'rayleigh',\n",
       " 'rc',\n",
       " 'rcParams',\n",
       " 'rcParamsDefault',\n",
       " 'rc_context',\n",
       " 'rcdefaults',\n",
       " 'real',\n",
       " 'real_if_close',\n",
       " 'rec',\n",
       " 'rec2csv',\n",
       " 'rec_append_fields',\n",
       " 'rec_drop_fields',\n",
       " 'rec_join',\n",
       " 'recarray',\n",
       " 'recfromcsv',\n",
       " 'recfromtxt',\n",
       " 'reciprocal',\n",
       " 'record',\n",
       " 'register_cmap',\n",
       " 'relativedelta',\n",
       " 'remainder',\n",
       " 'repeat',\n",
       " 'require',\n",
       " 'reshape',\n",
       " 'resize',\n",
       " 'restoredot',\n",
       " 'result_type',\n",
       " 'rfft',\n",
       " 'rfft2',\n",
       " 'rfftfreq',\n",
       " 'rfftn',\n",
       " 'rgrids',\n",
       " 'right_shift',\n",
       " 'rint',\n",
       " 'rk4',\n",
       " 'rms_flat',\n",
       " 'roll',\n",
       " 'rollaxis',\n",
       " 'roots',\n",
       " 'rot90',\n",
       " 'round_',\n",
       " 'row_stack',\n",
       " 'rrule',\n",
       " 's_',\n",
       " 'safe_eval',\n",
       " 'sample',\n",
       " 'save',\n",
       " 'savefig',\n",
       " 'savetxt',\n",
       " 'savez',\n",
       " 'savez_compressed',\n",
       " 'sca',\n",
       " 'scatter',\n",
       " 'sci',\n",
       " 'sctype2char',\n",
       " 'sctypeDict',\n",
       " 'sctypeNA',\n",
       " 'sctypes',\n",
       " 'searchsorted',\n",
       " 'seed',\n",
       " 'segments_intersect',\n",
       " 'select',\n",
       " 'semilogx',\n",
       " 'semilogy',\n",
       " 'set_cmap',\n",
       " 'set_numeric_ops',\n",
       " 'set_printoptions',\n",
       " 'set_state',\n",
       " 'set_string_function',\n",
       " 'setbufsize',\n",
       " 'setdiff1d',\n",
       " 'seterr',\n",
       " 'seterrcall',\n",
       " 'seterrobj',\n",
       " 'setp',\n",
       " 'setxor1d',\n",
       " 'shape',\n",
       " 'short',\n",
       " 'show',\n",
       " 'show_config',\n",
       " 'shuffle',\n",
       " 'sign',\n",
       " 'signbit',\n",
       " 'signedinteger',\n",
       " 'silent_list',\n",
       " 'sin',\n",
       " 'sinc',\n",
       " 'single',\n",
       " 'singlecomplex',\n",
       " 'sinh',\n",
       " 'six',\n",
       " 'size',\n",
       " 'slogdet',\n",
       " 'slopes',\n",
       " 'solve',\n",
       " 'sometrue',\n",
       " 'sort',\n",
       " 'sort_complex',\n",
       " 'source',\n",
       " 'spacing',\n",
       " 'specgram',\n",
       " 'spectral',\n",
       " 'split',\n",
       " 'spring',\n",
       " 'spy',\n",
       " 'sqrt',\n",
       " 'square',\n",
       " 'squeeze',\n",
       " 'stackplot',\n",
       " 'standard_cauchy',\n",
       " 'standard_exponential',\n",
       " 'standard_gamma',\n",
       " 'standard_normal',\n",
       " 'standard_t',\n",
       " 'std',\n",
       " 'stem',\n",
       " 'step',\n",
       " 'stineman_interp',\n",
       " 'str_',\n",
       " 'streamplot',\n",
       " 'string0',\n",
       " 'string_',\n",
       " 'strpdate2num',\n",
       " 'style',\n",
       " 'subplot',\n",
       " 'subplot2grid',\n",
       " 'subplot_tool',\n",
       " 'subplots',\n",
       " 'subplots_adjust',\n",
       " 'subtract',\n",
       " 'sum',\n",
       " 'summer',\n",
       " 'suptitle',\n",
       " 'svd',\n",
       " 'swapaxes',\n",
       " 'switch_backend',\n",
       " 'sys',\n",
       " 'table',\n",
       " 'take',\n",
       " 'tan',\n",
       " 'tanh',\n",
       " 'tensordot',\n",
       " 'tensorinv',\n",
       " 'tensorsolve',\n",
       " 'test',\n",
       " 'text',\n",
       " 'thetagrids',\n",
       " 'tick_params',\n",
       " 'ticklabel_format',\n",
       " 'tight_layout',\n",
       " 'tile',\n",
       " 'timedelta64',\n",
       " 'title',\n",
       " 'trace',\n",
       " 'transpose',\n",
       " 'trapz',\n",
       " 'tri',\n",
       " 'triangular',\n",
       " 'tricontour',\n",
       " 'tricontourf',\n",
       " 'tril',\n",
       " 'tril_indices',\n",
       " 'tril_indices_from',\n",
       " 'trim_zeros',\n",
       " 'tripcolor',\n",
       " 'triplot',\n",
       " 'triu',\n",
       " 'triu_indices',\n",
       " 'triu_indices_from',\n",
       " 'true_divide',\n",
       " 'trunc',\n",
       " 'twinx',\n",
       " 'twiny',\n",
       " 'typeDict',\n",
       " 'typeNA',\n",
       " 'typecodes',\n",
       " 'typename',\n",
       " 'ubyte',\n",
       " 'ufunc',\n",
       " 'uint',\n",
       " 'uint0',\n",
       " 'uint16',\n",
       " 'uint32',\n",
       " 'uint64',\n",
       " 'uint8',\n",
       " 'uintc',\n",
       " 'uintp',\n",
       " 'ulonglong',\n",
       " 'unicode0',\n",
       " 'unicode_',\n",
       " 'unicode_literals',\n",
       " 'uniform',\n",
       " 'union1d',\n",
       " 'unique',\n",
       " 'unpackbits',\n",
       " 'unravel_index',\n",
       " 'unsignedinteger',\n",
       " 'unwrap',\n",
       " 'ushort',\n",
       " 'using_mklfft',\n",
       " 'vander',\n",
       " 'var',\n",
       " 'vdot',\n",
       " 'vector_lengths',\n",
       " 'vectorize',\n",
       " 'violinplot',\n",
       " 'vlines',\n",
       " 'void',\n",
       " 'void0',\n",
       " 'vonmises',\n",
       " 'vsplit',\n",
       " 'vstack',\n",
       " 'waitforbuttonpress',\n",
       " 'wald',\n",
       " 'warnings',\n",
       " 'weibull',\n",
       " 'where',\n",
       " 'who',\n",
       " 'window_hanning',\n",
       " 'window_none',\n",
       " 'winter',\n",
       " 'wiskunde',\n",
       " 'xcorr',\n",
       " 'xkcd',\n",
       " 'xlabel',\n",
       " 'xlim',\n",
       " 'xscale',\n",
       " 'xticks',\n",
       " 'ylabel',\n",
       " 'ylim',\n",
       " 'yscale',\n",
       " 'yticks',\n",
       " ...]"
      ]
     },
     "execution_count": 7,
     "metadata": {},
     "output_type": "execute_result"
    }
   ],
   "source": [
    "# 1\n",
    "import math             # Then 'math.'must be used before using any command\n",
    "print 'sin(3)=', math.pow\n",
    "\n",
    "# 2\n",
    "import math as wiskunde\n",
    "print 'cos(3) = ', wiskunde.atan2\n",
    "\n",
    "#3\n",
    "from math import *\n",
    "print '5 degrees in rads',radians(5)\n",
    "\n",
    "#4 \n",
    "from math import tan\n",
    "print 'tan(4)',tan(4)\n",
    "\n",
    "dir()"
   ]
  },
  {
   "cell_type": "markdown",
   "metadata": {
    "slideshow": {
     "slide_type": "slide"
    }
   },
   "source": [
    "## 3 Strings"
   ]
  },
  {
   "cell_type": "markdown",
   "metadata": {
    "slideshow": {
     "slide_type": "fragment"
    }
   },
   "source": [
    "Strings can be defined with both double or single quotes. Escape codes like `\\t [tab]`, `\\n [newline]` or `\\xHH [special character]` can be used. The output can be printed multiple times by using `*k`"
   ]
  },
  {
   "cell_type": "code",
   "execution_count": 9,
   "metadata": {
    "collapsed": false,
    "slideshow": {
     "slide_type": "fragment"
    }
   },
   "outputs": [
    {
     "name": "stdout",
     "output_type": "stream",
     "text": [
      "hello-- HELLO -- Hello, how's going?\n"
     ]
    }
   ],
   "source": [
    "a, b, c = 'hello', \"HELLO\", \"Hello, how's going?\"\n",
    "print a + '-'*2, b, '-'*2, c"
   ]
  },
  {
   "cell_type": "markdown",
   "metadata": {
    "slideshow": {
     "slide_type": "slide"
    }
   },
   "source": [
    "The **in** function can be used to find substrings:"
   ]
  },
  {
   "cell_type": "code",
   "execution_count": 10,
   "metadata": {
    "collapsed": false,
    "slideshow": {
     "slide_type": "fragment"
    }
   },
   "outputs": [
    {
     "name": "stdout",
     "output_type": "stream",
     "text": [
      "hello\n"
     ]
    },
    {
     "data": {
      "text/plain": [
       "True"
      ]
     },
     "execution_count": 10,
     "metadata": {},
     "output_type": "execute_result"
    }
   ],
   "source": [
    "print a\n",
    "a = '\\t abcdef_gh \\n '\n",
    "'cd' in a"
   ]
  },
  {
   "cell_type": "markdown",
   "metadata": {
    "slideshow": {
     "slide_type": "slide"
    }
   },
   "source": [
    "`strip` is one of the most used functions while working with strings in Python. "
   ]
  },
  {
   "cell_type": "code",
   "execution_count": 11,
   "metadata": {
    "collapsed": false,
    "slideshow": {
     "slide_type": "fragment"
    }
   },
   "outputs": [
    {
     "name": "stdout",
     "output_type": "stream",
     "text": [
      "\t abcdef_gh \n",
      " \n",
      "abcdef_gh\n"
     ]
    }
   ],
   "source": [
    "print a\n",
    "print a.strip()"
   ]
  },
  {
   "cell_type": "code",
   "execution_count": 12,
   "metadata": {
    "collapsed": false,
    "slideshow": {
     "slide_type": "slide"
    }
   },
   "outputs": [
    {
     "data": {
      "text/plain": [
       "['236', '23', '32', '23', '55']"
      ]
     },
     "execution_count": 12,
     "metadata": {},
     "output_type": "execute_result"
    }
   ],
   "source": [
    "b = '236 23 32           23 55'\n",
    "b.split()"
   ]
  },
  {
   "cell_type": "markdown",
   "metadata": {
    "slideshow": {
     "slide_type": "slide"
    }
   },
   "source": [
    "## 4 String formatting"
   ]
  },
  {
   "cell_type": "markdown",
   "metadata": {
    "slideshow": {
     "slide_type": "fragment"
    }
   },
   "source": [
    "There are many ways to format an output in Python. In past, the most common was using the % string formatting operator, a sort of placeholder, with the following syntax:  \n",
    "`'Message %' %(val)`.\n",
    "\n",
    "See the following examples (old way!):"
   ]
  },
  {
   "cell_type": "code",
   "execution_count": 13,
   "metadata": {
    "collapsed": false,
    "slideshow": {
     "slide_type": "fragment"
    }
   },
   "outputs": [
    {
     "data": {
      "text/plain": [
       "'Hello john, my name is mike,my age is 30'"
      ]
     },
     "execution_count": 13,
     "metadata": {},
     "output_type": "execute_result"
    }
   ],
   "source": [
    "\"Hello %s, my name is %s,my age is %d\" % ('john', 'mike', 30)"
   ]
  },
  {
   "cell_type": "code",
   "execution_count": 14,
   "metadata": {
    "collapsed": false,
    "slideshow": {
     "slide_type": "slide"
    }
   },
   "outputs": [
    {
     "name": "stdout",
     "output_type": "stream",
     "text": [
      "Name: John, age: 35\n"
     ]
    }
   ],
   "source": [
    "# new more pythonic way\n",
    "print 'Name: {1}, age: {0}'.format(35,'John')"
   ]
  },
  {
   "cell_type": "markdown",
   "metadata": {
    "slideshow": {
     "slide_type": "slide"
    }
   },
   "source": [
    "## 5 Lists"
   ]
  },
  {
   "cell_type": "markdown",
   "metadata": {
    "slideshow": {
     "slide_type": "fragment"
    }
   },
   "source": [
    "* List are ordered Non-Homogeneus containers. \n",
    "* Lists are MUTABLE, so the single items can be redefined without redefining the list object. \n",
    "* The index starts from 0, not from 1! "
   ]
  },
  {
   "cell_type": "code",
   "execution_count": 17,
   "metadata": {
    "collapsed": false,
    "slideshow": {
     "slide_type": "fragment"
    }
   },
   "outputs": [
    {
     "name": "stdout",
     "output_type": "stream",
     "text": [
      "[2, 3, 4, 5, 'six', 9]\n",
      "[2, 3, 4, 5, 'six', 8]\n",
      "[2, 3, 4]\n"
     ]
    }
   ],
   "source": [
    "ls = [2, 3, 4, 5, 'six', 9]\n",
    "print ls\n",
    "ls[-1] = 8                  # Redefine the last element\n",
    "print ls\n",
    "print ls[0:3]\n"
   ]
  },
  {
   "cell_type": "code",
   "execution_count": 18,
   "metadata": {
    "collapsed": false,
    "slideshow": {
     "slide_type": "slide"
    }
   },
   "outputs": [
    {
     "name": "stdout",
     "output_type": "stream",
     "text": [
      "[2, 3, 4, 5, 'six', 8]\n",
      "[2, 77, 88, 99, 3, 4, 5, 'six', 8]\n"
     ]
    }
   ],
   "source": [
    "print ls\n",
    "ls[1:1] = [77, 88, 99]\n",
    "print ls"
   ]
  },
  {
   "cell_type": "code",
   "execution_count": 19,
   "metadata": {
    "collapsed": false,
    "slideshow": {
     "slide_type": "slide"
    }
   },
   "outputs": [
    {
     "data": {
      "text/plain": [
       "2"
      ]
     },
     "execution_count": 19,
     "metadata": {},
     "output_type": "execute_result"
    }
   ],
   "source": [
    "ls = [5, 6, 3, 7, 3, 9, 7]\n",
    "ls.count(7)"
   ]
  },
  {
   "cell_type": "markdown",
   "metadata": {
    "slideshow": {
     "slide_type": "slide"
    }
   },
   "source": [
    "`sort` can be used with a secondary sort key (a function to generate the key): in this case the sort key is the lenght of the strings"
   ]
  },
  {
   "cell_type": "code",
   "execution_count": 20,
   "metadata": {
    "collapsed": false,
    "slideshow": {
     "slide_type": "fragment"
    }
   },
   "outputs": [
    {
     "data": {
      "text/plain": [
       "['I', 'Zr', 'wax', 'Sir', 'grid', 'zirconium']"
      ]
     },
     "execution_count": 20,
     "metadata": {},
     "output_type": "execute_result"
    }
   ],
   "source": [
    "ls= ['Zr', 'wax', 'grid', 'I', 'Sir', 'zirconium']\n",
    "ls.sort(key=len)\n",
    "ls "
   ]
  },
  {
   "cell_type": "markdown",
   "metadata": {
    "slideshow": {
     "slide_type": "slide"
    }
   },
   "source": [
    "`in` checks if one element is in the list"
   ]
  },
  {
   "cell_type": "code",
   "execution_count": null,
   "metadata": {
    "collapsed": false,
    "slideshow": {
     "slide_type": "fragment"
    }
   },
   "outputs": [],
   "source": [
    "print ls\n",
    "'wax' in ls"
   ]
  },
  {
   "cell_type": "markdown",
   "metadata": {
    "slideshow": {
     "slide_type": "slide"
    }
   },
   "source": [
    "`index` finds the position of a given element in a list"
   ]
  },
  {
   "cell_type": "code",
   "execution_count": 21,
   "metadata": {
    "collapsed": false,
    "slideshow": {
     "slide_type": "fragment"
    }
   },
   "outputs": [
    {
     "name": "stdout",
     "output_type": "stream",
     "text": [
      "['I', 'Zr', 'wax', 'Sir', 'grid', 'zirconium']\n",
      "grid at position 4\n",
      "note 0 based indexing. Item 4 is index 3\n"
     ]
    }
   ],
   "source": [
    "print ls\n",
    "print 'grid at position', ls.index('grid')\n",
    "print 'note 0 based indexing. Item 4 is index 3'"
   ]
  },
  {
   "cell_type": "markdown",
   "metadata": {
    "slideshow": {
     "slide_type": "slide"
    }
   },
   "source": [
    "Lists can be iterated with `for`. In Python the index is not requires but you can have one if you need it for your purposes. Check the following two examples"
   ]
  },
  {
   "cell_type": "code",
   "execution_count": 22,
   "metadata": {
    "collapsed": false,
    "slideshow": {
     "slide_type": "fragment"
    }
   },
   "outputs": [
    {
     "name": "stdout",
     "output_type": "stream",
     "text": [
      "['I', 'Zr', 'wax', 'Sir', 'grid', 'zirconium']\n",
      "-----\n",
      "         I\n",
      "        Zr\n",
      "       wax\n",
      "       Sir\n",
      "      grid\n",
      " zirconium\n"
     ]
    }
   ],
   "source": [
    "print ls\n",
    "print '-----'\n",
    "for string in ls:\n",
    "    print string.rjust(10)"
   ]
  },
  {
   "cell_type": "code",
   "execution_count": 25,
   "metadata": {
    "collapsed": false,
    "slideshow": {
     "slide_type": "fragment"
    }
   },
   "outputs": [
    {
     "name": "stdout",
     "output_type": "stream",
     "text": [
      "0          I\n",
      "I\n",
      "1         Zr\n",
      "r\n",
      "2        wax\n",
      "x\n",
      "3        Sir\n"
     ]
    },
    {
     "ename": "IndexError",
     "evalue": "string index out of range",
     "output_type": "error",
     "traceback": [
      "\u001b[1;31m---------------------------------------------------------------------------\u001b[0m",
      "\u001b[1;31mIndexError\u001b[0m                                Traceback (most recent call last)",
      "\u001b[1;32m<ipython-input-25-99aa615909e6>\u001b[0m in \u001b[0;36m<module>\u001b[1;34m()\u001b[0m\n\u001b[0;32m      1\u001b[0m \u001b[1;32mfor\u001b[0m \u001b[0mindex\u001b[0m\u001b[1;33m,\u001b[0m \u001b[0mstring\u001b[0m \u001b[1;32min\u001b[0m \u001b[0menumerate\u001b[0m\u001b[1;33m(\u001b[0m\u001b[0mls\u001b[0m\u001b[1;33m)\u001b[0m\u001b[1;33m:\u001b[0m\u001b[1;33m\u001b[0m\u001b[0m\n\u001b[0;32m      2\u001b[0m     \u001b[1;32mprint\u001b[0m \u001b[0mindex\u001b[0m\u001b[1;33m,\u001b[0m \u001b[0mstring\u001b[0m\u001b[1;33m.\u001b[0m\u001b[0mrjust\u001b[0m\u001b[1;33m(\u001b[0m\u001b[1;36m10\u001b[0m\u001b[1;33m)\u001b[0m\u001b[1;33m\u001b[0m\u001b[0m\n\u001b[1;32m----> 3\u001b[1;33m     \u001b[1;32mprint\u001b[0m \u001b[0mstring\u001b[0m\u001b[1;33m[\u001b[0m\u001b[0mindex\u001b[0m\u001b[1;33m]\u001b[0m\u001b[1;33m\u001b[0m\u001b[0m\n\u001b[0m",
      "\u001b[1;31mIndexError\u001b[0m: string index out of range"
     ]
    }
   ],
   "source": [
    "for index, string in enumerate(ls):\n",
    "    print index, string.rjust(10)\n",
    "    print string[index]"
   ]
  },
  {
   "cell_type": "markdown",
   "metadata": {
    "slideshow": {
     "slide_type": "slide"
    }
   },
   "source": [
    "***List comprehension*** is one of the more important constructs in Python. The general syntax is:\n",
    "\n",
    "    [expression(argument) for argument in list if boolean_expression]\n",
    "\n",
    "Expression can contain control structures such as if ... else.\n"
   ]
  },
  {
   "cell_type": "code",
   "execution_count": 26,
   "metadata": {
    "collapsed": false,
    "slideshow": {
     "slide_type": "fragment"
    }
   },
   "outputs": [
    {
     "name": "stdout",
     "output_type": "stream",
     "text": [
      "[2, 4, 6, 8, 10, 12, 14, 16, 18, 20]\n",
      "[4, 16, 36, 64, 100, 144, 196, 256, 324, 400]\n"
     ]
    },
    {
     "data": {
      "text/plain": [
       "[<matplotlib.lines.Line2D at 0xb0bcbd6c>]"
      ]
     },
     "execution_count": 26,
     "metadata": {},
     "output_type": "execute_result"
    },
    {
     "data": {
      "image/png": "[encoded data removed]",
      "text/plain": [
       "<matplotlib.figure.Figure at 0xb0ca398c>"
      ]
     },
     "metadata": {},
     "output_type": "display_data"
    }
   ],
   "source": [
    "\n",
    "x = [ i for i in range(2,22) if i%2==0]\n",
    "y = [ y**2 for y in x]\n",
    "print x\n",
    "print y\n",
    "plot(x,y)"
   ]
  },
  {
   "cell_type": "markdown",
   "metadata": {
    "slideshow": {
     "slide_type": "slide"
    }
   },
   "source": [
    "## 6 Slicing"
   ]
  },
  {
   "cell_type": "code",
   "execution_count": 30,
   "metadata": {
    "collapsed": false,
    "slideshow": {
     "slide_type": "fragment"
    }
   },
   "outputs": [
    {
     "name": "stdout",
     "output_type": "stream",
     "text": [
      "                                   abcdefghi123\n",
      "slide from beginning to index 4--> abcdefghi123\n",
      "--------------------------------------------------\n"
     ]
    }
   ],
   "source": [
    "s = 'abcdefghi' + '123'       # s is a string\n",
    "print s.rjust(47)\n",
    "print 'slide from beginning to index 4-->',s\n",
    "print '-'*50\n"
   ]
  },
  {
   "cell_type": "markdown",
   "metadata": {
    "slideshow": {
     "slide_type": "slide"
    }
   },
   "source": [
    "## 7 Sets"
   ]
  },
  {
   "cell_type": "markdown",
   "metadata": {
    "slideshow": {
     "slide_type": "fragment"
    }
   },
   "source": [
    "* Sets are lists with **UNIQUE** elements. \n",
    "* Sets are MUTABLE. \n",
    "* On Sets you can apply the typical set theory rules like union, intersection, and difference. \n",
    "* Sets cannot be indexed: to index, sets must be transformed in List"
   ]
  },
  {
   "cell_type": "code",
   "execution_count": 31,
   "metadata": {
    "collapsed": false,
    "slideshow": {
     "slide_type": "fragment"
    }
   },
   "outputs": [
    {
     "name": "stdout",
     "output_type": "stream",
     "text": [
      "unique set([1, 2, 9, 7]) set([8, 4, 5, 6, 7])\n",
      "union set([1, 2, 4, 5, 6, 7, 8, 9])\n",
      "intersection set([7])\n"
     ]
    }
   ],
   "source": [
    "set1 = set([1, 2, 7, 7, 7, 9])\n",
    "set2 = set([5, 4, 6, 7, 8, 8])\n",
    "\n",
    "print 'unique',set1,set2\n",
    "print 'union',set1.union(set2)\n",
    "print 'intersection',set1.intersection(set2)"
   ]
  },
  {
   "cell_type": "markdown",
   "metadata": {
    "slideshow": {
     "slide_type": "slide"
    }
   },
   "source": [
    "## 8 Tuples"
   ]
  },
  {
   "cell_type": "markdown",
   "metadata": {
    "slideshow": {
     "slide_type": "fragment"
    }
   },
   "source": [
    "* Tuples are like lists but are **IMMUTABLE** and do not have methods. \n",
    "* Tuples are indexable.\n",
    "\n",
    "So, what is the reason to use tuples? \n",
    "* The main reason is to use tuples as immutable containers to pass arguments to a function or to be used as keys in dictionaries"
   ]
  },
  {
   "cell_type": "code",
   "execution_count": 32,
   "metadata": {
    "collapsed": false,
    "slideshow": {
     "slide_type": "fragment"
    }
   },
   "outputs": [
    {
     "name": "stdout",
     "output_type": "stream",
     "text": [
      "vars =  1 2 3 (8, 9)\n",
      "d= (8, 9)\n",
      "d[0] 8\n",
      "d[1] 9\n",
      "a+b+c+d[0]-d[1]= 5\n"
     ]
    }
   ],
   "source": [
    "def myfunction(pack):\n",
    "    a, b, c, d = pack\n",
    "    print 'vars = ', a, b, c, d\n",
    "    print 'd=',d\n",
    "    print 'd[0]', d[0]\n",
    "    print 'd[1]', d[1]\n",
    "    print 'a+b+c+d[0]-d[1]=',a+b+c+d[0]-d[1]\n",
    "    \n",
    "t = 1, 2, 3, (8, 9)  # Pack arguments to pass it to a function\n",
    "\n",
    "myfunction(t)"
   ]
  },
  {
   "cell_type": "code",
   "execution_count": null,
   "metadata": {
    "collapsed": false,
    "slideshow": {
     "slide_type": "slide"
    }
   },
   "outputs": [],
   "source": [
    "seq = [(1, 2, 3), (4, 5, 6), (7, 8, 9)]\n",
    "for a, b, c in seq:\n",
    "    print a, b, c     # Common use for tuple unpacking"
   ]
  },
  {
   "cell_type": "markdown",
   "metadata": {
    "slideshow": {
     "slide_type": "slide"
    }
   },
   "source": [
    "## 9 Dictionaries"
   ]
  },
  {
   "cell_type": "markdown",
   "metadata": {
    "slideshow": {
     "slide_type": "fragment"
    }
   },
   "source": [
    "* Dictionaries are **'Associative Arrays'**: \n",
    "* values are indexed by generic keys. "
   ]
  },
  {
   "cell_type": "markdown",
   "metadata": {
    "slideshow": {
     "slide_type": "slide"
    }
   },
   "source": [
    "Here we make a dictionary using tuples as keys and telephone numbers as values. Then we access a dictionary item by providing a key (tuple)"
   ]
  },
  {
   "cell_type": "code",
   "execution_count": 33,
   "metadata": {
    "collapsed": false,
    "slideshow": {
     "slide_type": "fragment"
    }
   },
   "outputs": [
    {
     "name": "stdout",
     "output_type": "stream",
     "text": [
      "{('Ryan', 'Stuart'): '(877) 359-8474', ('Johnn', 'Doe'): '(831) 758-7214', ('Nick', 'Connor'): '(800) 445-2854'}\n",
      "----\n",
      "(831) 758-7214\n"
     ]
    }
   ],
   "source": [
    "data = [(('Johnn', 'Doe'), '(831) 758-7214'),\n",
    "         (('Ryan', 'Stuart'), '(877) 359-8474'), (('Nick', 'Connor'), '(800) 445-2854')]\n",
    "d = dict(data)\n",
    "print d\n",
    "print '----'\n",
    "print d[('Johnn', 'Doe')]"
   ]
  },
  {
   "cell_type": "code",
   "execution_count": 37,
   "metadata": {
    "collapsed": false,
    "slideshow": {
     "slide_type": "slide"
    }
   },
   "outputs": [
    {
     "data": {
      "text/plain": [
       "'Stuart'"
      ]
     },
     "execution_count": 37,
     "metadata": {},
     "output_type": "execute_result"
    }
   ],
   "source": [
    "d.keys()[0][1]"
   ]
  },
  {
   "cell_type": "markdown",
   "metadata": {
    "slideshow": {
     "slide_type": "slide"
    }
   },
   "source": [
    "* When reading the dictionary you must check if the dictionary contain the key by using `in`. \n",
    "\n",
    "* If you ask for an unknown key, Python raises an exception. \n",
    "\n",
    "* Alternatively you can use `get` with a default value to be used if the key is not found"
   ]
  },
  {
   "cell_type": "code",
   "execution_count": 38,
   "metadata": {
    "collapsed": false,
    "slideshow": {
     "slide_type": "fragment"
    }
   },
   "outputs": [
    {
     "data": {
      "text/plain": [
       "False"
      ]
     },
     "execution_count": 38,
     "metadata": {},
     "output_type": "execute_result"
    }
   ],
   "source": [
    "('Johnn', 'Stuart') in d"
   ]
  },
  {
   "cell_type": "code",
   "execution_count": 39,
   "metadata": {
    "collapsed": false,
    "slideshow": {
     "slide_type": "fragment"
    }
   },
   "outputs": [
    {
     "name": "stdout",
     "output_type": "stream",
     "text": [
      "Number not available\n"
     ]
    }
   ],
   "source": [
    "print d.get(('Johnn', 'Stuart'),'Number not available')"
   ]
  },
  {
   "cell_type": "code",
   "execution_count": 40,
   "metadata": {
    "collapsed": false,
    "slideshow": {
     "slide_type": "slide"
    }
   },
   "outputs": [
    {
     "name": "stdout",
     "output_type": "stream",
     "text": [
      "('Ryan', 'Stuart') \t(877) 359-8474\n",
      "('Johnn', 'Doe') \t(831) 758-7214\n",
      "('Nick', 'Connor') \t(800) 445-2854\n"
     ]
    }
   ],
   "source": [
    "# Iterators work on keys by default\n",
    "for key in d:\n",
    "    print key, '\\t', d[key]"
   ]
  },
  {
   "cell_type": "markdown",
   "metadata": {
    "slideshow": {
     "slide_type": "slide"
    }
   },
   "source": [
    "## 11 IF - FOR - WHILE"
   ]
  },
  {
   "cell_type": "markdown",
   "metadata": {
    "slideshow": {
     "slide_type": "fragment"
    }
   },
   "source": [
    "This is a brief overview of the flow-control instructions in Python"
   ]
  },
  {
   "cell_type": "markdown",
   "metadata": {
    "slideshow": {
     "slide_type": "slide"
    }
   },
   "source": [
    "### 11.1 IF"
   ]
  },
  {
   "cell_type": "code",
   "execution_count": 41,
   "metadata": {
    "collapsed": false,
    "slideshow": {
     "slide_type": "fragment"
    }
   },
   "outputs": [
    {
     "name": "stdout",
     "output_type": "stream",
     "text": [
      "'a' is not 7\n",
      "'a' is greater than 15\n"
     ]
    }
   ],
   "source": [
    "a = 34\n",
    "if a != 7:\n",
    "    print \"'a' is not 7\"\n",
    "if a > 15:\n",
    "    print \"'a' is greater than 15\"\n",
    "elif a == 15:\n",
    "    print \"'a' is exactly 15!\"\n",
    "else:\n",
    "    print \"'a' is less than 15\""
   ]
  },
  {
   "cell_type": "markdown",
   "metadata": {
    "slideshow": {
     "slide_type": "slide"
    }
   },
   "source": [
    "### 11.2 FOR - ELSE"
   ]
  },
  {
   "cell_type": "markdown",
   "metadata": {
    "slideshow": {
     "slide_type": "fragment"
    }
   },
   "source": [
    "In Python you can iterate Lists, Dictionaries, Lines in a file and all the 'ITERABLE' Objects"
   ]
  },
  {
   "cell_type": "code",
   "execution_count": 42,
   "metadata": {
    "collapsed": false,
    "slideshow": {
     "slide_type": "fragment"
    }
   },
   "outputs": [
    {
     "name": "stdout",
     "output_type": "stream",
     "text": [
      "a\n",
      "c\n",
      "d\n",
      "Done !\n"
     ]
    }
   ],
   "source": [
    "l = ['a', 'b', 'c', 'd', 'e', 'f']\n",
    "for v in l:\n",
    "    if v == 'e':\n",
    "        break            # Skip all loops and go the 'else' statement\n",
    "    elif v == 'b':\n",
    "        continue         # Skip this loop\n",
    "    print v\n",
    "print 'Done !'           # Executed upon completion of the for loop"
   ]
  },
  {
   "cell_type": "code",
   "execution_count": 43,
   "metadata": {
    "collapsed": false,
    "slideshow": {
     "slide_type": "slide"
    }
   },
   "outputs": [
    {
     "name": "stdout",
     "output_type": "stream",
     "text": [
      "0 Spring\n",
      "1 Summer\n",
      "2 Fall\n",
      "3 Winter\n"
     ]
    }
   ],
   "source": [
    "# Enumerate returns an enumerate object:\n",
    "for i, season in enumerate(['Spring', 'Summer', 'Fall', 'Winter']):\n",
    "    print i, season"
   ]
  },
  {
   "cell_type": "code",
   "execution_count": 44,
   "metadata": {
    "collapsed": false,
    "slideshow": {
     "slide_type": "slide"
    }
   },
   "outputs": [
    {
     "name": "stdout",
     "output_type": "stream",
     "text": [
      "[0, 1, 2, 3, 4]\n",
      "[2, 5, 8]\n",
      "[2, -1, -4]\n"
     ]
    }
   ],
   "source": [
    "# Range can be used to quickly build a list to be used in a for loop:\n",
    "print range(5)                 \n",
    "print range(2,10,3)\n",
    "print range(2,-6,-3)"
   ]
  },
  {
   "cell_type": "markdown",
   "metadata": {
    "slideshow": {
     "slide_type": "slide"
    }
   },
   "source": [
    "### 11.3 WHILE"
   ]
  },
  {
   "cell_type": "code",
   "execution_count": 45,
   "metadata": {
    "collapsed": false,
    "slideshow": {
     "slide_type": "fragment"
    }
   },
   "outputs": [
    {
     "name": "stdout",
     "output_type": "stream",
     "text": [
      "1 2 3 4 5 6 7 8 9 10\n"
     ]
    }
   ],
   "source": [
    "a = 0\n",
    "while a < 10:\n",
    "    a += 1\n",
    "    print a,"
   ]
  },
  {
   "cell_type": "markdown",
   "metadata": {
    "slideshow": {
     "slide_type": "slide"
    }
   },
   "source": [
    "# End...\n",
    "---\n",
    "\n",
    "\n",
    "\n",
    "This work is licensed under a <a rel=\"license\" href=\"http://creativecommons.org/licenses/by-sa/4.0/\">Creative Commons Attribution-ShareAlike 4.0 International License</a>."
   ]
  }
 ],
 "metadata": {
  "celltoolbar": "Slideshow",
  "kernelspec": {
   "display_name": "Python 2",
   "language": "python",
   "name": "python2"
  },
  "language_info": {
   "codemirror_mode": {
    "name": "ipython",
    "version": 2
   },
   "file_extension": ".py",
   "mimetype": "text/x-python",
   "name": "python",
   "nbconvert_exporter": "python",
   "pygments_lexer": "ipython2",
   "version": "2.7.10"
  }
 },
 "nbformat": 4,
 "nbformat_minor": 0
}
