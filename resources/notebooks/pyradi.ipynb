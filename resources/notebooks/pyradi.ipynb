{
 "cells": [
  {
   "cell_type": "markdown",
   "metadata": {
    "slideshow": {
     "slide_type": "slide"
    }
   },
   "source": [
    "#Pyradi<img src=\"images/pyradi.png\" alt=\"pyradi\"  height=\"100\" align=\"right\"> \n",
    "\n",
    "The [pyradi](https://github.com/NelisW/pyradi) toolkit is a Python toolkit with [worked examples](https://github.com/NelisW/ComputationalRadiometry#computational-optical-radiometry-with-pyradi) to perform optical and infrared computational radiometry (flux flow) calculations.\n",
    "\n",
    "\n",
    "* Models of physical radiators (e.g., Planck's Law) and conversion between values expressed in different units.\n",
    "\n",
    "* Mathematical operations (e.g., spectral integrals, spatial integrals, spectral convolution)\n",
    "\n",
    "* Data manipulation (e.g., file input/output, interpolation, spectral quantity conversions, reading Flir Inc PTW files)\n",
    "\n",
    "* Detector modelling from physical parameters, detection range  and probability of detection calculation.\n",
    "\n",
    "* 3-D noise analysis of image sequences\n",
    "\n",
    "* Modtran tape7 read functions\n",
    "\n",
    "* Graphical visualization(2-D and 3-D graphs) in compact format, including cartesian, polar, image and mesh plots.\n",
    "\n",
    "\n",
    "Used by Denel, CSIR, Airbus and two or three labs overseas.\n"
   ]
  },
  {
   "cell_type": "code",
   "execution_count": null,
   "metadata": {
    "collapsed": true
   },
   "outputs": [],
   "source": []
  }
 ],
 "metadata": {
  "celltoolbar": "Slideshow",
  "kernelspec": {
   "display_name": "Python 2",
   "language": "python",
   "name": "python2"
  },
  "language_info": {
   "codemirror_mode": {
    "name": "ipython",
    "version": 2
   },
   "file_extension": ".py",
   "mimetype": "text/x-python",
   "name": "python",
   "nbconvert_exporter": "python",
   "pygments_lexer": "ipython2",
   "version": "2.7.8"
  }
 },
 "nbformat": 4,
 "nbformat_minor": 0
}
