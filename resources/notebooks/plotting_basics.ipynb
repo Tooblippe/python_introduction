{
 "cells": [
  {
   "cell_type": "markdown",
   "metadata": {},
   "source": [
    "# Plotting with Matplotlib\n",
    "![](../img/plot.png)"
   ]
  },
  {
   "cell_type": "code",
   "execution_count": null,
   "metadata": {
    "collapsed": false
   },
   "outputs": [],
   "source": [
    "%matplotlib inline\n",
    "import matplotlib.pyplot as plt\n",
    "print 'done'"
   ]
  },
  {
   "cell_type": "markdown",
   "metadata": {},
   "source": [
    "## 1 Simple 2D Plots"
   ]
  },
  {
   "cell_type": "markdown",
   "metadata": {},
   "source": [
    "matplotlib is probably the single most used Python package for 2D-graphics. It provides both a very quick way to visualize data from Python and publication-quality figures in many formats. We are going to explore matplotlib in interactive mode covering most common cases.\n",
    "\n",
    "In this section, we want to draw the cosine and sine functions on the same plot. Starting from the default settings, we’ll enrich the figure step by step to make it nicer."
   ]
  },
  {
   "cell_type": "markdown",
   "metadata": {},
   "source": [
    "Documentation and reference:"
   ]
  },
  {
   "cell_type": "markdown",
   "metadata": {},
   "source": [
    "* [matplotlib documentation](http://matplotlib.org/contents.html)"
   ]
  },
  {
   "cell_type": "markdown",
   "metadata": {},
   "source": [
    "First step is to get the data for the sine and cosine functions:"
   ]
  },
  {
   "cell_type": "code",
   "execution_count": null,
   "metadata": {
    "collapsed": true
   },
   "outputs": [],
   "source": [
    "import numpy as np\n",
    "\n",
    "x = np.linspace(-np.pi, np.pi, 256, endpoint=True)\n",
    "c, s = np.cos(x), np.sin(x)"
   ]
  },
  {
   "cell_type": "code",
   "execution_count": null,
   "metadata": {
    "collapsed": false
   },
   "outputs": [],
   "source": [
    "plt.plot(x, c)\n",
    "plt.plot(x, s)\n",
    "plt.show()"
   ]
  },
  {
   "cell_type": "markdown",
   "metadata": {},
   "source": [
    "In the script below, we’ve instantiated all the figure settings that influence the appearance of the plot. The settings have been explicitly set to their default values: try playing with the values to explore their effect (see Line properties and Line styles below)."
   ]
  },
  {
   "cell_type": "code",
   "execution_count": null,
   "metadata": {
    "collapsed": false
   },
   "outputs": [],
   "source": [
    "# Create a figure of size 8x6 points, 80 dots per inch\n",
    "plt.figure(figsize=(8, 6), dpi=80)\n",
    "# Create a new subplot from a grid of 1x1\n",
    "plt.subplot(111)\n",
    "# Plot cosine with a blue continuous line of width 1 (pixels)\n",
    "plt.plot(x, c, color=\"blue\", linewidth=1.0, linestyle=\"-\")\n",
    "# Plot sine with a green continuous line of width 1 (pixels)\n",
    "plt.plot(x, s, color=\"green\", linewidth=1.0, linestyle=\"-\")\n",
    "# Set x limits\n",
    "plt.xlim(-4.0, 4.0)\n",
    "# Set x ticks\n",
    "plt.xticks(np.linspace(-4, 4, 9, endpoint=True))\n",
    "# Set y limits\n",
    "plt.ylim(-1.0, 1.0)\n",
    "# Set y ticks\n",
    "plt.yticks(np.linspace(-1, 1, 5, endpoint=True))\n",
    "# Save figure using 72 dots per inch\n",
    "plt.savefig('../img/test_plot_01.png', dpi=300)\n",
    "plt.show()"
   ]
  },
  {
   "cell_type": "code",
   "execution_count": null,
   "metadata": {
    "collapsed": false
   },
   "outputs": [],
   "source": [
    "%matplotlib inline\n",
    "import matplotlib.pyplot as plt"
   ]
  },
  {
   "cell_type": "markdown",
   "metadata": {},
   "source": [
    "**Changing colors and line widths:** we want to have the cosine in blue and the sine in red and a slighty thicker line for both of them. We’ll also slightly alter the figure size to make it more horizontal."
   ]
  },
  {
   "cell_type": "code",
   "execution_count": null,
   "metadata": {
    "collapsed": false
   },
   "outputs": [],
   "source": [
    "plt.figure(figsize=(10, 4), dpi=80)\n",
    "plt.plot(x, c, color=\"blue\", linewidth=2.5, linestyle=\"-\")\n",
    "plt.plot(x, s, color=\"red\",  linewidth=2.5, linestyle=\"-\")\n",
    "plt.show()"
   ]
  },
  {
   "cell_type": "markdown",
   "metadata": {},
   "source": [
    "**Setting tick labels:** When we set tick values, we can also provide a corresponding label in the second argument list. Note that we’ll use latex to allow for nice rendering of the label."
   ]
  },
  {
   "cell_type": "code",
   "execution_count": null,
   "metadata": {
    "collapsed": false
   },
   "outputs": [],
   "source": [
    "plt.figure(figsize=(10, 4), dpi=80)\n",
    "plt.plot(x, c, color=\"blue\", linewidth=2.5, linestyle=\"-\")\n",
    "plt.plot(x, s, color=\"red\",  linewidth=2.5, linestyle=\"-\")\n",
    "plt.xticks([-np.pi, -np.pi/2, 0, np.pi/2, np.pi],\n",
    "           [r'$-\\pi$', r'$-\\pi/2$', r'$0$', r'$+\\pi/2$', r'$+\\pi$'])\n",
    "plt.yticks([-1, 0, +1],\n",
    "           [r'$-1$', r'$0$', r'$+1$'])\n",
    "plt.show()"
   ]
  },
  {
   "cell_type": "markdown",
   "metadata": {},
   "source": [
    "**Taking Care of Details:**\n",
    "\n",
    "* **Spines** are the lines connecting the axis tick marks and noting the boundaries of the data area. They can be placed at arbitrary positions. We’ll change that since we want to have them in the middle. Since there are four of them (top/bottom/left/right), we’ll discard the top and right by setting their color to none and we’ll move the bottom and left ones to coordinate 0 in data space coordinates.\n",
    "* **Legend:** let’s add a legend in the upper left corner. This only requires adding the keyword argument label (that will be used in the legend box) to the plot commands.\n",
    "* **Annotations:** let’s annotate some interesting points using the annotate command. We chose the 2π/3 value and we want to annotate both the sine and the cosine. We’ll first draw a marker on the curve as well as a straight dotted line. Then, we’ll use the annotate command to display some text with an arrow.\n",
    "* **Tick Labels:** the tick labels are now hardly visible because of the blue and red lines. We can make them bigger and we can also adjust their properties such that they’ll be rendered on a semi-transparent white background. This will allow us to see both the data and the labels."
   ]
  },
  {
   "cell_type": "code",
   "execution_count": null,
   "metadata": {
    "collapsed": false
   },
   "outputs": [],
   "source": [
    "plt.figure(figsize=(16, 6), dpi=80)\n",
    "plt.plot(x, c, color=\"blue\", linewidth=2.5, linestyle=\"-\")\n",
    "plt.plot(x, s, color=\"red\",  linewidth=2.5, linestyle=\"-\")\n",
    "plt.xticks([-np.pi, -np.pi/2, 0, np.pi/2, np.pi],\n",
    "           [r'$-\\pi$', r'$-\\pi/2$', r'$0$', r'$+\\pi/2$', r'$+\\pi$'])\n",
    "plt.yticks([-1, 0, +1],\n",
    "           [r'$-1$', r'$0$', r'$+1$'])\n",
    "# Spines:\n",
    "ax = plt.gca()  # gca stands for 'get current axis'\n",
    "ax.spines['right'].set_color('none')\n",
    "ax.spines['top'].set_color('none')\n",
    "ax.xaxis.set_ticks_position('bottom')\n",
    "ax.spines['bottom'].set_position(('data',0))\n",
    "ax.yaxis.set_ticks_position('left')\n",
    "ax.spines['left'].set_position(('data',0))\n",
    "# Legend:\n",
    "plt.plot(x, c, color=\"blue\", linewidth=2.5, linestyle=\"-\", label=\"cosine\")\n",
    "plt.plot(x, c, color=\"red\",  linewidth=2.5, linestyle=\"-\", label=\"sine\")\n",
    "plt.legend(loc='upper left')\n",
    "# Annotations:\n",
    "t = 2*np.pi/3\n",
    "plt.plot([t, t], [0, np.cos(t)], color='blue', linewidth=2.5, linestyle=\"--\")\n",
    "plt.scatter([t, ], [np.cos(t), ], 50, color='blue')\n",
    "plt.annotate(r'$sin(\\frac{2\\pi}{3})=\\frac{\\sqrt{3}}{2}$',\n",
    "             xy=(t, np.sin(t)), xycoords='data',\n",
    "             xytext=(+10, +30), textcoords='offset points', fontsize=16,\n",
    "             arrowprops=dict(arrowstyle=\"->\", connectionstyle=\"arc3,rad=.2\"))\n",
    "plt.plot([t, t],[0, np.sin(t)], color='red', linewidth=2.5, linestyle=\"--\")\n",
    "plt.scatter([t, ],[np.sin(t), ], 50, color='red')\n",
    "plt.annotate(r'$cos(\\frac{2\\pi}{3})=-\\frac{1}{2}$',\n",
    "             xy=(t, np.cos(t)), xycoords='data',\n",
    "             xytext=(-90, -50), textcoords='offset points', fontsize=16,\n",
    "             arrowprops=dict(arrowstyle=\"->\", connectionstyle=\"arc3,rad=.2\"))\n",
    "# Tick Labels:\n",
    "for label in ax.get_xticklabels() + ax.get_yticklabels():\n",
    "    label.set_fontsize(16)\n",
    "    label.set_bbox(dict(facecolor='white', edgecolor='None', alpha=0.65))"
   ]
  },
  {
   "cell_type": "markdown",
   "metadata": {},
   "source": [
    "## 2 Subplots"
   ]
  },
  {
   "cell_type": "markdown",
   "metadata": {},
   "source": [
    "With subplot you can arrange plots in a regular grid. You need to specify the number of rows and columns and the number of the plot. Note that the gridspec command is a more powerful alternative."
   ]
  },
  {
   "cell_type": "code",
   "execution_count": null,
   "metadata": {
    "collapsed": false
   },
   "outputs": [],
   "source": [
    "import matplotlib.gridspec as gridspec\n",
    "\n",
    "plt.figure(figsize=(12, 6))\n",
    "G = gridspec.GridSpec(3, 3)\n",
    "\n",
    "axes_1 = plt.subplot(G[0, :])\n",
    "plt.xticks(())\n",
    "plt.yticks(())\n",
    "plt.text(0.5, 0.5, 'Axes 1', ha='center', va='center', size=24, alpha=.5)\n",
    "\n",
    "axes_2 = plt.subplot(G[1, :-1])\n",
    "plt.xticks(())\n",
    "plt.yticks(())\n",
    "plt.text(0.5, 0.5, 'Axes 2', ha='center', va='center', size=24, alpha=.5)\n",
    "\n",
    "axes_3 = plt.subplot(G[1:, -1])\n",
    "plt.xticks(())\n",
    "plt.yticks(())\n",
    "plt.text(0.5, 0.5, 'Axes 3', ha='center', va='center', size=24, alpha=.5)\n",
    "\n",
    "axes_4 = plt.subplot(G[-1, 0])\n",
    "plt.xticks(())\n",
    "plt.yticks(())\n",
    "plt.text(0.5, 0.5, 'Axes 4', ha='center', va='center', size=24, alpha=.5)\n",
    "\n",
    "axes_5 = plt.subplot(G[-1, -2])\n",
    "plt.xticks(())\n",
    "plt.yticks(())\n",
    "plt.text(0.5, 0.5, 'Axes 5', ha='center', va='center', size=24, alpha=.5)\n",
    "\n",
    "plt.tight_layout()\n",
    "plt.show()"
   ]
  },
  {
   "cell_type": "markdown",
   "metadata": {},
   "source": [
    "## 3 Axes"
   ]
  },
  {
   "cell_type": "markdown",
   "metadata": {},
   "source": [
    "Axes are very similar to subplots but allow placement of plots at any location in the figure. So if we want to put a smaller plot inside a bigger one we do so with axes."
   ]
  },
  {
   "cell_type": "code",
   "execution_count": null,
   "metadata": {
    "collapsed": false
   },
   "outputs": [],
   "source": [
    "plt.axes([.1, .1, .8, .8])\n",
    "plt.xticks(())\n",
    "plt.yticks(())\n",
    "plt.text(.6, .6, 'axes([0.1,0.1,.8,.8])', ha='center', va='center',\n",
    "         size=20, alpha=.5)\n",
    "\n",
    "plt.axes([.2, .2, .3, .3])\n",
    "plt.xticks(())\n",
    "plt.yticks(())\n",
    "plt.text(.5, .5, 'axes([0.2,0.2,.3,.3])', ha='center', va='center',\n",
    "        size=10, alpha=.5)\n",
    "\n",
    "plt.show()"
   ]
  },
  {
   "cell_type": "markdown",
   "metadata": {},
   "source": [
    "## 4 Example: Cycle Trough many colors"
   ]
  },
  {
   "cell_type": "code",
   "execution_count": null,
   "metadata": {
    "collapsed": false
   },
   "outputs": [],
   "source": [
    "np.linspace(0,1,20)"
   ]
  },
  {
   "cell_type": "code",
   "execution_count": null,
   "metadata": {
    "collapsed": false
   },
   "outputs": [],
   "source": [
    "from itertools import cycle\n",
    "\n",
    "colors = cycle('rgbcmyk')\n",
    "x = np.linspace(-np.pi, np.pi, 256, endpoint=True)\n",
    "for i, c in zip(np.linspace(0,0.8,20), colors):\n",
    "    plt.plot(np.cos(x+i)-i, c)\n",
    "\n",
    "plt.grid()\n",
    "plt.show()"
   ]
  },
  {
   "cell_type": "markdown",
   "metadata": {},
   "source": [
    "## 5 Example: Filled Plots"
   ]
  },
  {
   "cell_type": "code",
   "execution_count": null,
   "metadata": {
    "collapsed": false
   },
   "outputs": [],
   "source": [
    "n = 256\n",
    "X = np.linspace(-np.pi, np.pi, n, endpoint=True)\n",
    "Y = np.sin(2 * X)\n",
    "\n",
    "plt.axes([0.025, 0.025, 0.95, 0.95])\n",
    "\n",
    "plt.plot(X, Y + 1, color='blue', alpha=1.00)\n",
    "plt.fill_between(X, 1, Y + 1, color='blue', alpha=.25)\n",
    "\n",
    "plt.plot(X, Y - 1, color='blue', alpha=1.00)\n",
    "plt.fill_between(X, -1, Y - 1, (Y - 1) > -1, color='blue', alpha=.25)\n",
    "plt.fill_between(X, -1, Y - 1, (Y - 1) < -1, color='red',  alpha=.25)\n",
    "\n",
    "plt.xlim(-np.pi, np.pi)\n",
    "plt.xticks(())\n",
    "plt.ylim(-2.5, 2.5)\n",
    "plt.yticks(())\n",
    "\n",
    "plt.show()"
   ]
  },
  {
   "cell_type": "markdown",
   "metadata": {},
   "source": [
    "## 6 Example: Custom Scatter Plot"
   ]
  },
  {
   "cell_type": "code",
   "execution_count": null,
   "metadata": {
    "collapsed": false
   },
   "outputs": [],
   "source": [
    "n = 1000\n",
    "X = np.random.normal(0, 1, n)\n",
    "Y = np.random.normal(0, 1, n)\n",
    "T = np.arctan2(Y, X)\n",
    "\n",
    "plt.axes([0.025, 0.025, 0.95, 0.95])\n",
    "plt.scatter(X, Y, s=100, c=T, alpha=.5)\n",
    "\n",
    "plt.xlim(-1.5, 1.5)\n",
    "plt.xticks(())\n",
    "plt.ylim(-1.5, 1.5)\n",
    "plt.yticks(())\n",
    "\n",
    "plt.show()"
   ]
  },
  {
   "cell_type": "markdown",
   "metadata": {},
   "source": [
    "## 7 Example: Custom Histogram"
   ]
  },
  {
   "cell_type": "code",
   "execution_count": null,
   "metadata": {
    "collapsed": false
   },
   "outputs": [],
   "source": [
    "n = 12\n",
    "X = np.arange(n)\n",
    "Y1 = (1 - X / float(n)) * np.random.uniform(0.5, 1.0, n)\n",
    "Y2 = (1 - X / float(n)) * np.random.uniform(0.5, 1.0, n)\n",
    "\n",
    "plt.axes([0.025, 0.025, 0.95, 0.95])\n",
    "plt.bar(X, +Y1, facecolor='#9999ff', edgecolor='white')\n",
    "plt.bar(X, -Y2, facecolor='#ff9999', edgecolor='white')\n",
    "\n",
    "for x, y in zip(X, Y1):\n",
    "    plt.text(x + 0.4, y + 0.05, '{:.2f}'.format(y), ha='center', va= 'bottom')\n",
    "\n",
    "for x, y in zip(X, Y2):\n",
    "    plt.text(x + 0.4, -y - 0.05, '{:.2f}'.format(y), ha='center', va= 'top')\n",
    "\n",
    "plt.xlim(-.5, n)\n",
    "plt.xticks(())\n",
    "plt.ylim(-1.25, 1.25)\n",
    "plt.yticks(())\n",
    "\n",
    "plt.show()"
   ]
  },
  {
   "cell_type": "markdown",
   "metadata": {},
   "source": [
    "## 8 Example: Simple 3D Plot - Surface"
   ]
  },
  {
   "cell_type": "code",
   "execution_count": null,
   "metadata": {
    "collapsed": false
   },
   "outputs": [],
   "source": [
    "from mpl_toolkits.mplot3d import Axes3D\n",
    "\n",
    "fig = plt.figure(figsize=(8, 6))\n",
    "ax = Axes3D(fig)\n",
    "X = np.arange(-4, 4, 0.25)\n",
    "Y = np.arange(-4, 4, 0.25)\n",
    "X, Y = np.meshgrid(X, Y)\n",
    "R = np.sqrt(X ** 2 + Y ** 2)\n",
    "Z = np.sin(R)\n",
    "\n",
    "ax.plot_surface(X, Y, Z, rstride=1, cstride=1, cmap=plt.cm.hot)\n",
    "ax.contourf(X, Y, Z, zdir='z', offset=-2, cmap=plt.cm.hot)\n",
    "ax.set_zlim(-2, 2)\n",
    "\n",
    "plt.show()"
   ]
  },
  {
   "cell_type": "markdown",
   "metadata": {},
   "source": [
    "## 9 Example: Colormaps"
   ]
  },
  {
   "cell_type": "code",
   "execution_count": null,
   "metadata": {
    "collapsed": false
   },
   "outputs": [],
   "source": [
    "plt.rc('text', usetex=False)\n",
    "a = np.outer(np.arange(0,1,0.01), np.ones(10))\n",
    "plt.figure(figsize=(15,6))\n",
    "plt.subplots_adjust(top=0.8,bottom=0.05,left=0.01,right=0.99)\n",
    "maps = [m for m in plt.cm.datad if not m.endswith(\"_r\")]\n",
    "maps.sort()\n",
    "lenght = len(maps)+1\n",
    "for i, m in enumerate(maps):\n",
    "    plt.subplot(1,lenght,i+1)\n",
    "    plt.axis(\"off\")\n",
    "    plt.imshow(a, aspect='auto', cmap=plt.get_cmap(m), origin=\"lower\")\n",
    "    plt.title(m,rotation=90,fontsize=10)"
   ]
  },
  {
   "cell_type": "markdown",
   "metadata": {},
   "source": [
    "## 10 Example: Skew and Kurtosis"
   ]
  },
  {
   "cell_type": "code",
   "execution_count": null,
   "metadata": {
    "collapsed": false
   },
   "outputs": [],
   "source": [
    "# Author: Jake VanderPlas <vanderplas@astro.washington.edu>\n",
    "# License: BSD\n",
    "#   The figure produced by this code is published in the textbook\n",
    "#   \"Statistics, Data Mining, and Machine Learning in Astronomy\" (2013)\n",
    "#   For more information, see http://astroML.github.com\n",
    "import numpy as np\n",
    "from scipy import stats\n",
    "from matplotlib import pyplot as plt\n",
    "\n",
    "fig = plt.figure(figsize=(15, 6))\n",
    "fig.subplots_adjust(right=0.95, hspace=0.05)\n",
    "\n",
    "# First show distributions with different skeq\n",
    "ax = fig.add_subplot(121)\n",
    "x = np.linspace(-8, 8, 1000)\n",
    "N = stats.norm(0, 1)\n",
    "\n",
    "l1, = ax.plot(x, N.pdf(x), '-k',\n",
    "              label=r'${\\rm Gaussian,}\\ \\Sigma=0$')\n",
    "\n",
    "l2, = ax.plot(x, 0.5 * N.pdf(x) * (2 + x + 0.5 * (x * x - 1)),\n",
    "              '--k', label=r'${\\rm mod.\\ Gauss,}\\ \\Sigma=-0.36$')\n",
    "l3, = ax.plot(x[499:], stats.lognorm(1.2).pdf(x[499:]), '-.k',\n",
    "              label=r'$\\rm log\\ normal,\\ \\Sigma=11.2$')\n",
    "\n",
    "ax.set_xlim(-5, 5)\n",
    "ax.set_ylim(0, 0.7001)\n",
    "ax.set_ylabel('$p(x)$', fontsize=16)\n",
    "ax.xaxis.set_major_formatter(plt.NullFormatter())\n",
    "\n",
    "# trick to show multiple legends\n",
    "leg1 = ax.legend([l1], [l1.get_label()], loc=1)\n",
    "leg2 = ax.legend([l2, l3], (l2.get_label(), l3.get_label()), loc=2)\n",
    "ax.add_artist(leg1)\n",
    "ax.set_title('Skew $\\Sigma$ and Kurtosis $K$')\n",
    "\n",
    "# next show distributions with different kurtosis\n",
    "ax = fig.add_subplot(122)\n",
    "x = np.linspace(-5, 5, 1000)\n",
    "l1, = ax.plot(x, stats.laplace(0, 1).pdf(x), '--k',\n",
    "              label=r'${\\rm Laplace,}\\ K=+3$')\n",
    "l2, = ax.plot(x, stats.norm(0, 1).pdf(x), '-k',\n",
    "              label=r'${\\rm Gaussian,}\\ K=0$')\n",
    "l3, = ax.plot(x, stats.cosine(0, 1).pdf(x), '-.k',\n",
    "              label=r'${\\rm Cosine,}\\ K=-0.59$')\n",
    "l4, = ax.plot(x, stats.uniform(-2, 4).pdf(x), ':k',\n",
    "              label=r'${\\rm Uniform,}\\ K=-1.2$')\n",
    "\n",
    "ax.set_xlim(-5, 5)\n",
    "ax.set_ylim(0, 0.6001)\n",
    "ax.set_xlabel('$x$', fontsize=16)\n",
    "ax.set_ylabel('$p(x)$', fontsize=16)\n",
    "\n",
    "# trick to show multiple legends\n",
    "leg1 = ax.legend((l1, l2), (l1.get_label(), l2.get_label()), loc=2)\n",
    "leg2 = ax.legend((l3, l4), (l3.get_label(), l4.get_label()), loc=1)\n",
    "ax.add_artist(leg1)\n",
    "\n",
    "plt.show()"
   ]
  },
  {
   "cell_type": "code",
   "execution_count": null,
   "metadata": {
    "collapsed": false
   },
   "outputs": [],
   "source": []
  },
  {
   "cell_type": "markdown",
   "metadata": {},
   "source": [
    "---\n",
    "\n",
    "Visit [www.add-for.com](<http://www.add-for.com/IT>) for more tutorials and updates.\n",
    "\n",
    "This work is licensed under a <a rel=\"license\" href=\"http://creativecommons.org/licenses/by-sa/4.0/\">Creative Commons Attribution-ShareAlike 4.0 International License</a>."
   ]
  },
  {
   "cell_type": "code",
   "execution_count": null,
   "metadata": {
    "collapsed": true
   },
   "outputs": [],
   "source": []
  }
 ],
 "metadata": {
  "kernelspec": {
   "display_name": "Python 2",
   "language": "python",
   "name": "python2"
  },
  "language_info": {
   "codemirror_mode": {
    "name": "ipython",
    "version": 2
   },
   "file_extension": ".py",
   "mimetype": "text/x-python",
   "name": "python",
   "nbconvert_exporter": "python",
   "pygments_lexer": "ipython2",
   "version": "2.7.10"
  }
 },
 "nbformat": 4,
 "nbformat_minor": 0
}
