{
 "cells": [
  {
   "cell_type": "markdown",
   "metadata": {
    "slideshow": {
     "slide_type": "slide"
    }
   },
   "source": [
    "\n",
    "# IPython notebook basics\n",
    "A system for interactive and reproducible computing\n",
    "![](../img/ipython.png)"
   ]
  },
  {
   "cell_type": "markdown",
   "metadata": {
    "slideshow": {
     "slide_type": "slide"
    }
   },
   "source": [
    "## Some Helpful Commands\n",
    "* __We are now live in an IPython Notebook sessions!__\n",
    "\n",
    "__Command__     |  __Description__ | \n",
    "------------|-----------  | |\n",
    "?           |  Overview of IPython's features \n",
    "%quickref   |  Quick reference. \n",
    "help        |  Python's own help system. \n",
    "object?     |  Inspect an object     "
   ]
  },
  {
   "cell_type": "markdown",
   "metadata": {
    "slideshow": {
     "slide_type": "slide"
    }
   },
   "source": [
    "## Notebook Basics\n",
    "The IPython Notebook is a web-based interactive computational environment where you can:\n",
    "* Combine code execution \n",
    "* Text \n",
    "* Mathematics\n",
    "* Plots and rich media into a single document\n",
    "* Used to teach classes (Berkley), talks, publish papers etc.\n",
    "dddd\n",
    "It also features:\n",
    "* Code Completion\n",
    "* Help and Docstrings\n",
    "* Markdown cells for composing documents\n",
    "* Run it locally or on any webserver with Python installed\n",
    "\n",
    "\n",
    "#### Everything you see here is standard Python and Markdown code running in a browser on top of an IPython kernel using Python 2.7                 `"
   ]
  },
  {
   "cell_type": "markdown",
   "metadata": {
    "slideshow": {
     "slide_type": "slide"
    }
   },
   "source": [
    "## Let’s Get Started\n",
    "\n",
    "* Each cell is populated with Markdown or Python Code\n",
    "* This is a markdown cell (Double Click To Reveal)\n",
    "* The notebook is currently in presentation mode\n",
    "* Running a cell \n",
    " * _SHIFT+ENTER_ will run the contents of a cell and move to the next one\n",
    " * _CTRL+ENTER_ run the cell in place and don't move to the next cell\n",
    "* Help\n",
    " * _CTRL-m h_ show keyboard shortcuts\n",
    "* Save\n",
    " * At any point, even when the Kernel is busy, you can press _CTRL-S_ to save the notebook\n",
    "\n",
    "\n"
   ]
  },
  {
   "cell_type": "code",
   "execution_count": null,
   "metadata": {
    "collapsed": false,
    "slideshow": {
     "slide_type": "slide"
    }
   },
   "outputs": [],
   "source": [
    "# press shift-enter to run code\n",
    "\n",
    "# Create and Set Variable a to the value of 4\n",
    "a = 4\n",
    "\n",
    "# Create and Set Variable b to the value of 2\n",
    "b = 3\n",
    "\n",
    "print \"Hallo Denel\"\n",
    "print \"a + b =\", a+b\n",
    "\n",
    "print \"Now this is weird a/b = \", a/b\n",
    "\n",
    "b = 3.0 #<---- Be Carefull\n",
    "\n",
    "print \"This is even weirder a/b = \", a/b"
   ]
  },
  {
   "cell_type": "markdown",
   "metadata": {
    "slideshow": {
     "slide_type": "slide"
    }
   },
   "source": [
    "## Using the Help System\n",
    "* The `%quickref` command can be used to obtain a bit more information"
   ]
  },
  {
   "cell_type": "code",
   "execution_count": null,
   "metadata": {
    "collapsed": false,
    "slideshow": {
     "slide_type": "slide"
    }
   },
   "outputs": [],
   "source": [
    "#IPython -- An enhanced Interactive Python - Quick Reference Card\n",
    "%quickref  # now press shift-enter"
   ]
  },
  {
   "cell_type": "markdown",
   "metadata": {
    "slideshow": {
     "slide_type": "slide"
    }
   },
   "source": [
    "## Code Completion and Introspection\n",
    "\n",
    "* The next cell defines a function with a bit of a long name \n",
    "* By using the `?` command the docstring can we viewed\n",
    "* `??` will open up the source code\n",
    "* The autocomplete function is also demonstrated"
   ]
  },
  {
   "cell_type": "code",
   "execution_count": null,
   "metadata": {
    "collapsed": false,
    "slideshow": {
     "slide_type": "slide"
    }
   },
   "outputs": [],
   "source": [
    "# lets degine a function with a long name.\n",
    "def long_silly_dummy_name(a, b):\n",
    "    \"\"\"\n",
    "    This is the docstring for this function \n",
    "    It takes two arguments a and b\n",
    "    It returns the sum of a+5 and b*5\n",
    "    No error checking is done!\n",
    "    \"\"\"\n",
    "    a += 5\n",
    "    b *= 5\n",
    "    return a+b\n",
    "\n",
    "\n",
    "def long_silly_dummy_name_2(a, b):\n",
    "    \"\"\"\n",
    "    This is the docstring for this function \n",
    "    It takes two arguments a and b\n",
    "    It returns the sum of a+5 and b*5\n",
    "    No error checking is done!\n",
    "    \"\"\"\n",
    "    a += 5\n",
    "    b *= 5\n",
    "    return a+b\n",
    "\n",
    "# again we press SHIFT-Enter\n",
    "# this will run the function and add it to the namespace\n",
    "\n",
    "for i in dir():\n",
    "    if \"silly\" in i: \n",
    "        print i"
   ]
  },
  {
   "cell_type": "code",
   "execution_count": null,
   "metadata": {
    "collapsed": false,
    "slideshow": {
     "slide_type": "slide"
    }
   },
   "outputs": [],
   "source": [
    "# lets get the docstring or some help\n",
    "long_silly_dummy_name?\n",
    "\n",
    "# This will open a tab at the bottom of the web page\n",
    "# You can close it by clicking on the small cross on the right"
   ]
  },
  {
   "cell_type": "code",
   "execution_count": null,
   "metadata": {
    "collapsed": false,
    "slideshow": {
     "slide_type": "slide"
    }
   },
   "outputs": [],
   "source": [
    "#view the source\n",
    "long_silly_dummy_name??"
   ]
  },
  {
   "cell_type": "code",
   "execution_count": null,
   "metadata": {
    "collapsed": false,
    "slideshow": {
     "slide_type": "slide"
    }
   },
   "outputs": [],
   "source": [
    "#press tab to autocplete\n",
    "long_silly_dummy_name_2"
   ]
  },
  {
   "cell_type": "code",
   "execution_count": null,
   "metadata": {
    "collapsed": false,
    "slideshow": {
     "slide_type": "slide"
    }
   },
   "outputs": [],
   "source": [
    "# press shift-enter to run\n",
    "long_silly_dummy_name(5,6)"
   ]
  },
  {
   "cell_type": "markdown",
   "metadata": {
    "slideshow": {
     "slide_type": "slide"
    }
   },
   "source": [
    "## Using markdown\n",
    "* You can set the contents type of a cell in the toolbar above. \n",
    "* When Markdown is selected you can enter markdown in a cell and its contents will be rendered as HTML. \n",
    "\n",
    "1. The markdown syntax can be [found here](http://daringfireball.net/projects/markdown/)\n",
    "\n",
    "# This is heading 1\n",
    "## This is heading 2\n",
    "### This is heading 5\n",
    "\n",
    "|IPython       |Python|\n",
    "|------------|---  |\n",
    "|![](../img/ipython.png)| ![](../img/python.png)|\n",
    "\n",
    "> Beautiful is better than ugly.\n",
    "    Explicit is better than implicit.\n",
    "    Simple is better than complex.\n",
    "    Complex is better than complicated."
   ]
  },
  {
   "cell_type": "markdown",
   "metadata": {
    "slideshow": {
     "slide_type": "slide"
    }
   },
   "source": [
    "## IPython and Notebook Magics\n",
    "* IPython has a set of predefined ‘magic functions’ that you can call with a command line style syntax\n",
    "* Think of them as little helper macro's/funcions\n",
    "* There are two kinds of magics, line-oriented and cell-oriented\n",
    " * ___Line magics___ are prefixed with the `%` character and work much like OS command-line calls: they get as an argument the rest of the line, where arguments are passed without parentheses or quotes. \n",
    " * ___Cell magics___ are prefixed with a double `%%`, and they are functions that get as an argument not only the rest of the line, but also the lines below it in a separate argument"
   ]
  },
  {
   "cell_type": "markdown",
   "metadata": {
    "slideshow": {
     "slide_type": "slide"
    }
   },
   "source": [
    "## timeit magic\n",
    "* The `%%timeit` magic can be used to evaluate the average time your loop or piece of code is taking to complete"
   ]
  },
  {
   "cell_type": "code",
   "execution_count": null,
   "metadata": {
    "collapsed": false,
    "slideshow": {
     "slide_type": "slide"
    }
   },
   "outputs": [],
   "source": [
    "%%timeit \n",
    "x = 0   # setup\n",
    "for i in xrange(100000):    #lets use range here\n",
    "    x = x + i**2\n",
    "    x = x + i**2\n",
    "    "
   ]
  },
  {
   "cell_type": "code",
   "execution_count": null,
   "metadata": {
    "collapsed": false,
    "slideshow": {
     "slide_type": "slide"
    }
   },
   "outputs": [],
   "source": [
    "%%timeit \n",
    "x = 0   # setup\n",
    "for i in xrange(100000):   #replace range with slightly improved xrange\n",
    "    x += i**2"
   ]
  },
  {
   "cell_type": "markdown",
   "metadata": {
    "slideshow": {
     "slide_type": "slide"
    }
   },
   "source": [
    "## Running Shell Commands\n",
    "* I now use IPython as my default shell scripting language\n",
    "* Example - put the contents of the current directory into a list and count the file types\n",
    "* The `!` before a command indicates that you want to run a system command."
   ]
  },
  {
   "cell_type": "code",
   "execution_count": null,
   "metadata": {
    "collapsed": false,
    "slideshow": {
     "slide_type": "slide"
    }
   },
   "outputs": [],
   "source": [
    "filelist = !ls                 #read the current directory into variable\n",
    "\n",
    "\n",
    "d ={}\n",
    "for x,i in enumerate(filelist):\n",
    "    \n",
    "    #print '#',x, '--->', i\n",
    "    key = i[i.find(\".\")+1:len(i)]\n",
    "    if d.has_key(key):\n",
    "        d[i[i.find(\".\")+1:len(i)]] += 1\n",
    "    else:\n",
    "        d[i[i.find(\".\")+1:len(i)]] = 1\n",
    "    \n",
    "\n",
    "for key in d:\n",
    "    print key, d[key]\n"
   ]
  },
  {
   "cell_type": "markdown",
   "metadata": {
    "slideshow": {
     "slide_type": "slide"
    }
   },
   "source": [
    "## Embedding Images\n",
    "* Images can be added using Python code\n",
    "* Or by adding inline HTML\n",
    "* This slide shows inline html (double click to show)\n",
    "* The next slide will use Python syntax to add it\n",
    "\n",
    "<img src=\"../img/py23.png\" alt=\"some_text\">"
   ]
  },
  {
   "cell_type": "markdown",
   "metadata": {
    "slideshow": {
     "slide_type": "slide"
    }
   },
   "source": [
    "## Typesetting\n",
    "\n",
    "### LaTex\n",
    "* LaTex is rendered using the mathjax.js JavaScript library    "
   ]
  },
  {
   "cell_type": "code",
   "execution_count": null,
   "metadata": {
    "collapsed": false,
    "slideshow": {
     "slide_type": "slide"
    }
   },
   "outputs": [],
   "source": [
    "from IPython.display import Math\n",
    "Math(r'F(k) = \\int_{-\\infty}^{\\infty} f(x) e^{2\\pi i k} dx')"
   ]
  },
  {
   "cell_type": "code",
   "execution_count": null,
   "metadata": {
    "collapsed": false,
    "slideshow": {
     "slide_type": "slide"
    }
   },
   "outputs": [],
   "source": [
    "from IPython.display import Latex\n",
    "Latex(r\"\"\"\\begin{eqnarray}\n",
    "\\nabla \\times \\vec{\\mathbf{B}} -\\, \\frac1c\\, \\frac{\\partial\\vec{\\mathbf{E}}}{\\partial t} & = \\frac{4\\pi}{c}\\vec{\\mathbf{j}} \\\\\n",
    "\\nabla \\cdot \\vec{\\mathbf{E}} & = 4 \\pi \\rho \\\\\n",
    "\\nabla \\times \\vec{\\mathbf{E}}\\, +\\, \\frac1c\\, \\frac{\\partial\\vec{\\mathbf{B}}}{\\partial t} & = \\vec{\\mathbf{0}} \\\\\n",
    "\\nabla \\cdot \\vec{\\mathbf{B}} & = 0 \n",
    "\\end{eqnarray}\"\"\")"
   ]
  }
 ],
 "metadata": {
  "celltoolbar": "Slideshow",
  "kernelspec": {
   "display_name": "Python 2",
   "language": "python",
   "name": "python2"
  },
  "language_info": {
   "codemirror_mode": {
    "name": "ipython",
    "version": 2
   },
   "file_extension": ".py",
   "mimetype": "text/x-python",
   "name": "python",
   "nbconvert_exporter": "python",
   "pygments_lexer": "ipython2",
   "version": "2.7.9"
  }
 },
 "nbformat": 4,
 "nbformat_minor": 0
}
